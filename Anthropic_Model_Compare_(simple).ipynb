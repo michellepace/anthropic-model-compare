{
  "nbformat": 4,
  "nbformat_minor": 0,
  "metadata": {
    "colab": {
      "provenance": [],
      "toc_visible": true,
      "authorship_tag": "ABX9TyPVkcFuF5RLMF3pMh8F8msK",
      "include_colab_link": true
    },
    "kernelspec": {
      "name": "python3",
      "display_name": "Python 3"
    },
    "language_info": {
      "name": "python"
    }
  },
  "cells": [
    {
      "cell_type": "markdown",
      "metadata": {
        "id": "view-in-github",
        "colab_type": "text"
      },
      "source": [
        "<a href=\"https://colab.research.google.com/github/michellepace/anthropic-model-compare/blob/main/Anthropic_Model_Compare_(simple).ipynb\" target=\"_parent\"><img src=\"https://colab.research.google.com/assets/colab-badge.svg\" alt=\"Open In Colab\"/></a>"
      ]
    },
    {
      "cell_type": "markdown",
      "source": [
        "<dif class=\"markdown-google-sans\">\n",
        "<font size=\"6\">\n",
        "<b>Anthropic Models: A Surprising Measured Comparison</b>\n",
        "</font></div>\n",
        "\n",
        "<br>\n",
        "\n",
        "<br>\n",
        "\n",
        "<div class=\"markdown-google-sans\">\n",
        "<b>Speed • Capability • Cost</b>\n",
        "</div>\n",
        "\n",
        "---\n",
        "\n",
        "<div class=\"markdown-google-sans\">\n",
        "<font size=\"4\">\n",
        "How five Anthropic models compare as measured by two simple prompts. Visually compares speed, capability, and costs. You need an Anthropic API key and $0.98 to run this notebook, or you can load <a href=\"https://github.com/michellepace/anthropic-model-compare/tree/main\" target=\"_blank\">these</a> historical results. This notebook is the base analysis for <a href=\"https://ailearnlog.com/pushing-aside-the-bench-for-the-mark/\" target=\"_blank\">Pushing Aside the Bench for the Mark</a> (short article).\n",
        "</font>\n",
        "</div>\n",
        "\n",
        "<br>\n",
        "\n",
        "<div class=\"markdown-google-sans\">\n",
        "  <font size=\"3\">Contents</font>\n",
        "  <ul>\n",
        "  <li><a href=\"#id-setup\">Setup</a></li>\n",
        "  <li><a href=\"#id-run-tests\">Run Tests</a></li>\n",
        "  <li><a href=\"#id-speed-results\">Speed Results</a></li>\n",
        "  <li><a href=\"#id-capability-results\">Capability Results</a></li>\n",
        "  <li><a href=\"#id-costs\">Costs</a></li>\n",
        "  <li><a href=\"#id-results-summary\">Results Summary</a></li>\n",
        "  </ul>\n",
        "</div>\n",
        "\n",
        "<br>"
      ],
      "metadata": {
        "id": "wtorDG_RGCg3"
      }
    },
    {
      "cell_type": "markdown",
      "source": [
        "<br><a name=\"id-setup\"></a>\n",
        "# **SETUP**"
      ],
      "metadata": {
        "id": "r2-rycBVIuaP"
      }
    },
    {
      "cell_type": "markdown",
      "source": [
        "## Libraries"
      ],
      "metadata": {
        "id": "y-bGezniIxH-"
      }
    },
    {
      "cell_type": "code",
      "source": [
        "# Install libraries that aren't pre-installed.\n",
        "try:\n",
        "    !pip install --upgrade-strategy only-if-needed --quiet anthropic langchain\n",
        "    print(\"Success! All required libraries are installed.\")\n",
        "except Exception as e:\n",
        "    print(f\"An error occurred during library installation: {str(e)}\")\n",
        "\n",
        "\n",
        "# Import all used libraries.\n",
        "try:\n",
        "    from google.colab import userdata   # To access your Colab Secret: ANTHROPIC_API_KEY\n",
        "    from google.colab import drive      # Saving nd loading results from your Google Drive\n",
        "    from pathlib import Path\n",
        "    from anthropic import Anthropic, APIError\n",
        "    import pandas as pd\n",
        "    import plotly.express as px\n",
        "    import textwrap\n",
        "    print(\"Success! Library imports are complete.\")\n",
        "\n",
        "except Exception as e:\n",
        "    print(f\"An error occurred during library importation: {str(e)}\")"
      ],
      "metadata": {
        "colab": {
          "base_uri": "https://localhost:8080/"
        },
        "id": "2Ul3WtQqI124",
        "outputId": "0cc13e79-3407-491e-ba2e-4afea030ff46"
      },
      "execution_count": null,
      "outputs": [
        {
          "output_type": "stream",
          "name": "stdout",
          "text": [
            "\u001b[?25l   \u001b[90m━━━━━━━━━━━━━━━━━━━━━━━━━━━━━━━━━━━━━━━━\u001b[0m \u001b[32m0.0/222.8 kB\u001b[0m \u001b[31m?\u001b[0m eta \u001b[36m-:--:--\u001b[0m\r\u001b[2K   \u001b[91m━━━━━━━━━━━━━━━━━━━━━━━━━━━━━━━━━━\u001b[0m\u001b[91m╸\u001b[0m\u001b[90m━━━━━\u001b[0m \u001b[32m194.6/222.8 kB\u001b[0m \u001b[31m5.6 MB/s\u001b[0m eta \u001b[36m0:00:01\u001b[0m\r\u001b[2K   \u001b[90m━━━━━━━━━━━━━━━━━━━━━━━━━━━━━━━━━━━━━━━━\u001b[0m \u001b[32m222.8/222.8 kB\u001b[0m \u001b[31m4.5 MB/s\u001b[0m eta \u001b[36m0:00:00\u001b[0m\n",
            "\u001b[?25hSuccess! All required libraries are installed.\n",
            "Success! Library imports are complete.\n"
          ]
        }
      ]
    },
    {
      "cell_type": "markdown",
      "source": [
        "## Anthropic API"
      ],
      "metadata": {
        "id": "5VBs75eBLQw_"
      }
    },
    {
      "cell_type": "code",
      "source": [
        "# @title Set API key ⭐ { vertical-output: true, display-mode: \"form\" }\n",
        "#@markdown **Instructions:**<br>\n",
        "\n",
        "#@markdown **Step 1:** Create an [Anthropic API key](https://console.anthropic.com/settings/keys).<br>\n",
        "#@markdown **Step 2:** Then run this cell by clicking the 'play' icon just under the title.<br>\n",
        "#@markdown **Step 3:** you will be guided to setup a Colab secret if you don't have one.<br>\n",
        "\n",
        "#@markdown\n",
        "\n",
        "anthropic_api_secret_name = 'ANTHROPIC_API_KEY'  # @param {type: \"string\"}\n",
        "\n",
        "def test_anthropic_connection(anthropic_client: Anthropic) -> None:\n",
        "    my_test_prompt = \"Hello Claude, have I connected to you? (answer briefly!)\"\n",
        "    print()\n",
        "    try:\n",
        "        message = anthropic_client.messages.create(\n",
        "            model=\"claude-3-5-sonnet-latest\",\n",
        "            max_tokens=20,\n",
        "            messages=[{\"role\": \"user\", \"content\": my_test_prompt}]\n",
        "        )\n",
        "        print(\"Success!\\nAPI key is valid and working.\")\n",
        "        print(f\"• My prompt was:  {my_test_prompt}\")\n",
        "        print(f\"• Claude responded: {message.content[0].text}\")\n",
        "\n",
        "    except APIError as e:\n",
        "        print(f\"API error occurred: {e}\")\n",
        "        raise KeyboardInterrupt(\"Connection test failed. Stopping execution 🛑.\") from e\n",
        "    except Exception as e:\n",
        "        print(f\"Unexpected error occurred: {e}\")\n",
        "        raise KeyboardInterrupt(\"Connection test failed. Stopping execution 🛑.\") from e\n",
        "\n",
        "\n",
        "def validate_anthropic_api_key_format(api_key):\n",
        "    if not api_key.startswith('sk-'):\n",
        "        raise ValueError(\"Anthropic API keys start with \\\"sk-\\\"\")\n",
        "    if ' ' in api_key:\n",
        "        raise ValueError(\"Anthropic API keys don't have white spaces.\")\n",
        "    if len(api_key) <= 100:\n",
        "        raise ValueError(\"Anthropic API keys are longer than 100 characters.\")\n",
        "\n",
        "\n",
        "def get_anthropic_api_key(secret_name):\n",
        "    try:\n",
        "        api_key = userdata.get(secret_name)\n",
        "        validate_anthropic_api_key_format(api_key)\n",
        "        print(\"Success!\")\n",
        "        print(f'Your Colab secret \"{secret_name}\" was found.')\n",
        "        print(f\"• If the secret contains a valid API Key, we can connect to Claude.\")\n",
        "        print(f'• To change API Key: Click the \"key\" icon in left handside panel, delete \"{secret_name}\", rerun this block.')\n",
        "        return api_key\n",
        "\n",
        "    except userdata.SecretNotFoundError:\n",
        "        print(f\"🛑 Error: Colab secret '{secret_name}' not found in your Colab environment\")\n",
        "        print(\" To fix:\")\n",
        "        print(f\" 1. Click the \\\"key\\\" icon on the left of this Notebook\")\n",
        "        print(f\" 2. Add new secret with name '{secret_name}'\")\n",
        "        print(f\" 3. Set value to Anthropic API key from: https://console.anthropic.com/settings/keys\")\n",
        "        print(f\" 4. Rerun this block and follow next instructions\")\n",
        "        print(\" About Colab secrets: https://bit.ly/4cad0v7\")\n",
        "        print(\"🛑🛑🛑\\n\")\n",
        "        raise\n",
        "    except userdata.NotebookAccessError:\n",
        "        print(f\"🛑 Error: You denied this Notebook access to your Colab secret '{secret_name}'\")\n",
        "        print(\" To fix:\")\n",
        "        print(\" 1. Rerun this block and click \\\"Grant access\\\"\")\n",
        "        print(\" About Colab secrets: https://bit.ly/4cad0v7\")\n",
        "        print(\" Worried about safety? Save your own copy of this Notebook and run that.\")\n",
        "        print(\"🛑🛑🛑\\n\")\n",
        "        raise\n",
        "    except ValueError as ve:\n",
        "        print(f\"🛑 Error: Invalid format, {str(ve)}\")\n",
        "        print(\" To fix:\")\n",
        "        print(f\" 1. Click the \\\"key\\\" icon on the left of this Notebook\")\n",
        "        print(f\" 2. Delete '{anthropic_api_secret_name}'\")\n",
        "        print(f\" 4. Rerun this block and follow next instructions\")\n",
        "        print(\"🛑🛑🛑\\n\")\n",
        "        raise\n",
        "    except Exception as e:\n",
        "        print(\"🛑 Unexpected error occurred\")\n",
        "        print(\" Please check:\")\n",
        "        print(f\" 1. '{secret_name}' secret exists in Colab (click \\\"key\\\" icon on the left)\")\n",
        "        print(\" 2. Secret value is a valid Anthropic API key\")\n",
        "        print(\" Get API key: https://console.anthropic.com/settings/keys\")\n",
        "        print(\" About Colab secrets: https://bit.ly/4cad0v7\")\n",
        "        print(\"🛑🛑🛑\\n\")\n",
        "        raise\n",
        "\n",
        "\n",
        "### Do the work\n",
        "MY_ANTHROPIC_API_KEY = get_anthropic_api_key(anthropic_api_secret_name)\n",
        "### Do the work\n",
        "\n",
        "ANTHROPIC_CLIENT = Anthropic(\n",
        "    api_key=MY_ANTHROPIC_API_KEY, # From: \"Set Secret API key ⭐\"\n",
        "    max_retries=2, # Maximum retry attempts\n",
        "    timeout=10, # Timeout of the retry\n",
        ")\n",
        "\n",
        "test_anthropic_connection(ANTHROPIC_CLIENT)"
      ],
      "metadata": {
        "colab": {
          "base_uri": "https://localhost:8080/"
        },
        "id": "pATHrKedLTR7",
        "outputId": "b44995b6-6018-47e2-9e6b-519e8a030ede"
      },
      "execution_count": null,
      "outputs": [
        {
          "output_type": "stream",
          "name": "stdout",
          "text": [
            "Success!\n",
            "Your Colab secret \"ANTHROPIC_API_KEY\" was found.\n",
            "• If the secret contains a valid API Key, we can connect to Claude.\n",
            "• To change API Key: Click the \"key\" icon in left handside panel, delete \"ANTHROPIC_API_KEY\", rerun this block.\n",
            "\n",
            "Success!\n",
            "API key is valid and working.\n",
            "• My prompt was:  Hello Claude, have I connected to you? (answer briefly!)\n",
            "• Claude responded: Yes, I'm here and ready to help!\n"
          ]
        }
      ]
    },
    {
      "cell_type": "code",
      "source": [
        "# @title Set Google Drive ⭐ { vertical-output: true, display-mode: \"form\" }\n",
        "#@markdown **Instructions:**\n",
        "\n",
        "#@markdown **Step 1:** Specify where to save RESULTS in Google Drive (see Example below)<br>\n",
        "#@markdown **Step 2:** Run this cell by clicking the little \"play\" icon just under the title<br>\n",
        "\n",
        "#@markdown **Example:**<br>\n",
        "#@markdown - Google Drive paths ALWAYS start with: <font color='#FF1493'>/content/​drive/​MyDrive/</font><br>\n",
        "#@markdown - For example: `/content/drive/MyDrive/my-output-folder/`<br><br>\n",
        "\n",
        "output_drive_path = '/content/drive/MyDrive/my-output-folder/' #@param {type:\"string\", placeholder:\"(here is an example)   /content/drive/MyDrive/MyOutputFolder/\"}\n",
        "\n",
        "def map_to_drive_path(drive_path: str) -> Path:\n",
        "    \"\"\"Maps to a given Google Drive path and returns the Path object.\n",
        "    Creates the folder if it doesn't exist.\n",
        "\n",
        "    @Args: drive_path: String path to a folder on Google Drive.\n",
        "    @Returns: Path object of the mapped drive path.\n",
        "    @Raises: ValueError: If the path is invalid.\n",
        "    \"\"\"\n",
        "\n",
        "    if not drive_path.strip():\n",
        "        raise ValueError(\"No drive path provided.\")\n",
        "\n",
        "    if not Path('/content/drive').exists():\n",
        "        drive.mount('/content/drive')\n",
        "\n",
        "    path = Path(drive_path)\n",
        "\n",
        "    if not path.is_dir():\n",
        "        if not path.parent.exists():\n",
        "            raise ValueError(f\"Parent directory '{path.parent}' does not exist.\")\n",
        "        path.mkdir(parents=True, exist_ok=True)\n",
        "        print(\"\\nSuccess!\")\n",
        "        print(f\"• Created folder: {path.absolute()}\")\n",
        "\n",
        "    print(\"Success!\")\n",
        "    print(f\"• Mapped to Google Drive path: {path.absolute()}\")\n",
        "    return path\n",
        "\n",
        "# Map to the specified drive path\n",
        "try:\n",
        "    output_drive_path = map_to_drive_path(output_drive_path)\n",
        "except ValueError as e:\n",
        "    print(f\"🛑 Error: {e}\")\n",
        "    print(\"Ensure the path is a valid folder in your Google Drive.\")\n",
        "except Exception as e:\n",
        "    print(f\"🛑 Unexpected error: {e}\")"
      ],
      "metadata": {
        "colab": {
          "base_uri": "https://localhost:8080/"
        },
        "id": "25LZEQ4kOA1K",
        "outputId": "f3ff1ebf-b580-419f-cad2-187801d5d4fc"
      },
      "execution_count": null,
      "outputs": [
        {
          "output_type": "stream",
          "name": "stdout",
          "text": [
            "Mounted at /content/drive\n",
            "\n",
            "Success!\n",
            "• Created folder: /content/drive/MyDrive/my-output-folder\n",
            "Success!\n",
            "• Mapped to Google Drive path: /content/drive/MyDrive/my-output-folder\n"
          ]
        }
      ]
    },
    {
      "cell_type": "markdown",
      "source": [
        "## Test Set"
      ],
      "metadata": {
        "id": "9ISrRREWNa_0"
      }
    },
    {
      "cell_type": "markdown",
      "source": [
        "### Runs & Output"
      ],
      "metadata": {
        "id": "9IyrGT02NpeZ"
      }
    },
    {
      "cell_type": "code",
      "source": [
        "TOTAL_RUNS = 50\n",
        "\n",
        "OUTPUT_FILE = 'RESULTS.csv'\n",
        "full_output_path = Path(output_drive_path) / OUTPUT_FILE\n",
        "\n",
        "print(f'Success!')\n",
        "print(f'• Test prompts will be run (x{TOTAL_RUNS}) times for every model.')\n",
        "print(f'• Test results will be saved to: {full_output_path}')"
      ],
      "metadata": {
        "colab": {
          "base_uri": "https://localhost:8080/"
        },
        "id": "41AZ5h93Ns9-",
        "outputId": "2a526e84-027e-4898-b085-455dc85fd027"
      },
      "execution_count": null,
      "outputs": [
        {
          "output_type": "stream",
          "name": "stdout",
          "text": [
            "Success!\n",
            "• Test prompts will be run (x50) times for every model.\n",
            "• Test results will be saved to: /content/drive/MyDrive/my-output-folder/RESULTS.csv\n"
          ]
        }
      ]
    },
    {
      "cell_type": "markdown",
      "source": [
        "### Test Prompts"
      ],
      "metadata": {
        "id": "Gdv74pKNUlwL"
      }
    },
    {
      "cell_type": "code",
      "source": [
        "SPEED_PROMPT = 'Explain photosynthesis in a concise paragraph.'\n",
        "\n",
        "CAPABILITY_PROMPT = {\n",
        "'prompt': \"\"\"What is the geometric monthly fecal coliform mean of a distribution \\\n",
        "system with the following FC counts: 24, 15, 7, 16, 31 and 23? The result will be \\\n",
        "inputted into a NPDES DMR, therefore, round to the nearest whole number. \\n\\\n",
        "**IMPORTANT!!:** Respond only with a number and strictly nothing else!!\"\"\",\n",
        "\n",
        "'number_solution': 18\n",
        "}\n",
        "\n",
        "def wrap_my_prompt(text_to_wrap: str, subtext: str = '', width: int = 80) -> str:\n",
        "    title = f'Test Prompt ({subtext}):'\n",
        "    header = f'{title}\\n{\"~\" * len(title)}\\n'\n",
        "    wrapped_text = textwrap.fill(text_to_wrap, width=width, replace_whitespace=False)\n",
        "    return header + wrapped_text + '\\n'\n",
        "\n",
        "\n",
        "print('Success! Test prompts are setup:\\n')\n",
        "print(wrap_my_prompt(SPEED_PROMPT, 'speed'))\n",
        "print(wrap_my_prompt(CAPABILITY_PROMPT['prompt'], 'capability'))"
      ],
      "metadata": {
        "colab": {
          "base_uri": "https://localhost:8080/"
        },
        "id": "uiYIqKmPTn6P",
        "outputId": "8789dda1-1ef4-46a2-d6ca-b39499e8d9d7"
      },
      "execution_count": null,
      "outputs": [
        {
          "output_type": "stream",
          "name": "stdout",
          "text": [
            "Success! Test prompts are setup:\n",
            "\n",
            "Test Prompt (speed):\n",
            "~~~~~~~~~~~~~~~~~~~~\n",
            "Explain photosynthesis in a concise paragraph.\n",
            "\n",
            "Test Prompt (capability):\n",
            "~~~~~~~~~~~~~~~~~~~~~~~~~\n",
            "What is the geometric monthly fecal coliform mean of a distribution system with\n",
            "the following FC counts: 24, 15, 7, 16, 31 and 23? The result will be inputted\n",
            "into a NPDES DMR, therefore, round to the nearest whole number.\n",
            "**IMPORTANT!!:** Respond only with a number and strictly nothing else!!\n",
            "\n"
          ]
        }
      ]
    },
    {
      "cell_type": "markdown",
      "source": [
        "### Test Models\n",
        "Source [Anthropic Docs](https://docs.anthropic.com/en/docs/about-claude/models), 1st Feb, 2025."
      ],
      "metadata": {
        "id": "pSmv8RIyUzG0"
      }
    },
    {
      "cell_type": "code",
      "source": [
        "MODELS = [\n",
        "    {\n",
        "        'snapshot': 'current',    # As of 1st Feb, 2025\n",
        "        'model_family': 'Opus',\n",
        "        'model': 'claude-3-opus-20240229',\n",
        "        'model_name': 'Opus 3 (Feb 2024)',\n",
        "        'cost_input_mtok': 15.00,   # US$ per million tokens\n",
        "        'cost_output_mtok': 75.00,  # US$ per million tokens\n",
        "        'context_window_tokens': 200000,\n",
        "        'max_output_tokens': 4096,\n",
        "        'knowledge_cutoff': pd.Timestamp('2023-08-01').date(),\n",
        "        'model_release': pd.Timestamp('2024-02-01').date(),\n",
        "    },\n",
        "    {\n",
        "        'snapshot': 'prior',    # As of 1st Feb, 2025\n",
        "        'model_family': 'Haiku',\n",
        "        'model': 'claude-3-haiku-20240307',\n",
        "        'model_name': 'Haiku 3 (Mar 2024)',\n",
        "        'cost_input_mtok': 0.25,\n",
        "        'cost_output_mtok': 1.25,\n",
        "        'context_window_tokens': 200000,\n",
        "        'max_output_tokens': 4096,\n",
        "        'knowledge_cutoff': pd.Timestamp('2023-08-01').date(),\n",
        "        'model_release': pd.Timestamp('2024-03-01').date(),\n",
        "    },\n",
        "    {\n",
        "        'snapshot': 'prior',    # As of 1st Feb, 2025\n",
        "        'model_family': 'Sonnet',\n",
        "        'model': 'claude-3-5-sonnet-20240620',\n",
        "        'model_name': 'Sonnet 3.5 (Jun 2024)',\n",
        "        'cost_input_mtok': 3.00,\n",
        "        'cost_output_mtok': 15.00,\n",
        "        'context_window_tokens': 200000,\n",
        "        'max_output_tokens': 8196,\n",
        "        'knowledge_cutoff': pd.Timestamp('2024-04-01').date(),\n",
        "        'model_release': pd.Timestamp('2024-06-01').date(),\n",
        "    },\n",
        "    {\n",
        "        'snapshot': 'current',    # As of 1st Feb, 2025\n",
        "        'model_family': 'Sonnet',\n",
        "        'model': 'claude-3-5-sonnet-20241022',\n",
        "        'model_name': 'Sonnet 3.5 (Oct 2024)',\n",
        "        'cost_input_mtok': 3.00,\n",
        "        'cost_output_mtok': 15.00,\n",
        "        'context_window_tokens': 200000,\n",
        "        'max_output_tokens': 8196,\n",
        "        'knowledge_cutoff': pd.Timestamp('2024-04-01').date(),\n",
        "        'model_release': pd.Timestamp('2024-10-01').date(),\n",
        "    },\n",
        "    {\n",
        "        'snapshot': 'current',    # As of 1st Feb, 2025\n",
        "        'model_family': 'Haiku',\n",
        "        'model': 'claude-3-5-haiku-20241022',\n",
        "        'model_name': 'Haiku 3.5 (Oct 2024)',\n",
        "        'cost_input_mtok': 0.80,\n",
        "        'cost_output_mtok': 4.00,\n",
        "        'context_window_tokens': 200000,\n",
        "        'max_output_tokens': 8196,\n",
        "        'knowledge_cutoff': pd.Timestamp('2024-07-01').date(),\n",
        "        'model_release': pd.Timestamp('2024-10-01').date(),\n",
        "    },\n",
        "]\n",
        "\n",
        "print(f'Success! (x{len(MODELS)}) models are setup for testing.')"
      ],
      "metadata": {
        "colab": {
          "base_uri": "https://localhost:8080/"
        },
        "id": "8o2oXEy1U4S1",
        "outputId": "b766d31e-f79c-4da9-a00f-a95abbff6f4d"
      },
      "execution_count": null,
      "outputs": [
        {
          "output_type": "stream",
          "name": "stdout",
          "text": [
            "Success! (x5) models are setup for testing.\n"
          ]
        }
      ]
    },
    {
      "cell_type": "markdown",
      "source": [
        "## Visuals"
      ],
      "metadata": {
        "id": "sosmC1wXU9NI"
      }
    },
    {
      "cell_type": "markdown",
      "source": [
        "- Easy model sort order(s)"
      ],
      "metadata": {
        "id": "KN_uYjLjVAh7"
      }
    },
    {
      "cell_type": "code",
      "source": [
        "MODEL_FAMILY_SORT = ['Opus', 'Haiku', 'Sonnet']\n",
        "\n",
        "MODEL_NAME_SORT = [\n",
        "    'Opus 3 (Feb 2024)',\n",
        "    'Haiku 3 (Mar 2024)', 'Haiku 3.5 (Oct 2024)',\n",
        "    'Sonnet 3.5 (Jun 2024)','Sonnet 3.5 (Oct 2024)'\n",
        "]\n",
        "\n",
        "MODEL_NAME_SORT_BY_RELEASE = [\n",
        "    'Opus 3 (Feb 2024)',     # 2024-02-01\n",
        "    'Haiku 3 (Mar 2024)',    # 2024-03-01\n",
        "    'Sonnet 3.5 (Jun 2024)', # 2024-06-01\n",
        "    'Sonnet 3.5 (Oct 2024)'  # 2024-10-01\n",
        "    'Haiku 3.5 (Oct 2024)',  # 2024-10-01\n",
        "]\n",
        "\n",
        "print('Success! These settings make it easier to sort models.')"
      ],
      "metadata": {
        "colab": {
          "base_uri": "https://localhost:8080/"
        },
        "id": "RbngsvjlVDZN",
        "outputId": "7d87e06a-6467-43b0-a14f-2973a6378110"
      },
      "execution_count": null,
      "outputs": [
        {
          "output_type": "stream",
          "name": "stdout",
          "text": [
            "Success! These settings make it easier to sort models.\n"
          ]
        }
      ]
    },
    {
      "cell_type": "markdown",
      "source": [
        "- Consistent Look & Feel. (But better to use Ploty Express <a href=\"https://plotly.com/python/templates/\" target=\"_blank\">templates</a> for theming.)"
      ],
      "metadata": {
        "id": "s03cuIJbVEY9"
      }
    },
    {
      "cell_type": "code",
      "source": [
        "## For look and feel\n",
        "viz_custom = {\n",
        "    'template': 'plotly_white',\n",
        "    'font_colour': '#141413',\n",
        "    'axis_colour': '#525252',\n",
        "    'grid_colour': '#F0E4DB',\n",
        "    'runs_colour': '#D4A375',\n",
        "    'capbars_colour': '#41668C',\n",
        "    'plot_bgcolour': '#F0EEE6',\n",
        "    'anthrop_colours': ['#41668C', '#4A366F', '#8778AB', '#656565', '#D09B74', '#D09B74']\n",
        "}\n",
        "\n",
        "print('Success! Shared settings for visuals are setup.')"
      ],
      "metadata": {
        "colab": {
          "base_uri": "https://localhost:8080/"
        },
        "id": "WY8VXL1BVtyZ",
        "outputId": "f92ea9bb-e92d-47f2-86ed-a26f711b7768"
      },
      "execution_count": null,
      "outputs": [
        {
          "output_type": "stream",
          "name": "stdout",
          "text": [
            "Success! Shared settings for visuals are setup.\n"
          ]
        }
      ]
    },
    {
      "cell_type": "markdown",
      "source": [
        "<br><a name=\"id-run-tests\"></a>\n",
        "# **RUN TESTS**"
      ],
      "metadata": {
        "id": "OUX506A6WfGS"
      }
    },
    {
      "cell_type": "markdown",
      "source": [
        "## a. core code"
      ],
      "metadata": {
        "id": "guO5DWX9WhKk"
      }
    },
    {
      "cell_type": "markdown",
      "source": [
        "- Helper function for test prompts that expect number answers"
      ],
      "metadata": {
        "id": "OH7E0ETvWm3n"
      }
    },
    {
      "cell_type": "code",
      "source": [
        "def check_math_answer(response_text: str, expected_solution: float) -> float:\n",
        "    \"\"\"\n",
        "    Helper function for test prompts that expect number answers\n",
        "    Returns: 1 if correct, 0 if wrong, NaN if not a number.\n",
        "    \"\"\"\n",
        "    try:\n",
        "        response_num = float(response_text)\n",
        "        return 1 if response_num == expected_solution else 0\n",
        "    except ValueError:\n",
        "        return pd.nan"
      ],
      "metadata": {
        "id": "Dm985UQSWj4P"
      },
      "execution_count": null,
      "outputs": []
    },
    {
      "cell_type": "markdown",
      "source": [
        "- Heavy lifting here (Anthropic API etc)"
      ],
      "metadata": {
        "id": "SzuTcdDBWq43"
      }
    },
    {
      "cell_type": "code",
      "source": [
        "def collect_model_test_results(\n",
        "    model_config: dict,\n",
        "    prompt: str,\n",
        "    anthrop_client: Anthropic = ANTHROPIC_CLIENT,\n",
        "    temperature: float = 0.0,\n",
        "    max_tokens: int = 500,\n",
        "    total_test_runs: int = 1,\n",
        "    math_solution: float = None,\n",
        "    ) -> list[dict]:\n",
        "    \"\"\"\n",
        "    Collect Anthropic API responses and metrics across all test runs.\n",
        "    Supports optional mathematical answer validation.\n",
        "    :return: List of dicts: each contains result of 1 test run and model info.\n",
        "    \"\"\"\n",
        "    model_test_results = []\n",
        "\n",
        "    for run in range(total_test_runs):\n",
        "        start_time = pd.Timestamp.now('UTC')\n",
        "        try:\n",
        "            response = anthrop_client.messages.create(\n",
        "                model=model_config['model'],\n",
        "                max_tokens=max_tokens,\n",
        "                temperature=temperature,\n",
        "                messages=[{'role': 'user', 'content': prompt}]\n",
        "            )\n",
        "        except APIError as e:\n",
        "            print(f\"Run {run + 1}: API error - {str(e)}\")\n",
        "            continue\n",
        "\n",
        "        end_time = pd.Timestamp.now('UTC')\n",
        "\n",
        "        execution_seconds = (end_time - start_time).total_seconds()\n",
        "        input_tokens = response.usage.input_tokens\n",
        "        output_tokens = response.usage.output_tokens\n",
        "\n",
        "        response_text = response.content[0].text.strip()\n",
        "\n",
        "        run_result = {\n",
        "            # About the model\n",
        "            'snapshot': model_config['snapshot'],\n",
        "            'model_family': model_config['model_family'],\n",
        "            'model': model_config['model'],\n",
        "            'model_name': model_config['model_name'],\n",
        "\n",
        "            # About the test run\n",
        "            'model_test_type': 'speed' if math_solution is None else 'capability',\n",
        "            'prompt': prompt,\n",
        "            'input_tokens': input_tokens,\n",
        "            'run_timestamp_utc': start_time,\n",
        "            'run': run + 1,\n",
        "            'temperature': temperature,\n",
        "\n",
        "            # About the test run result\n",
        "            'output_tokens': output_tokens,\n",
        "            'execution_seconds': execution_seconds,\n",
        "            'tokens_per_second': output_tokens/execution_seconds,\n",
        "            'prompt_response': response_text,\n",
        "\n",
        "            # For capability prompt tests that expect a number\n",
        "            'prompt_solution': None if math_solution is None else math_solution,\n",
        "            'is_correct': None if math_solution is None else check_math_answer(response_text, math_solution),\n",
        "\n",
        "            # About cost (expressed in tokens NOT 'millions of tokens')\n",
        "            'USD_per_input_token': model_config['cost_input_mtok'] / 1_000_000,\n",
        "            'USD_per_output_token': model_config['cost_output_mtok'] / 1_000_000,\n",
        "        }\n",
        "\n",
        "        model_test_results.append(run_result)\n",
        "\n",
        "    return model_test_results\n",
        "\n",
        "\n",
        "print('Success! Core functions to run models tests are loaded.')"
      ],
      "metadata": {
        "colab": {
          "base_uri": "https://localhost:8080/"
        },
        "id": "-KoWrHVGW2m_",
        "outputId": "702e4507-72d0-4853-b3ac-e274207e7946"
      },
      "execution_count": null,
      "outputs": [
        {
          "output_type": "stream",
          "name": "stdout",
          "text": [
            "Success! Core functions to run models tests are loaded.\n"
          ]
        }
      ]
    },
    {
      "cell_type": "markdown",
      "source": [
        "## b. run tests (now)"
      ],
      "metadata": {
        "id": "faDstrT1XAhq"
      }
    },
    {
      "cell_type": "code",
      "source": [
        "# RUN SPEED TEST\n",
        "print(f\"Running speed tests...\\n\")\n",
        "print(wrap_my_prompt(SPEED_PROMPT, f\"run {TOTAL_RUNS} times per model\"))\n",
        "\n",
        "speed_results = []\n",
        "for model in MODELS:\n",
        "    model_results = collect_model_test_results(\n",
        "        model_config=model,\n",
        "        temperature=1,\n",
        "        prompt=SPEED_PROMPT,\n",
        "        total_test_runs=TOTAL_RUNS,\n",
        "    )\n",
        "    speed_results.extend(model_results)\n",
        "    print(f\" • ✅ {model['model_name']}\")\n",
        "\n",
        "\n",
        "# RUN CAPABILITY TEST\n",
        "print(\"\\n\\nRunning capability tests...\\n\")\n",
        "print(wrap_my_prompt(CAPABILITY_PROMPT['prompt'], f\"run {TOTAL_RUNS} times per model\"))\n",
        "\n",
        "capability_results = []\n",
        "for model in MODELS:\n",
        "    model_results = collect_model_test_results(\n",
        "        model_config=model,\n",
        "        temperature=1,\n",
        "        prompt=CAPABILITY_PROMPT['prompt'],\n",
        "        math_solution=CAPABILITY_PROMPT['number_solution'],\n",
        "        total_test_runs=TOTAL_RUNS,\n",
        "    )\n",
        "    capability_results.extend(model_results)\n",
        "    print(f\" • ✅ {model['model_name']}\")\n",
        "\n",
        "\n",
        "# SAVE RESULTS AS DATA FRAME\n",
        "speed_results_df = pd.DataFrame(speed_results)\n",
        "cap_results_df = pd.DataFrame(capability_results)\n",
        "print(\"\\n\\nDone!\")"
      ],
      "metadata": {
        "colab": {
          "base_uri": "https://localhost:8080/"
        },
        "id": "zQWLEL6ZXFKZ",
        "outputId": "a4b23b7a-53f4-48c8-b07d-000d3e0d6823"
      },
      "execution_count": null,
      "outputs": [
        {
          "output_type": "stream",
          "name": "stdout",
          "text": [
            "Running speed tests...\n",
            "\n",
            "Test Prompt (run 50 times per model):\n",
            "~~~~~~~~~~~~~~~~~~~~~~~~~~~~~~~~~~~~~\n",
            "Explain photosynthesis in a concise paragraph.\n",
            "\n",
            " • ✅ Opus 3 (Feb 2024)\n",
            " • ✅ Haiku 3 (Mar 2024)\n",
            " • ✅ Sonnet 3.5 (Jun 2024)\n",
            " • ✅ Sonnet 3.5 (Oct 2024)\n",
            " • ✅ Haiku 3.5 (Oct 2024)\n",
            "\n",
            "\n",
            "Running capability tests...\n",
            "\n",
            "Test Prompt (run 50 times per model):\n",
            "~~~~~~~~~~~~~~~~~~~~~~~~~~~~~~~~~~~~~\n",
            "What is the geometric monthly fecal coliform mean of a distribution system with\n",
            "the following FC counts: 24, 15, 7, 16, 31 and 23? The result will be inputted\n",
            "into a NPDES DMR, therefore, round to the nearest whole number.\n",
            "**IMPORTANT!!:** Respond only with a number and strictly nothing else!!\n",
            "\n",
            " • ✅ Opus 3 (Feb 2024)\n",
            " • ✅ Haiku 3 (Mar 2024)\n",
            " • ✅ Sonnet 3.5 (Jun 2024)\n",
            " • ✅ Sonnet 3.5 (Oct 2024)\n",
            " • ✅ Haiku 3.5 (Oct 2024)\n",
            "\n",
            "\n",
            "Done!\n"
          ]
        }
      ]
    },
    {
      "cell_type": "markdown",
      "source": [
        "## c. save results"
      ],
      "metadata": {
        "id": "MibFvoGhaQYQ"
      }
    },
    {
      "cell_type": "code",
      "source": [
        "def concat_and_save_csv(df1: pd.DataFrame, df2: pd.DataFrame, output_file: str | Path) -> pd.DataFrame:\n",
        "    \"\"\"Concatenates two dataframes and saves to CSV in Google Drive, appending if file exists.\"\"\"\n",
        "    combined_df = pd.concat([df1, df2], axis=0, ignore_index=True)\n",
        "    num_records = len(combined_df)\n",
        "\n",
        "    output_file = Path(output_file) # incase its a string\n",
        "\n",
        "    if output_file.exists():\n",
        "        existing_records = len(pd.read_csv(output_file))\n",
        "        total_records = existing_records + num_records\n",
        "        combined_df.to_csv(output_file, mode='a', header=False, index=False, encoding='utf-8')\n",
        "        print(f'Success!\\n • {output_file}\\n • Records appended: {num_records} (total records {total_records})')\n",
        "    else:\n",
        "        combined_df.to_csv(output_file, index=False, encoding='utf-8')\n",
        "        print(f'Success!\\n • {output_file}\\n • Records saved: {num_records} (total records {num_records})')\n",
        "\n",
        "    return combined_df\n",
        "\n",
        "\n",
        "# Usage\n",
        "all_results_df = concat_and_save_csv(speed_results_df, cap_results_df, full_output_path)"
      ],
      "metadata": {
        "colab": {
          "base_uri": "https://localhost:8080/"
        },
        "id": "0NuYaj2XaVCZ",
        "outputId": "d4921567-c6f2-4ce4-c644-79acf42a169c"
      },
      "execution_count": null,
      "outputs": [
        {
          "output_type": "stream",
          "name": "stdout",
          "text": [
            "Success!\n",
            " • /content/drive/MyDrive/my-output-folder/RESULTS.csv\n",
            " • Records saved: 500 (total records 500)\n"
          ]
        }
      ]
    },
    {
      "cell_type": "markdown",
      "source": [
        "## c. load results\n",
        "\n",
        "Comment out (b) above and you can just load and use the existing RESULTS.csv in your Google Drive set above."
      ],
      "metadata": {
        "id": "_6iHfJ_hdc1z"
      }
    },
    {
      "cell_type": "code",
      "source": [
        "def load_csv_to_df(file_path: str | Path) -> pd.DataFrame:\n",
        "    data_df = pd.read_csv(\n",
        "        file_path,\n",
        "        parse_dates=['run_timestamp_utc'],\n",
        "        encoding='utf-8'\n",
        "    )\n",
        "\n",
        "    print(f\"Success! Loaded {len(data_df)} records from {file_path}\")\n",
        "    return data_df\n",
        "\n",
        "# Load the entire CSV\n",
        "all_results_df = load_csv_to_df(full_output_path)\n",
        "\n",
        "# Split into two dataframes\n",
        "speed_results_df = all_results_df[all_results_df['model_test_type'] == 'speed']\n",
        "cap_results_df = all_results_df[all_results_df['model_test_type'] == 'capability']\n",
        "\n",
        "# Verify the split\n",
        "print(f\"\\n Combined test results:\\t\\t{len(all_results_df)} runs\")\n",
        "print(f\" • Speed test results:\\t\\t{len(speed_results_df)} runs\")\n",
        "print(f\" • Capability test results:\\t{len(cap_results_df)} runs\")"
      ],
      "metadata": {
        "colab": {
          "base_uri": "https://localhost:8080/"
        },
        "id": "PVi5P_EYd1I6",
        "outputId": "9e49e018-00d4-495f-b930-a81ec5e8d0fa"
      },
      "execution_count": null,
      "outputs": [
        {
          "output_type": "stream",
          "name": "stdout",
          "text": [
            "Success! Loaded 500 records from /content/drive/MyDrive/my-output-folder/RESULTS.csv\n",
            "\n",
            " Combined test results:\t\t500 runs\n",
            " • Speed test results:\t\t250 runs\n",
            " • Capability test results:\t250 runs\n"
          ]
        }
      ]
    },
    {
      "cell_type": "markdown",
      "source": [
        "<br><a name=\"id-speed-results\"></a>\n",
        "# **SPEED RESULTS**"
      ],
      "metadata": {
        "id": "oDhbnyxeeFql"
      }
    },
    {
      "cell_type": "markdown",
      "source": [
        "## Speed Over Time"
      ],
      "metadata": {
        "id": "JjVIxqMfeviy"
      }
    },
    {
      "cell_type": "code",
      "source": [
        "# VISUAL: Speed Over Time Figure\n",
        "speed_line_fig_title = f'Model Speed Over Time (tokens per second)'\n",
        "\n",
        "# 1. Create Base Visualization\n",
        "speed_line_fig = px.line(\n",
        "    data_frame=speed_results_df, x='run', y='tokens_per_second',\n",
        "    title=speed_line_fig_title,\n",
        "    facet_row='model_family',\n",
        "    color='model_name',\n",
        "    color_discrete_sequence=viz_custom['anthrop_colours'],\n",
        "    category_orders={'model_family': MODEL_FAMILY_SORT,'model_name': MODEL_NAME_SORT},\n",
        "    markers=True,\n",
        "    width=900, height=500,\n",
        "    labels={'speed': 'Model Speed','run': f'Run Number (each model was prompted {TOTAL_RUNS} times in sequence)'},\n",
        ")\n",
        "\n",
        "# 3. Style & Format\n",
        "# Axis styling\n",
        "speed_line_fig.update_yaxes(title_text='Speed')\n",
        "# Facet Labels: remove \"model_family=\"\n",
        "speed_line_fig.for_each_annotation(lambda a: a.update(text=a.text.split(\"=\")[-1]))\n",
        "\n",
        "# Layout styling\n",
        "speed_line_fig.update_layout(\n",
        "    legend_title_text=None,\n",
        "    showlegend=True,\n",
        "    margin=dict(t=100, l=80, r=60, b=80),\n",
        "    font=dict(color=viz_custom['font_colour']),\n",
        "    plot_bgcolor=viz_custom['plot_bgcolour'],\n",
        ")\n",
        "\n",
        "# 4. Output & Display\n",
        "# speed_line_fig.write_image('speed_line_fig.svg')\n",
        "print(wrap_my_prompt(SPEED_PROMPT, \"speed\"))\n",
        "speed_line_fig.show()"
      ],
      "metadata": {
        "colab": {
          "base_uri": "https://localhost:8080/",
          "height": 586
        },
        "id": "FYr8z7MgexVH",
        "outputId": "648fb602-ebc9-4b62-ea8b-4760e235676a"
      },
      "execution_count": null,
      "outputs": [
        {
          "output_type": "stream",
          "name": "stdout",
          "text": [
            "Test Prompt (speed):\n",
            "~~~~~~~~~~~~~~~~~~~~\n",
            "Explain photosynthesis in a concise paragraph.\n",
            "\n"
          ]
        },
        {
          "output_type": "display_data",
          "data": {
            "text/html": [
              "<html>\n",
              "<head><meta charset=\"utf-8\" /></head>\n",
              "<body>\n",
              "    <div>            <script src=\"https://cdnjs.cloudflare.com/ajax/libs/mathjax/2.7.5/MathJax.js?config=TeX-AMS-MML_SVG\"></script><script type=\"text/javascript\">if (window.MathJax && window.MathJax.Hub && window.MathJax.Hub.Config) {window.MathJax.Hub.Config({SVG: {font: \"STIX-Web\"}});}</script>                <script type=\"text/javascript\">window.PlotlyConfig = {MathJaxConfig: 'local'};</script>\n",
              "        <script charset=\"utf-8\" src=\"https://cdn.plot.ly/plotly-2.35.2.min.js\"></script>                <div id=\"4ccfcde3-d274-4737-a96d-861ab50ac4b3\" class=\"plotly-graph-div\" style=\"height:500px; width:900px;\"></div>            <script type=\"text/javascript\">                                    window.PLOTLYENV=window.PLOTLYENV || {};                                    if (document.getElementById(\"4ccfcde3-d274-4737-a96d-861ab50ac4b3\")) {                    Plotly.newPlot(                        \"4ccfcde3-d274-4737-a96d-861ab50ac4b3\",                        [{\"hovertemplate\":\"model_name=Opus 3 (Feb 2024)\\u003cbr\\u003emodel_family=Opus\\u003cbr\\u003eRun Number (each model was prompted 50 times in sequence)=%{x}\\u003cbr\\u003etokens_per_second=%{y}\\u003cextra\\u003e\\u003c\\u002fextra\\u003e\",\"legendgroup\":\"Opus 3 (Feb 2024)\",\"line\":{\"color\":\"#41668C\",\"dash\":\"solid\"},\"marker\":{\"symbol\":\"circle\"},\"mode\":\"lines+markers\",\"name\":\"Opus 3 (Feb 2024)\",\"orientation\":\"v\",\"showlegend\":true,\"x\":[1,2,3,4,5,6,7,8,9,10,11,12,13,14,15,16,17,18,19,20,21,22,23,24,25,26,27,28,29,30,31,32,33,34,35,36,37,38,39,40,41,42,43,44,45,46,47,48,49,50],\"xaxis\":\"x3\",\"y\":[20.97145264624298,23.357761659068444,24.19120301523408,21.68009929485477,27.81980510722749,23.17350703093727,24.23321513649225,25.996444564185644,26.56631041646918,25.97544429385849,27.817479382719352,21.16639048385542,27.76331771646712,26.91095788370505,27.114992384823324,25.874027982429546,23.64227907787546,23.51203469683335,24.99677858416838,24.94606174697879,25.52493394055936,25.51563108687975,25.183759322097,25.946783723178957,27.78497958724033,23.145067496803087,23.8205488966856,25.776563591476364,28.081302436170745,24.52675352456825,23.83901039500048,26.74582307111546,24.69754910931229,25.802115395870526,25.61311141038696,25.577937766831177,24.54953942783475,27.29223263059333,24.731022282428277,25.030863615230047,24.10999558626348,27.8713026642625,23.50460628966913,25.4991872812224,26.23970296656241,26.40124613881775,27.354552067410253,25.793665942311744,25.37144547300804,24.569548947753223],\"yaxis\":\"y3\",\"type\":\"scatter\"},{\"hovertemplate\":\"model_name=Haiku 3 (Mar 2024)\\u003cbr\\u003emodel_family=Haiku\\u003cbr\\u003eRun Number (each model was prompted 50 times in sequence)=%{x}\\u003cbr\\u003etokens_per_second=%{y}\\u003cextra\\u003e\\u003c\\u002fextra\\u003e\",\"legendgroup\":\"Haiku 3 (Mar 2024)\",\"line\":{\"color\":\"#4A366F\",\"dash\":\"solid\"},\"marker\":{\"symbol\":\"circle\"},\"mode\":\"lines+markers\",\"name\":\"Haiku 3 (Mar 2024)\",\"orientation\":\"v\",\"showlegend\":true,\"x\":[1,2,3,4,5,6,7,8,9,10,11,12,13,14,15,16,17,18,19,20,21,22,23,24,25,26,27,28,29,30,31,32,33,34,35,36,37,38,39,40,41,42,43,44,45,46,47,48,49,50],\"xaxis\":\"x2\",\"y\":[90.62883036808677,82.10334700158577,96.62186761567376,98.5113201096373,95.70538582058704,97.1671139170345,98.45545493452713,106.56221416906097,101.0621070414824,99.18532456791948,71.38259157048074,97.57793057864426,108.35958043170456,98.10330785748296,99.71358133361758,92.54056361371735,99.2675581402452,115.33559011056973,78.51470767108,103.29790184279734,94.93766823513268,109.95069134380503,93.31329778847486,100.43355223346497,100.69835190364051,105.09662017353877,92.4813388430226,96.98754954518849,98.7881981032666,93.1832894124723,86.39184460986883,103.32437261619091,99.85123857845684,93.8245883555794,92.96477962920336,93.60041808186745,104.67024005997848,101.33320722978657,97.63257022542722,96.0844774725939,88.55119959203198,91.46376011564904,98.24405686975804,101.25772756341932,94.8465708518704,97.82574137645707,95.17230289077666,83.38318474806803,72.91435622487195,93.41542481199257],\"yaxis\":\"y2\",\"type\":\"scatter\"},{\"hovertemplate\":\"model_name=Haiku 3.5 (Oct 2024)\\u003cbr\\u003emodel_family=Haiku\\u003cbr\\u003eRun Number (each model was prompted 50 times in sequence)=%{x}\\u003cbr\\u003etokens_per_second=%{y}\\u003cextra\\u003e\\u003c\\u002fextra\\u003e\",\"legendgroup\":\"Haiku 3.5 (Oct 2024)\",\"line\":{\"color\":\"#8778AB\",\"dash\":\"solid\"},\"marker\":{\"symbol\":\"circle\"},\"mode\":\"lines+markers\",\"name\":\"Haiku 3.5 (Oct 2024)\",\"orientation\":\"v\",\"showlegend\":true,\"x\":[1,2,3,4,5,6,7,8,9,10,11,12,13,14,15,16,17,18,19,20,21,22,23,24,25,26,27,28,29,30,31,32,33,34,35,36,37,38,39,40,41,42,43,44,45,46,47,48,49,50],\"xaxis\":\"x2\",\"y\":[48.47067829149117,44.999075383962,45.70844453124432,43.49354664501654,45.90507595377359,48.72202137922298,49.66715592521757,48.22695241196406,44.94416849413789,47.40839662799433,46.71906389371054,50.58205721652629,44.34183172822289,47.30723778951951,46.86130535038198,45.90775214062025,45.424463917464855,40.15533894923658,38.19205152861862,47.34299450615425,39.63720595567955,49.75581259995313,46.52245981212042,43.77400938090286,53.35187024825156,44.75050878763176,42.95865053343758,48.96295136679912,54.30064969580164,47.89826971022604,48.76362927074483,43.7278546758195,47.8735276512423,42.84377287976482,51.12254073013012,48.74657836517245,43.42398735112785,45.9258494356683,42.672155089164704,39.59034787318852,47.358413237004136,39.36553469777312,44.47877681548297,50.16794122906601,47.203848466626575,49.35974114491495,51.27302655082711,44.68983687640242,45.06037313096565,44.03741444446481],\"yaxis\":\"y2\",\"type\":\"scatter\"},{\"hovertemplate\":\"model_name=Sonnet 3.5 (Jun 2024)\\u003cbr\\u003emodel_family=Sonnet\\u003cbr\\u003eRun Number (each model was prompted 50 times in sequence)=%{x}\\u003cbr\\u003etokens_per_second=%{y}\\u003cextra\\u003e\\u003c\\u002fextra\\u003e\",\"legendgroup\":\"Sonnet 3.5 (Jun 2024)\",\"line\":{\"color\":\"#656565\",\"dash\":\"solid\"},\"marker\":{\"symbol\":\"circle\"},\"mode\":\"lines+markers\",\"name\":\"Sonnet 3.5 (Jun 2024)\",\"orientation\":\"v\",\"showlegend\":true,\"x\":[1,2,3,4,5,6,7,8,9,10,11,12,13,14,15,16,17,18,19,20,21,22,23,24,25,26,27,28,29,30,31,32,33,34,35,36,37,38,39,40,41,42,43,44,45,46,47,48,49,50],\"xaxis\":\"x\",\"y\":[57.28753987938956,52.487459953553554,62.17459085665073,60.0430000254028,52.45661784538696,62.93107299421772,47.904265168532426,55.423360576994135,62.89315881706953,59.30725661081106,56.18361208142789,54.97253079504306,45.72272938567159,53.16583822248881,54.23877582773021,51.9384445207924,37.85684694938447,66.97262428749174,38.52720741496297,61.03951079606621,51.58769956989957,61.33318036808733,54.20826176425571,60.23813857267452,57.00554812693401,54.18948101465768,57.37211293348796,54.19903850052172,60.44478059319577,60.70692595819894,52.91315875849194,55.7791603708168,66.24713075340975,45.24786488462087,52.74245239993672,46.39430614201453,62.62780501492149,56.661369516558445,61.18527689021358,60.4557074046665,59.50670908588631,52.17443932477928,48.61029861138815,57.24639028692839,54.78751575141078,59.58584996850462,56.130385522793766,60.67941490221582,61.08909804760047,45.51495016611296],\"yaxis\":\"y\",\"type\":\"scatter\"},{\"hovertemplate\":\"model_name=Sonnet 3.5 (Oct 2024)\\u003cbr\\u003emodel_family=Sonnet\\u003cbr\\u003eRun Number (each model was prompted 50 times in sequence)=%{x}\\u003cbr\\u003etokens_per_second=%{y}\\u003cextra\\u003e\\u003c\\u002fextra\\u003e\",\"legendgroup\":\"Sonnet 3.5 (Oct 2024)\",\"line\":{\"color\":\"#D09B74\",\"dash\":\"solid\"},\"marker\":{\"symbol\":\"circle\"},\"mode\":\"lines+markers\",\"name\":\"Sonnet 3.5 (Oct 2024)\",\"orientation\":\"v\",\"showlegend\":true,\"x\":[1,2,3,4,5,6,7,8,9,10,11,12,13,14,15,16,17,18,19,20,21,22,23,24,25,26,27,28,29,30,31,32,33,34,35,36,37,38,39,40,41,42,43,44,45,46,47,48,49,50],\"xaxis\":\"x\",\"y\":[56.321178316734766,55.58962350190308,51.82881130061978,51.258393561945766,49.62251162953183,49.924554311581375,48.71317221955346,64.44241924325475,47.88221644436036,45.38813213092366,56.01155351828248,54.271598824341496,42.897939673240266,49.26526333651733,52.01770432970402,54.918522487762,55.411160851773936,54.91457421592635,58.32965883675976,52.16002191977789,43.032830976261245,67.20509009732999,49.34567223941028,55.254638878091264,58.36154439684418,48.25659640863686,47.96562956820311,61.14034383800866,49.44718384832967,67.93371759431028,60.74854142049754,50.97672958636864,63.33203700570087,48.11723869811488,54.20322252005421,49.62836296675971,55.98949885843633,49.59515261290984,57.06425328589084,55.59447559807165,68.18187894998124,52.95432160218595,53.75678095046664,52.60036734538025,58.61587790400119,46.177986294248015,62.7160433025422,60.936173512984254,44.81745849156386,58.416991039326255],\"yaxis\":\"y\",\"type\":\"scatter\"}],                        {\"template\":{\"data\":{\"histogram2dcontour\":[{\"type\":\"histogram2dcontour\",\"colorbar\":{\"outlinewidth\":0,\"ticks\":\"\"},\"colorscale\":[[0.0,\"#0d0887\"],[0.1111111111111111,\"#46039f\"],[0.2222222222222222,\"#7201a8\"],[0.3333333333333333,\"#9c179e\"],[0.4444444444444444,\"#bd3786\"],[0.5555555555555556,\"#d8576b\"],[0.6666666666666666,\"#ed7953\"],[0.7777777777777778,\"#fb9f3a\"],[0.8888888888888888,\"#fdca26\"],[1.0,\"#f0f921\"]]}],\"choropleth\":[{\"type\":\"choropleth\",\"colorbar\":{\"outlinewidth\":0,\"ticks\":\"\"}}],\"histogram2d\":[{\"type\":\"histogram2d\",\"colorbar\":{\"outlinewidth\":0,\"ticks\":\"\"},\"colorscale\":[[0.0,\"#0d0887\"],[0.1111111111111111,\"#46039f\"],[0.2222222222222222,\"#7201a8\"],[0.3333333333333333,\"#9c179e\"],[0.4444444444444444,\"#bd3786\"],[0.5555555555555556,\"#d8576b\"],[0.6666666666666666,\"#ed7953\"],[0.7777777777777778,\"#fb9f3a\"],[0.8888888888888888,\"#fdca26\"],[1.0,\"#f0f921\"]]}],\"heatmap\":[{\"type\":\"heatmap\",\"colorbar\":{\"outlinewidth\":0,\"ticks\":\"\"},\"colorscale\":[[0.0,\"#0d0887\"],[0.1111111111111111,\"#46039f\"],[0.2222222222222222,\"#7201a8\"],[0.3333333333333333,\"#9c179e\"],[0.4444444444444444,\"#bd3786\"],[0.5555555555555556,\"#d8576b\"],[0.6666666666666666,\"#ed7953\"],[0.7777777777777778,\"#fb9f3a\"],[0.8888888888888888,\"#fdca26\"],[1.0,\"#f0f921\"]]}],\"heatmapgl\":[{\"type\":\"heatmapgl\",\"colorbar\":{\"outlinewidth\":0,\"ticks\":\"\"},\"colorscale\":[[0.0,\"#0d0887\"],[0.1111111111111111,\"#46039f\"],[0.2222222222222222,\"#7201a8\"],[0.3333333333333333,\"#9c179e\"],[0.4444444444444444,\"#bd3786\"],[0.5555555555555556,\"#d8576b\"],[0.6666666666666666,\"#ed7953\"],[0.7777777777777778,\"#fb9f3a\"],[0.8888888888888888,\"#fdca26\"],[1.0,\"#f0f921\"]]}],\"contourcarpet\":[{\"type\":\"contourcarpet\",\"colorbar\":{\"outlinewidth\":0,\"ticks\":\"\"}}],\"contour\":[{\"type\":\"contour\",\"colorbar\":{\"outlinewidth\":0,\"ticks\":\"\"},\"colorscale\":[[0.0,\"#0d0887\"],[0.1111111111111111,\"#46039f\"],[0.2222222222222222,\"#7201a8\"],[0.3333333333333333,\"#9c179e\"],[0.4444444444444444,\"#bd3786\"],[0.5555555555555556,\"#d8576b\"],[0.6666666666666666,\"#ed7953\"],[0.7777777777777778,\"#fb9f3a\"],[0.8888888888888888,\"#fdca26\"],[1.0,\"#f0f921\"]]}],\"surface\":[{\"type\":\"surface\",\"colorbar\":{\"outlinewidth\":0,\"ticks\":\"\"},\"colorscale\":[[0.0,\"#0d0887\"],[0.1111111111111111,\"#46039f\"],[0.2222222222222222,\"#7201a8\"],[0.3333333333333333,\"#9c179e\"],[0.4444444444444444,\"#bd3786\"],[0.5555555555555556,\"#d8576b\"],[0.6666666666666666,\"#ed7953\"],[0.7777777777777778,\"#fb9f3a\"],[0.8888888888888888,\"#fdca26\"],[1.0,\"#f0f921\"]]}],\"mesh3d\":[{\"type\":\"mesh3d\",\"colorbar\":{\"outlinewidth\":0,\"ticks\":\"\"}}],\"scatter\":[{\"fillpattern\":{\"fillmode\":\"overlay\",\"size\":10,\"solidity\":0.2},\"type\":\"scatter\"}],\"parcoords\":[{\"type\":\"parcoords\",\"line\":{\"colorbar\":{\"outlinewidth\":0,\"ticks\":\"\"}}}],\"scatterpolargl\":[{\"type\":\"scatterpolargl\",\"marker\":{\"colorbar\":{\"outlinewidth\":0,\"ticks\":\"\"}}}],\"bar\":[{\"error_x\":{\"color\":\"#2a3f5f\"},\"error_y\":{\"color\":\"#2a3f5f\"},\"marker\":{\"line\":{\"color\":\"#E5ECF6\",\"width\":0.5},\"pattern\":{\"fillmode\":\"overlay\",\"size\":10,\"solidity\":0.2}},\"type\":\"bar\"}],\"scattergeo\":[{\"type\":\"scattergeo\",\"marker\":{\"colorbar\":{\"outlinewidth\":0,\"ticks\":\"\"}}}],\"scatterpolar\":[{\"type\":\"scatterpolar\",\"marker\":{\"colorbar\":{\"outlinewidth\":0,\"ticks\":\"\"}}}],\"histogram\":[{\"marker\":{\"pattern\":{\"fillmode\":\"overlay\",\"size\":10,\"solidity\":0.2}},\"type\":\"histogram\"}],\"scattergl\":[{\"type\":\"scattergl\",\"marker\":{\"colorbar\":{\"outlinewidth\":0,\"ticks\":\"\"}}}],\"scatter3d\":[{\"type\":\"scatter3d\",\"line\":{\"colorbar\":{\"outlinewidth\":0,\"ticks\":\"\"}},\"marker\":{\"colorbar\":{\"outlinewidth\":0,\"ticks\":\"\"}}}],\"scattermapbox\":[{\"type\":\"scattermapbox\",\"marker\":{\"colorbar\":{\"outlinewidth\":0,\"ticks\":\"\"}}}],\"scatterternary\":[{\"type\":\"scatterternary\",\"marker\":{\"colorbar\":{\"outlinewidth\":0,\"ticks\":\"\"}}}],\"scattercarpet\":[{\"type\":\"scattercarpet\",\"marker\":{\"colorbar\":{\"outlinewidth\":0,\"ticks\":\"\"}}}],\"carpet\":[{\"aaxis\":{\"endlinecolor\":\"#2a3f5f\",\"gridcolor\":\"white\",\"linecolor\":\"white\",\"minorgridcolor\":\"white\",\"startlinecolor\":\"#2a3f5f\"},\"baxis\":{\"endlinecolor\":\"#2a3f5f\",\"gridcolor\":\"white\",\"linecolor\":\"white\",\"minorgridcolor\":\"white\",\"startlinecolor\":\"#2a3f5f\"},\"type\":\"carpet\"}],\"table\":[{\"cells\":{\"fill\":{\"color\":\"#EBF0F8\"},\"line\":{\"color\":\"white\"}},\"header\":{\"fill\":{\"color\":\"#C8D4E3\"},\"line\":{\"color\":\"white\"}},\"type\":\"table\"}],\"barpolar\":[{\"marker\":{\"line\":{\"color\":\"#E5ECF6\",\"width\":0.5},\"pattern\":{\"fillmode\":\"overlay\",\"size\":10,\"solidity\":0.2}},\"type\":\"barpolar\"}],\"pie\":[{\"automargin\":true,\"type\":\"pie\"}]},\"layout\":{\"autotypenumbers\":\"strict\",\"colorway\":[\"#636efa\",\"#EF553B\",\"#00cc96\",\"#ab63fa\",\"#FFA15A\",\"#19d3f3\",\"#FF6692\",\"#B6E880\",\"#FF97FF\",\"#FECB52\"],\"font\":{\"color\":\"#2a3f5f\"},\"hovermode\":\"closest\",\"hoverlabel\":{\"align\":\"left\"},\"paper_bgcolor\":\"white\",\"plot_bgcolor\":\"#E5ECF6\",\"polar\":{\"bgcolor\":\"#E5ECF6\",\"angularaxis\":{\"gridcolor\":\"white\",\"linecolor\":\"white\",\"ticks\":\"\"},\"radialaxis\":{\"gridcolor\":\"white\",\"linecolor\":\"white\",\"ticks\":\"\"}},\"ternary\":{\"bgcolor\":\"#E5ECF6\",\"aaxis\":{\"gridcolor\":\"white\",\"linecolor\":\"white\",\"ticks\":\"\"},\"baxis\":{\"gridcolor\":\"white\",\"linecolor\":\"white\",\"ticks\":\"\"},\"caxis\":{\"gridcolor\":\"white\",\"linecolor\":\"white\",\"ticks\":\"\"}},\"coloraxis\":{\"colorbar\":{\"outlinewidth\":0,\"ticks\":\"\"}},\"colorscale\":{\"sequential\":[[0.0,\"#0d0887\"],[0.1111111111111111,\"#46039f\"],[0.2222222222222222,\"#7201a8\"],[0.3333333333333333,\"#9c179e\"],[0.4444444444444444,\"#bd3786\"],[0.5555555555555556,\"#d8576b\"],[0.6666666666666666,\"#ed7953\"],[0.7777777777777778,\"#fb9f3a\"],[0.8888888888888888,\"#fdca26\"],[1.0,\"#f0f921\"]],\"sequentialminus\":[[0.0,\"#0d0887\"],[0.1111111111111111,\"#46039f\"],[0.2222222222222222,\"#7201a8\"],[0.3333333333333333,\"#9c179e\"],[0.4444444444444444,\"#bd3786\"],[0.5555555555555556,\"#d8576b\"],[0.6666666666666666,\"#ed7953\"],[0.7777777777777778,\"#fb9f3a\"],[0.8888888888888888,\"#fdca26\"],[1.0,\"#f0f921\"]],\"diverging\":[[0,\"#8e0152\"],[0.1,\"#c51b7d\"],[0.2,\"#de77ae\"],[0.3,\"#f1b6da\"],[0.4,\"#fde0ef\"],[0.5,\"#f7f7f7\"],[0.6,\"#e6f5d0\"],[0.7,\"#b8e186\"],[0.8,\"#7fbc41\"],[0.9,\"#4d9221\"],[1,\"#276419\"]]},\"xaxis\":{\"gridcolor\":\"white\",\"linecolor\":\"white\",\"ticks\":\"\",\"title\":{\"standoff\":15},\"zerolinecolor\":\"white\",\"automargin\":true,\"zerolinewidth\":2},\"yaxis\":{\"gridcolor\":\"white\",\"linecolor\":\"white\",\"ticks\":\"\",\"title\":{\"standoff\":15},\"zerolinecolor\":\"white\",\"automargin\":true,\"zerolinewidth\":2},\"scene\":{\"xaxis\":{\"backgroundcolor\":\"#E5ECF6\",\"gridcolor\":\"white\",\"linecolor\":\"white\",\"showbackground\":true,\"ticks\":\"\",\"zerolinecolor\":\"white\",\"gridwidth\":2},\"yaxis\":{\"backgroundcolor\":\"#E5ECF6\",\"gridcolor\":\"white\",\"linecolor\":\"white\",\"showbackground\":true,\"ticks\":\"\",\"zerolinecolor\":\"white\",\"gridwidth\":2},\"zaxis\":{\"backgroundcolor\":\"#E5ECF6\",\"gridcolor\":\"white\",\"linecolor\":\"white\",\"showbackground\":true,\"ticks\":\"\",\"zerolinecolor\":\"white\",\"gridwidth\":2}},\"shapedefaults\":{\"line\":{\"color\":\"#2a3f5f\"}},\"annotationdefaults\":{\"arrowcolor\":\"#2a3f5f\",\"arrowhead\":0,\"arrowwidth\":1},\"geo\":{\"bgcolor\":\"white\",\"landcolor\":\"#E5ECF6\",\"subunitcolor\":\"white\",\"showland\":true,\"showlakes\":true,\"lakecolor\":\"white\"},\"title\":{\"x\":0.05},\"mapbox\":{\"style\":\"light\"}}},\"xaxis\":{\"anchor\":\"y\",\"domain\":[0.0,0.98],\"title\":{\"text\":\"Run Number (each model was prompted 50 times in sequence)\"}},\"yaxis\":{\"anchor\":\"x\",\"domain\":[0.0,0.3133333333333333],\"title\":{\"text\":\"Speed\"}},\"xaxis2\":{\"anchor\":\"y2\",\"domain\":[0.0,0.98],\"matches\":\"x\",\"showticklabels\":false},\"yaxis2\":{\"anchor\":\"x2\",\"domain\":[0.34333333333333327,0.6566666666666665],\"matches\":\"y\",\"title\":{\"text\":\"Speed\"}},\"xaxis3\":{\"anchor\":\"y3\",\"domain\":[0.0,0.98],\"matches\":\"x\",\"showticklabels\":false},\"yaxis3\":{\"anchor\":\"x3\",\"domain\":[0.6866666666666665,0.9999999999999998],\"matches\":\"y\",\"title\":{\"text\":\"Speed\"}},\"annotations\":[{\"font\":{},\"showarrow\":false,\"text\":\"Sonnet\",\"textangle\":90,\"x\":0.98,\"xanchor\":\"left\",\"xref\":\"paper\",\"y\":0.15666666666666665,\"yanchor\":\"middle\",\"yref\":\"paper\"},{\"font\":{},\"showarrow\":false,\"text\":\"Haiku\",\"textangle\":90,\"x\":0.98,\"xanchor\":\"left\",\"xref\":\"paper\",\"y\":0.4999999999999999,\"yanchor\":\"middle\",\"yref\":\"paper\"},{\"font\":{},\"showarrow\":false,\"text\":\"Opus\",\"textangle\":90,\"x\":0.98,\"xanchor\":\"left\",\"xref\":\"paper\",\"y\":0.8433333333333332,\"yanchor\":\"middle\",\"yref\":\"paper\"}],\"legend\":{\"title\":{},\"tracegroupgap\":0},\"title\":{\"text\":\"Model Speed Over Time (tokens per second)\"},\"height\":500,\"width\":900,\"margin\":{\"t\":100,\"l\":80,\"r\":60,\"b\":80},\"font\":{\"color\":\"#141413\"},\"showlegend\":true,\"plot_bgcolor\":\"#F0EEE6\"},                        {\"responsive\": true}                    ).then(function(){\n",
              "                            \n",
              "var gd = document.getElementById('4ccfcde3-d274-4737-a96d-861ab50ac4b3');\n",
              "var x = new MutationObserver(function (mutations, observer) {{\n",
              "        var display = window.getComputedStyle(gd).display;\n",
              "        if (!display || display === 'none') {{\n",
              "            console.log([gd, 'removed!']);\n",
              "            Plotly.purge(gd);\n",
              "            observer.disconnect();\n",
              "        }}\n",
              "}});\n",
              "\n",
              "// Listen for the removal of the full notebook cells\n",
              "var notebookContainer = gd.closest('#notebook-container');\n",
              "if (notebookContainer) {{\n",
              "    x.observe(notebookContainer, {childList: true});\n",
              "}}\n",
              "\n",
              "// Listen for the clearing of the current output cell\n",
              "var outputEl = gd.closest('.output');\n",
              "if (outputEl) {{\n",
              "    x.observe(outputEl, {childList: true});\n",
              "}}\n",
              "\n",
              "                        })                };                            </script>        </div>\n",
              "</body>\n",
              "</html>"
            ]
          },
          "metadata": {}
        }
      ]
    },
    {
      "cell_type": "markdown",
      "source": [
        "## Individual Runs"
      ],
      "metadata": {
        "id": "UvSbj-9hez8v"
      }
    },
    {
      "cell_type": "code",
      "source": [
        "# VISUAL: Speed Individuals Figure\n",
        "speed_strip_fig_title = f'Model Speed (tokens per second)  — higher is faster'\n",
        "\n",
        "# 1. Create Base Visualization\n",
        "speed_strip_fig = px.strip(\n",
        "    speed_results_df, x='model_name', y='tokens_per_second',\n",
        "    title=speed_strip_fig_title,\n",
        "    template=viz_custom['template'],\n",
        "    width=900, height=700,\n",
        "    # color='model_family',\n",
        "    color_discrete_sequence=viz_custom['anthrop_colours'],\n",
        "    category_orders={'model_family': MODEL_FAMILY_SORT,'model_name': MODEL_NAME_SORT},\n",
        ")\n",
        "\n",
        "# 2. Add Supplementary Box Plot — OPTIONAL\n",
        "# speed_strip_fig.add_traces(\n",
        "#     px.box(speed_results_df, x='model_name', y='tokens_per_second',\n",
        "#     color_discrete_sequence=[viz_custom['runs_colour']]).data,\n",
        "# )\n",
        "\n",
        "# Adjust strip plot points\n",
        "speed_strip_fig.update_traces(\n",
        "    marker_size=5,\n",
        "    jitter=0.8,\n",
        "    offsetgroup=0\n",
        ")\n",
        "\n",
        "# 3. Style & Format\n",
        "# Axis styling\n",
        "speed_strip_fig.update_xaxes(title=None,\n",
        "    showgrid=False, ticklabelstandoff=15,\n",
        "    showline=True, linewidth=1.5, linecolor=viz_custom['axis_colour'],\n",
        "\n",
        "    # Wrap model name\n",
        "    ticktext=[label.replace(\" (\", \"<br>(\") for label in MODEL_NAME_SORT],\n",
        "    tickvals=list(range(len(MODEL_NAME_SORT)))\n",
        ")\n",
        "speed_strip_fig.update_yaxes(title=f'Individual Speeds ({TOTAL_RUNS} runs)',\n",
        "    gridcolor=viz_custom['grid_colour'], ticklabelstandoff=10,\n",
        "    # rangemode='tozero',\n",
        "    showline=True, linewidth=1.5, linecolor=viz_custom['axis_colour'],\n",
        ")\n",
        "\n",
        "# Layout styling\n",
        "speed_strip_fig.update_layout(showlegend=False,\n",
        "    margin=dict(t=100, l=90, r=60, b=80),\n",
        "    font=dict(color=viz_custom['font_colour']),\n",
        ")\n",
        "\n",
        "# 4. Output & Display\n",
        "# speed_strip_fig.write_image('speed_strip_fig.svg')\n",
        "print(wrap_my_prompt(SPEED_PROMPT, 'speed'))\n",
        "speed_strip_fig.show()"
      ],
      "metadata": {
        "colab": {
          "base_uri": "https://localhost:8080/",
          "height": 786
        },
        "id": "jiv1_9yLe3dt",
        "outputId": "6be5ff2b-b7ff-44ce-989a-0672efb578bc"
      },
      "execution_count": null,
      "outputs": [
        {
          "output_type": "stream",
          "name": "stdout",
          "text": [
            "Test Prompt (speed):\n",
            "~~~~~~~~~~~~~~~~~~~~\n",
            "Explain photosynthesis in a concise paragraph.\n",
            "\n"
          ]
        },
        {
          "output_type": "display_data",
          "data": {
            "text/html": [
              "<html>\n",
              "<head><meta charset=\"utf-8\" /></head>\n",
              "<body>\n",
              "    <div>            <script src=\"https://cdnjs.cloudflare.com/ajax/libs/mathjax/2.7.5/MathJax.js?config=TeX-AMS-MML_SVG\"></script><script type=\"text/javascript\">if (window.MathJax && window.MathJax.Hub && window.MathJax.Hub.Config) {window.MathJax.Hub.Config({SVG: {font: \"STIX-Web\"}});}</script>                <script type=\"text/javascript\">window.PlotlyConfig = {MathJaxConfig: 'local'};</script>\n",
              "        <script charset=\"utf-8\" src=\"https://cdn.plot.ly/plotly-2.35.2.min.js\"></script>                <div id=\"9ef7b87e-3a19-4cc4-9d9e-429c29cc515e\" class=\"plotly-graph-div\" style=\"height:700px; width:900px;\"></div>            <script type=\"text/javascript\">                                    window.PLOTLYENV=window.PLOTLYENV || {};                                    if (document.getElementById(\"9ef7b87e-3a19-4cc4-9d9e-429c29cc515e\")) {                    Plotly.newPlot(                        \"9ef7b87e-3a19-4cc4-9d9e-429c29cc515e\",                        [{\"alignmentgroup\":\"True\",\"boxpoints\":\"all\",\"fillcolor\":\"rgba(255,255,255,0)\",\"hoveron\":\"points\",\"hovertemplate\":\"model_name=%{x}\\u003cbr\\u003etokens_per_second=%{y}\\u003cextra\\u003e\\u003c\\u002fextra\\u003e\",\"legendgroup\":\"\",\"line\":{\"color\":\"rgba(255,255,255,0)\"},\"marker\":{\"color\":\"#41668C\",\"size\":5},\"name\":\"\",\"offsetgroup\":\"0\",\"orientation\":\"v\",\"pointpos\":0,\"showlegend\":false,\"x\":[\"Opus 3 (Feb 2024)\",\"Opus 3 (Feb 2024)\",\"Opus 3 (Feb 2024)\",\"Opus 3 (Feb 2024)\",\"Opus 3 (Feb 2024)\",\"Opus 3 (Feb 2024)\",\"Opus 3 (Feb 2024)\",\"Opus 3 (Feb 2024)\",\"Opus 3 (Feb 2024)\",\"Opus 3 (Feb 2024)\",\"Opus 3 (Feb 2024)\",\"Opus 3 (Feb 2024)\",\"Opus 3 (Feb 2024)\",\"Opus 3 (Feb 2024)\",\"Opus 3 (Feb 2024)\",\"Opus 3 (Feb 2024)\",\"Opus 3 (Feb 2024)\",\"Opus 3 (Feb 2024)\",\"Opus 3 (Feb 2024)\",\"Opus 3 (Feb 2024)\",\"Opus 3 (Feb 2024)\",\"Opus 3 (Feb 2024)\",\"Opus 3 (Feb 2024)\",\"Opus 3 (Feb 2024)\",\"Opus 3 (Feb 2024)\",\"Opus 3 (Feb 2024)\",\"Opus 3 (Feb 2024)\",\"Opus 3 (Feb 2024)\",\"Opus 3 (Feb 2024)\",\"Opus 3 (Feb 2024)\",\"Opus 3 (Feb 2024)\",\"Opus 3 (Feb 2024)\",\"Opus 3 (Feb 2024)\",\"Opus 3 (Feb 2024)\",\"Opus 3 (Feb 2024)\",\"Opus 3 (Feb 2024)\",\"Opus 3 (Feb 2024)\",\"Opus 3 (Feb 2024)\",\"Opus 3 (Feb 2024)\",\"Opus 3 (Feb 2024)\",\"Opus 3 (Feb 2024)\",\"Opus 3 (Feb 2024)\",\"Opus 3 (Feb 2024)\",\"Opus 3 (Feb 2024)\",\"Opus 3 (Feb 2024)\",\"Opus 3 (Feb 2024)\",\"Opus 3 (Feb 2024)\",\"Opus 3 (Feb 2024)\",\"Opus 3 (Feb 2024)\",\"Opus 3 (Feb 2024)\",\"Haiku 3 (Mar 2024)\",\"Haiku 3 (Mar 2024)\",\"Haiku 3 (Mar 2024)\",\"Haiku 3 (Mar 2024)\",\"Haiku 3 (Mar 2024)\",\"Haiku 3 (Mar 2024)\",\"Haiku 3 (Mar 2024)\",\"Haiku 3 (Mar 2024)\",\"Haiku 3 (Mar 2024)\",\"Haiku 3 (Mar 2024)\",\"Haiku 3 (Mar 2024)\",\"Haiku 3 (Mar 2024)\",\"Haiku 3 (Mar 2024)\",\"Haiku 3 (Mar 2024)\",\"Haiku 3 (Mar 2024)\",\"Haiku 3 (Mar 2024)\",\"Haiku 3 (Mar 2024)\",\"Haiku 3 (Mar 2024)\",\"Haiku 3 (Mar 2024)\",\"Haiku 3 (Mar 2024)\",\"Haiku 3 (Mar 2024)\",\"Haiku 3 (Mar 2024)\",\"Haiku 3 (Mar 2024)\",\"Haiku 3 (Mar 2024)\",\"Haiku 3 (Mar 2024)\",\"Haiku 3 (Mar 2024)\",\"Haiku 3 (Mar 2024)\",\"Haiku 3 (Mar 2024)\",\"Haiku 3 (Mar 2024)\",\"Haiku 3 (Mar 2024)\",\"Haiku 3 (Mar 2024)\",\"Haiku 3 (Mar 2024)\",\"Haiku 3 (Mar 2024)\",\"Haiku 3 (Mar 2024)\",\"Haiku 3 (Mar 2024)\",\"Haiku 3 (Mar 2024)\",\"Haiku 3 (Mar 2024)\",\"Haiku 3 (Mar 2024)\",\"Haiku 3 (Mar 2024)\",\"Haiku 3 (Mar 2024)\",\"Haiku 3 (Mar 2024)\",\"Haiku 3 (Mar 2024)\",\"Haiku 3 (Mar 2024)\",\"Haiku 3 (Mar 2024)\",\"Haiku 3 (Mar 2024)\",\"Haiku 3 (Mar 2024)\",\"Haiku 3 (Mar 2024)\",\"Haiku 3 (Mar 2024)\",\"Haiku 3 (Mar 2024)\",\"Haiku 3 (Mar 2024)\",\"Sonnet 3.5 (Jun 2024)\",\"Sonnet 3.5 (Jun 2024)\",\"Sonnet 3.5 (Jun 2024)\",\"Sonnet 3.5 (Jun 2024)\",\"Sonnet 3.5 (Jun 2024)\",\"Sonnet 3.5 (Jun 2024)\",\"Sonnet 3.5 (Jun 2024)\",\"Sonnet 3.5 (Jun 2024)\",\"Sonnet 3.5 (Jun 2024)\",\"Sonnet 3.5 (Jun 2024)\",\"Sonnet 3.5 (Jun 2024)\",\"Sonnet 3.5 (Jun 2024)\",\"Sonnet 3.5 (Jun 2024)\",\"Sonnet 3.5 (Jun 2024)\",\"Sonnet 3.5 (Jun 2024)\",\"Sonnet 3.5 (Jun 2024)\",\"Sonnet 3.5 (Jun 2024)\",\"Sonnet 3.5 (Jun 2024)\",\"Sonnet 3.5 (Jun 2024)\",\"Sonnet 3.5 (Jun 2024)\",\"Sonnet 3.5 (Jun 2024)\",\"Sonnet 3.5 (Jun 2024)\",\"Sonnet 3.5 (Jun 2024)\",\"Sonnet 3.5 (Jun 2024)\",\"Sonnet 3.5 (Jun 2024)\",\"Sonnet 3.5 (Jun 2024)\",\"Sonnet 3.5 (Jun 2024)\",\"Sonnet 3.5 (Jun 2024)\",\"Sonnet 3.5 (Jun 2024)\",\"Sonnet 3.5 (Jun 2024)\",\"Sonnet 3.5 (Jun 2024)\",\"Sonnet 3.5 (Jun 2024)\",\"Sonnet 3.5 (Jun 2024)\",\"Sonnet 3.5 (Jun 2024)\",\"Sonnet 3.5 (Jun 2024)\",\"Sonnet 3.5 (Jun 2024)\",\"Sonnet 3.5 (Jun 2024)\",\"Sonnet 3.5 (Jun 2024)\",\"Sonnet 3.5 (Jun 2024)\",\"Sonnet 3.5 (Jun 2024)\",\"Sonnet 3.5 (Jun 2024)\",\"Sonnet 3.5 (Jun 2024)\",\"Sonnet 3.5 (Jun 2024)\",\"Sonnet 3.5 (Jun 2024)\",\"Sonnet 3.5 (Jun 2024)\",\"Sonnet 3.5 (Jun 2024)\",\"Sonnet 3.5 (Jun 2024)\",\"Sonnet 3.5 (Jun 2024)\",\"Sonnet 3.5 (Jun 2024)\",\"Sonnet 3.5 (Jun 2024)\",\"Sonnet 3.5 (Oct 2024)\",\"Sonnet 3.5 (Oct 2024)\",\"Sonnet 3.5 (Oct 2024)\",\"Sonnet 3.5 (Oct 2024)\",\"Sonnet 3.5 (Oct 2024)\",\"Sonnet 3.5 (Oct 2024)\",\"Sonnet 3.5 (Oct 2024)\",\"Sonnet 3.5 (Oct 2024)\",\"Sonnet 3.5 (Oct 2024)\",\"Sonnet 3.5 (Oct 2024)\",\"Sonnet 3.5 (Oct 2024)\",\"Sonnet 3.5 (Oct 2024)\",\"Sonnet 3.5 (Oct 2024)\",\"Sonnet 3.5 (Oct 2024)\",\"Sonnet 3.5 (Oct 2024)\",\"Sonnet 3.5 (Oct 2024)\",\"Sonnet 3.5 (Oct 2024)\",\"Sonnet 3.5 (Oct 2024)\",\"Sonnet 3.5 (Oct 2024)\",\"Sonnet 3.5 (Oct 2024)\",\"Sonnet 3.5 (Oct 2024)\",\"Sonnet 3.5 (Oct 2024)\",\"Sonnet 3.5 (Oct 2024)\",\"Sonnet 3.5 (Oct 2024)\",\"Sonnet 3.5 (Oct 2024)\",\"Sonnet 3.5 (Oct 2024)\",\"Sonnet 3.5 (Oct 2024)\",\"Sonnet 3.5 (Oct 2024)\",\"Sonnet 3.5 (Oct 2024)\",\"Sonnet 3.5 (Oct 2024)\",\"Sonnet 3.5 (Oct 2024)\",\"Sonnet 3.5 (Oct 2024)\",\"Sonnet 3.5 (Oct 2024)\",\"Sonnet 3.5 (Oct 2024)\",\"Sonnet 3.5 (Oct 2024)\",\"Sonnet 3.5 (Oct 2024)\",\"Sonnet 3.5 (Oct 2024)\",\"Sonnet 3.5 (Oct 2024)\",\"Sonnet 3.5 (Oct 2024)\",\"Sonnet 3.5 (Oct 2024)\",\"Sonnet 3.5 (Oct 2024)\",\"Sonnet 3.5 (Oct 2024)\",\"Sonnet 3.5 (Oct 2024)\",\"Sonnet 3.5 (Oct 2024)\",\"Sonnet 3.5 (Oct 2024)\",\"Sonnet 3.5 (Oct 2024)\",\"Sonnet 3.5 (Oct 2024)\",\"Sonnet 3.5 (Oct 2024)\",\"Sonnet 3.5 (Oct 2024)\",\"Sonnet 3.5 (Oct 2024)\",\"Haiku 3.5 (Oct 2024)\",\"Haiku 3.5 (Oct 2024)\",\"Haiku 3.5 (Oct 2024)\",\"Haiku 3.5 (Oct 2024)\",\"Haiku 3.5 (Oct 2024)\",\"Haiku 3.5 (Oct 2024)\",\"Haiku 3.5 (Oct 2024)\",\"Haiku 3.5 (Oct 2024)\",\"Haiku 3.5 (Oct 2024)\",\"Haiku 3.5 (Oct 2024)\",\"Haiku 3.5 (Oct 2024)\",\"Haiku 3.5 (Oct 2024)\",\"Haiku 3.5 (Oct 2024)\",\"Haiku 3.5 (Oct 2024)\",\"Haiku 3.5 (Oct 2024)\",\"Haiku 3.5 (Oct 2024)\",\"Haiku 3.5 (Oct 2024)\",\"Haiku 3.5 (Oct 2024)\",\"Haiku 3.5 (Oct 2024)\",\"Haiku 3.5 (Oct 2024)\",\"Haiku 3.5 (Oct 2024)\",\"Haiku 3.5 (Oct 2024)\",\"Haiku 3.5 (Oct 2024)\",\"Haiku 3.5 (Oct 2024)\",\"Haiku 3.5 (Oct 2024)\",\"Haiku 3.5 (Oct 2024)\",\"Haiku 3.5 (Oct 2024)\",\"Haiku 3.5 (Oct 2024)\",\"Haiku 3.5 (Oct 2024)\",\"Haiku 3.5 (Oct 2024)\",\"Haiku 3.5 (Oct 2024)\",\"Haiku 3.5 (Oct 2024)\",\"Haiku 3.5 (Oct 2024)\",\"Haiku 3.5 (Oct 2024)\",\"Haiku 3.5 (Oct 2024)\",\"Haiku 3.5 (Oct 2024)\",\"Haiku 3.5 (Oct 2024)\",\"Haiku 3.5 (Oct 2024)\",\"Haiku 3.5 (Oct 2024)\",\"Haiku 3.5 (Oct 2024)\",\"Haiku 3.5 (Oct 2024)\",\"Haiku 3.5 (Oct 2024)\",\"Haiku 3.5 (Oct 2024)\",\"Haiku 3.5 (Oct 2024)\",\"Haiku 3.5 (Oct 2024)\",\"Haiku 3.5 (Oct 2024)\",\"Haiku 3.5 (Oct 2024)\",\"Haiku 3.5 (Oct 2024)\",\"Haiku 3.5 (Oct 2024)\",\"Haiku 3.5 (Oct 2024)\"],\"x0\":\" \",\"xaxis\":\"x\",\"y\":[20.97145264624298,23.357761659068444,24.19120301523408,21.68009929485477,27.81980510722749,23.17350703093727,24.23321513649225,25.996444564185644,26.56631041646918,25.97544429385849,27.817479382719352,21.16639048385542,27.76331771646712,26.91095788370505,27.114992384823324,25.874027982429546,23.64227907787546,23.51203469683335,24.99677858416838,24.94606174697879,25.52493394055936,25.51563108687975,25.183759322097,25.946783723178957,27.78497958724033,23.145067496803087,23.8205488966856,25.776563591476364,28.081302436170745,24.52675352456825,23.83901039500048,26.74582307111546,24.69754910931229,25.802115395870526,25.61311141038696,25.577937766831177,24.54953942783475,27.29223263059333,24.731022282428277,25.030863615230047,24.10999558626348,27.8713026642625,23.50460628966913,25.4991872812224,26.23970296656241,26.40124613881775,27.354552067410253,25.793665942311744,25.37144547300804,24.569548947753223,90.62883036808677,82.10334700158577,96.62186761567376,98.5113201096373,95.70538582058704,97.1671139170345,98.45545493452713,106.56221416906097,101.0621070414824,99.18532456791948,71.38259157048074,97.57793057864426,108.35958043170456,98.10330785748296,99.71358133361758,92.54056361371735,99.2675581402452,115.33559011056973,78.51470767108,103.29790184279734,94.93766823513268,109.95069134380503,93.31329778847486,100.43355223346497,100.69835190364051,105.09662017353877,92.4813388430226,96.98754954518849,98.7881981032666,93.1832894124723,86.39184460986883,103.32437261619091,99.85123857845684,93.8245883555794,92.96477962920336,93.60041808186745,104.67024005997848,101.33320722978657,97.63257022542722,96.0844774725939,88.55119959203198,91.46376011564904,98.24405686975804,101.25772756341932,94.8465708518704,97.82574137645707,95.17230289077666,83.38318474806803,72.91435622487195,93.41542481199257,57.28753987938956,52.487459953553554,62.17459085665073,60.0430000254028,52.45661784538696,62.93107299421772,47.904265168532426,55.423360576994135,62.89315881706953,59.30725661081106,56.18361208142789,54.97253079504306,45.72272938567159,53.16583822248881,54.23877582773021,51.9384445207924,37.85684694938447,66.97262428749174,38.52720741496297,61.03951079606621,51.58769956989957,61.33318036808733,54.20826176425571,60.23813857267452,57.00554812693401,54.18948101465768,57.37211293348796,54.19903850052172,60.44478059319577,60.70692595819894,52.91315875849194,55.7791603708168,66.24713075340975,45.24786488462087,52.74245239993672,46.39430614201453,62.62780501492149,56.661369516558445,61.18527689021358,60.4557074046665,59.50670908588631,52.17443932477928,48.61029861138815,57.24639028692839,54.78751575141078,59.58584996850462,56.130385522793766,60.67941490221582,61.08909804760047,45.51495016611296,56.321178316734766,55.58962350190308,51.82881130061978,51.258393561945766,49.62251162953183,49.924554311581375,48.71317221955346,64.44241924325475,47.88221644436036,45.38813213092366,56.01155351828248,54.271598824341496,42.897939673240266,49.26526333651733,52.01770432970402,54.918522487762,55.411160851773936,54.91457421592635,58.32965883675976,52.16002191977789,43.032830976261245,67.20509009732999,49.34567223941028,55.254638878091264,58.36154439684418,48.25659640863686,47.96562956820311,61.14034383800866,49.44718384832967,67.93371759431028,60.74854142049754,50.97672958636864,63.33203700570087,48.11723869811488,54.20322252005421,49.62836296675971,55.98949885843633,49.59515261290984,57.06425328589084,55.59447559807165,68.18187894998124,52.95432160218595,53.75678095046664,52.60036734538025,58.61587790400119,46.177986294248015,62.7160433025422,60.936173512984254,44.81745849156386,58.416991039326255,48.47067829149117,44.999075383962,45.70844453124432,43.49354664501654,45.90507595377359,48.72202137922298,49.66715592521757,48.22695241196406,44.94416849413789,47.40839662799433,46.71906389371054,50.58205721652629,44.34183172822289,47.30723778951951,46.86130535038198,45.90775214062025,45.424463917464855,40.15533894923658,38.19205152861862,47.34299450615425,39.63720595567955,49.75581259995313,46.52245981212042,43.77400938090286,53.35187024825156,44.75050878763176,42.95865053343758,48.96295136679912,54.30064969580164,47.89826971022604,48.76362927074483,43.7278546758195,47.8735276512423,42.84377287976482,51.12254073013012,48.74657836517245,43.42398735112785,45.9258494356683,42.672155089164704,39.59034787318852,47.358413237004136,39.36553469777312,44.47877681548297,50.16794122906601,47.203848466626575,49.35974114491495,51.27302655082711,44.68983687640242,45.06037313096565,44.03741444446481],\"y0\":\" \",\"yaxis\":\"y\",\"type\":\"box\",\"jitter\":0.8}],                        {\"template\":{\"data\":{\"barpolar\":[{\"marker\":{\"line\":{\"color\":\"white\",\"width\":0.5},\"pattern\":{\"fillmode\":\"overlay\",\"size\":10,\"solidity\":0.2}},\"type\":\"barpolar\"}],\"bar\":[{\"error_x\":{\"color\":\"#2a3f5f\"},\"error_y\":{\"color\":\"#2a3f5f\"},\"marker\":{\"line\":{\"color\":\"white\",\"width\":0.5},\"pattern\":{\"fillmode\":\"overlay\",\"size\":10,\"solidity\":0.2}},\"type\":\"bar\"}],\"carpet\":[{\"aaxis\":{\"endlinecolor\":\"#2a3f5f\",\"gridcolor\":\"#C8D4E3\",\"linecolor\":\"#C8D4E3\",\"minorgridcolor\":\"#C8D4E3\",\"startlinecolor\":\"#2a3f5f\"},\"baxis\":{\"endlinecolor\":\"#2a3f5f\",\"gridcolor\":\"#C8D4E3\",\"linecolor\":\"#C8D4E3\",\"minorgridcolor\":\"#C8D4E3\",\"startlinecolor\":\"#2a3f5f\"},\"type\":\"carpet\"}],\"choropleth\":[{\"colorbar\":{\"outlinewidth\":0,\"ticks\":\"\"},\"type\":\"choropleth\"}],\"contourcarpet\":[{\"colorbar\":{\"outlinewidth\":0,\"ticks\":\"\"},\"type\":\"contourcarpet\"}],\"contour\":[{\"colorbar\":{\"outlinewidth\":0,\"ticks\":\"\"},\"colorscale\":[[0.0,\"#0d0887\"],[0.1111111111111111,\"#46039f\"],[0.2222222222222222,\"#7201a8\"],[0.3333333333333333,\"#9c179e\"],[0.4444444444444444,\"#bd3786\"],[0.5555555555555556,\"#d8576b\"],[0.6666666666666666,\"#ed7953\"],[0.7777777777777778,\"#fb9f3a\"],[0.8888888888888888,\"#fdca26\"],[1.0,\"#f0f921\"]],\"type\":\"contour\"}],\"heatmapgl\":[{\"colorbar\":{\"outlinewidth\":0,\"ticks\":\"\"},\"colorscale\":[[0.0,\"#0d0887\"],[0.1111111111111111,\"#46039f\"],[0.2222222222222222,\"#7201a8\"],[0.3333333333333333,\"#9c179e\"],[0.4444444444444444,\"#bd3786\"],[0.5555555555555556,\"#d8576b\"],[0.6666666666666666,\"#ed7953\"],[0.7777777777777778,\"#fb9f3a\"],[0.8888888888888888,\"#fdca26\"],[1.0,\"#f0f921\"]],\"type\":\"heatmapgl\"}],\"heatmap\":[{\"colorbar\":{\"outlinewidth\":0,\"ticks\":\"\"},\"colorscale\":[[0.0,\"#0d0887\"],[0.1111111111111111,\"#46039f\"],[0.2222222222222222,\"#7201a8\"],[0.3333333333333333,\"#9c179e\"],[0.4444444444444444,\"#bd3786\"],[0.5555555555555556,\"#d8576b\"],[0.6666666666666666,\"#ed7953\"],[0.7777777777777778,\"#fb9f3a\"],[0.8888888888888888,\"#fdca26\"],[1.0,\"#f0f921\"]],\"type\":\"heatmap\"}],\"histogram2dcontour\":[{\"colorbar\":{\"outlinewidth\":0,\"ticks\":\"\"},\"colorscale\":[[0.0,\"#0d0887\"],[0.1111111111111111,\"#46039f\"],[0.2222222222222222,\"#7201a8\"],[0.3333333333333333,\"#9c179e\"],[0.4444444444444444,\"#bd3786\"],[0.5555555555555556,\"#d8576b\"],[0.6666666666666666,\"#ed7953\"],[0.7777777777777778,\"#fb9f3a\"],[0.8888888888888888,\"#fdca26\"],[1.0,\"#f0f921\"]],\"type\":\"histogram2dcontour\"}],\"histogram2d\":[{\"colorbar\":{\"outlinewidth\":0,\"ticks\":\"\"},\"colorscale\":[[0.0,\"#0d0887\"],[0.1111111111111111,\"#46039f\"],[0.2222222222222222,\"#7201a8\"],[0.3333333333333333,\"#9c179e\"],[0.4444444444444444,\"#bd3786\"],[0.5555555555555556,\"#d8576b\"],[0.6666666666666666,\"#ed7953\"],[0.7777777777777778,\"#fb9f3a\"],[0.8888888888888888,\"#fdca26\"],[1.0,\"#f0f921\"]],\"type\":\"histogram2d\"}],\"histogram\":[{\"marker\":{\"pattern\":{\"fillmode\":\"overlay\",\"size\":10,\"solidity\":0.2}},\"type\":\"histogram\"}],\"mesh3d\":[{\"colorbar\":{\"outlinewidth\":0,\"ticks\":\"\"},\"type\":\"mesh3d\"}],\"parcoords\":[{\"line\":{\"colorbar\":{\"outlinewidth\":0,\"ticks\":\"\"}},\"type\":\"parcoords\"}],\"pie\":[{\"automargin\":true,\"type\":\"pie\"}],\"scatter3d\":[{\"line\":{\"colorbar\":{\"outlinewidth\":0,\"ticks\":\"\"}},\"marker\":{\"colorbar\":{\"outlinewidth\":0,\"ticks\":\"\"}},\"type\":\"scatter3d\"}],\"scattercarpet\":[{\"marker\":{\"colorbar\":{\"outlinewidth\":0,\"ticks\":\"\"}},\"type\":\"scattercarpet\"}],\"scattergeo\":[{\"marker\":{\"colorbar\":{\"outlinewidth\":0,\"ticks\":\"\"}},\"type\":\"scattergeo\"}],\"scattergl\":[{\"marker\":{\"colorbar\":{\"outlinewidth\":0,\"ticks\":\"\"}},\"type\":\"scattergl\"}],\"scattermapbox\":[{\"marker\":{\"colorbar\":{\"outlinewidth\":0,\"ticks\":\"\"}},\"type\":\"scattermapbox\"}],\"scatterpolargl\":[{\"marker\":{\"colorbar\":{\"outlinewidth\":0,\"ticks\":\"\"}},\"type\":\"scatterpolargl\"}],\"scatterpolar\":[{\"marker\":{\"colorbar\":{\"outlinewidth\":0,\"ticks\":\"\"}},\"type\":\"scatterpolar\"}],\"scatter\":[{\"fillpattern\":{\"fillmode\":\"overlay\",\"size\":10,\"solidity\":0.2},\"type\":\"scatter\"}],\"scatterternary\":[{\"marker\":{\"colorbar\":{\"outlinewidth\":0,\"ticks\":\"\"}},\"type\":\"scatterternary\"}],\"surface\":[{\"colorbar\":{\"outlinewidth\":0,\"ticks\":\"\"},\"colorscale\":[[0.0,\"#0d0887\"],[0.1111111111111111,\"#46039f\"],[0.2222222222222222,\"#7201a8\"],[0.3333333333333333,\"#9c179e\"],[0.4444444444444444,\"#bd3786\"],[0.5555555555555556,\"#d8576b\"],[0.6666666666666666,\"#ed7953\"],[0.7777777777777778,\"#fb9f3a\"],[0.8888888888888888,\"#fdca26\"],[1.0,\"#f0f921\"]],\"type\":\"surface\"}],\"table\":[{\"cells\":{\"fill\":{\"color\":\"#EBF0F8\"},\"line\":{\"color\":\"white\"}},\"header\":{\"fill\":{\"color\":\"#C8D4E3\"},\"line\":{\"color\":\"white\"}},\"type\":\"table\"}]},\"layout\":{\"annotationdefaults\":{\"arrowcolor\":\"#2a3f5f\",\"arrowhead\":0,\"arrowwidth\":1},\"autotypenumbers\":\"strict\",\"coloraxis\":{\"colorbar\":{\"outlinewidth\":0,\"ticks\":\"\"}},\"colorscale\":{\"diverging\":[[0,\"#8e0152\"],[0.1,\"#c51b7d\"],[0.2,\"#de77ae\"],[0.3,\"#f1b6da\"],[0.4,\"#fde0ef\"],[0.5,\"#f7f7f7\"],[0.6,\"#e6f5d0\"],[0.7,\"#b8e186\"],[0.8,\"#7fbc41\"],[0.9,\"#4d9221\"],[1,\"#276419\"]],\"sequential\":[[0.0,\"#0d0887\"],[0.1111111111111111,\"#46039f\"],[0.2222222222222222,\"#7201a8\"],[0.3333333333333333,\"#9c179e\"],[0.4444444444444444,\"#bd3786\"],[0.5555555555555556,\"#d8576b\"],[0.6666666666666666,\"#ed7953\"],[0.7777777777777778,\"#fb9f3a\"],[0.8888888888888888,\"#fdca26\"],[1.0,\"#f0f921\"]],\"sequentialminus\":[[0.0,\"#0d0887\"],[0.1111111111111111,\"#46039f\"],[0.2222222222222222,\"#7201a8\"],[0.3333333333333333,\"#9c179e\"],[0.4444444444444444,\"#bd3786\"],[0.5555555555555556,\"#d8576b\"],[0.6666666666666666,\"#ed7953\"],[0.7777777777777778,\"#fb9f3a\"],[0.8888888888888888,\"#fdca26\"],[1.0,\"#f0f921\"]]},\"colorway\":[\"#636efa\",\"#EF553B\",\"#00cc96\",\"#ab63fa\",\"#FFA15A\",\"#19d3f3\",\"#FF6692\",\"#B6E880\",\"#FF97FF\",\"#FECB52\"],\"font\":{\"color\":\"#2a3f5f\"},\"geo\":{\"bgcolor\":\"white\",\"lakecolor\":\"white\",\"landcolor\":\"white\",\"showlakes\":true,\"showland\":true,\"subunitcolor\":\"#C8D4E3\"},\"hoverlabel\":{\"align\":\"left\"},\"hovermode\":\"closest\",\"mapbox\":{\"style\":\"light\"},\"paper_bgcolor\":\"white\",\"plot_bgcolor\":\"white\",\"polar\":{\"angularaxis\":{\"gridcolor\":\"#EBF0F8\",\"linecolor\":\"#EBF0F8\",\"ticks\":\"\"},\"bgcolor\":\"white\",\"radialaxis\":{\"gridcolor\":\"#EBF0F8\",\"linecolor\":\"#EBF0F8\",\"ticks\":\"\"}},\"scene\":{\"xaxis\":{\"backgroundcolor\":\"white\",\"gridcolor\":\"#DFE8F3\",\"gridwidth\":2,\"linecolor\":\"#EBF0F8\",\"showbackground\":true,\"ticks\":\"\",\"zerolinecolor\":\"#EBF0F8\"},\"yaxis\":{\"backgroundcolor\":\"white\",\"gridcolor\":\"#DFE8F3\",\"gridwidth\":2,\"linecolor\":\"#EBF0F8\",\"showbackground\":true,\"ticks\":\"\",\"zerolinecolor\":\"#EBF0F8\"},\"zaxis\":{\"backgroundcolor\":\"white\",\"gridcolor\":\"#DFE8F3\",\"gridwidth\":2,\"linecolor\":\"#EBF0F8\",\"showbackground\":true,\"ticks\":\"\",\"zerolinecolor\":\"#EBF0F8\"}},\"shapedefaults\":{\"line\":{\"color\":\"#2a3f5f\"}},\"ternary\":{\"aaxis\":{\"gridcolor\":\"#DFE8F3\",\"linecolor\":\"#A2B1C6\",\"ticks\":\"\"},\"baxis\":{\"gridcolor\":\"#DFE8F3\",\"linecolor\":\"#A2B1C6\",\"ticks\":\"\"},\"bgcolor\":\"white\",\"caxis\":{\"gridcolor\":\"#DFE8F3\",\"linecolor\":\"#A2B1C6\",\"ticks\":\"\"}},\"title\":{\"x\":0.05},\"xaxis\":{\"automargin\":true,\"gridcolor\":\"#EBF0F8\",\"linecolor\":\"#EBF0F8\",\"ticks\":\"\",\"title\":{\"standoff\":15},\"zerolinecolor\":\"#EBF0F8\",\"zerolinewidth\":2},\"yaxis\":{\"automargin\":true,\"gridcolor\":\"#EBF0F8\",\"linecolor\":\"#EBF0F8\",\"ticks\":\"\",\"title\":{\"standoff\":15},\"zerolinecolor\":\"#EBF0F8\",\"zerolinewidth\":2}}},\"xaxis\":{\"anchor\":\"y\",\"domain\":[0.0,1.0],\"title\":{},\"categoryorder\":\"array\",\"categoryarray\":[\"Opus 3 (Feb 2024)\",\"Haiku 3 (Mar 2024)\",\"Haiku 3.5 (Oct 2024)\",\"Sonnet 3.5 (Jun 2024)\",\"Sonnet 3.5 (Oct 2024)\"],\"showgrid\":false,\"ticklabelstandoff\":15,\"showline\":true,\"linewidth\":1.5,\"linecolor\":\"#525252\",\"ticktext\":[\"Opus 3\\u003cbr\\u003e(Feb 2024)\",\"Haiku 3\\u003cbr\\u003e(Mar 2024)\",\"Haiku 3.5\\u003cbr\\u003e(Oct 2024)\",\"Sonnet 3.5\\u003cbr\\u003e(Jun 2024)\",\"Sonnet 3.5\\u003cbr\\u003e(Oct 2024)\"],\"tickvals\":[0,1,2,3,4]},\"yaxis\":{\"anchor\":\"x\",\"domain\":[0.0,1.0],\"title\":{\"text\":\"Individual Speeds (50 runs)\"},\"gridcolor\":\"#F0E4DB\",\"ticklabelstandoff\":10,\"showline\":true,\"linewidth\":1.5,\"linecolor\":\"#525252\"},\"legend\":{\"tracegroupgap\":0},\"title\":{\"text\":\"Model Speed (tokens per second)  — higher is faster\"},\"boxmode\":\"group\",\"height\":700,\"width\":900,\"margin\":{\"t\":100,\"l\":90,\"r\":60,\"b\":80},\"font\":{\"color\":\"#141413\"},\"showlegend\":false},                        {\"responsive\": true}                    ).then(function(){\n",
              "                            \n",
              "var gd = document.getElementById('9ef7b87e-3a19-4cc4-9d9e-429c29cc515e');\n",
              "var x = new MutationObserver(function (mutations, observer) {{\n",
              "        var display = window.getComputedStyle(gd).display;\n",
              "        if (!display || display === 'none') {{\n",
              "            console.log([gd, 'removed!']);\n",
              "            Plotly.purge(gd);\n",
              "            observer.disconnect();\n",
              "        }}\n",
              "}});\n",
              "\n",
              "// Listen for the removal of the full notebook cells\n",
              "var notebookContainer = gd.closest('#notebook-container');\n",
              "if (notebookContainer) {{\n",
              "    x.observe(notebookContainer, {childList: true});\n",
              "}}\n",
              "\n",
              "// Listen for the clearing of the current output cell\n",
              "var outputEl = gd.closest('.output');\n",
              "if (outputEl) {{\n",
              "    x.observe(outputEl, {childList: true});\n",
              "}}\n",
              "\n",
              "                        })                };                            </script>        </div>\n",
              "</body>\n",
              "</html>"
            ]
          },
          "metadata": {}
        }
      ]
    },
    {
      "cell_type": "markdown",
      "source": [
        "## Summary Table"
      ],
      "metadata": {
        "id": "jlQ4MZtJfRC2"
      }
    },
    {
      "cell_type": "code",
      "source": [
        "# 1. Constants/Configuration\n",
        "speed_summary_table_title = 'Model Speed (tokens per second) — higher is faster'\n",
        "\n",
        "# 2. Data Processing\n",
        "speed_summary_df = (\n",
        "    speed_results_df.groupby('model_name', sort=False)\n",
        "    .agg({\n",
        "        'run': 'count',\n",
        "        'tokens_per_second': ['mean', 'median', 'std']\n",
        "    })\n",
        "    .set_axis(['Runs', 'Mean Speed', 'Median Speed', 'Std.Dev'], axis=1)\n",
        "    .reindex(MODEL_NAME_SORT)\n",
        ")\n",
        "\n",
        "# 3. Styling\n",
        "speed_summary_styled = (\n",
        "    speed_summary_df.style\n",
        "    .set_caption(f'Summary: {speed_summary_table_title}')\n",
        "    .set_table_styles([{'selector': 'caption', 'props': [('text-align', 'left')]}])\n",
        "    .format(precision=2)\n",
        "    .map(lambda x: f'background-color: {viz_custom[\"runs_colour\"]}; color: black;', subset=['Runs'])\n",
        "    .background_gradient(cmap='Purples', subset=['Median Speed'], low=0, high=0.3)\n",
        ")\n",
        "\n",
        "# 4. Output\n",
        "display(speed_summary_styled)"
      ],
      "metadata": {
        "colab": {
          "base_uri": "https://localhost:8080/",
          "height": 255
        },
        "id": "N6rXZuuAfUck",
        "outputId": "e31d2931-c58a-4ec7-dde4-31f677e635f8"
      },
      "execution_count": null,
      "outputs": [
        {
          "output_type": "display_data",
          "data": {
            "text/plain": [
              "<pandas.io.formats.style.Styler at 0x79a36a622bd0>"
            ],
            "text/html": [
              "<style type=\"text/css\">\n",
              "#T_13e9d caption {\n",
              "  text-align: left;\n",
              "}\n",
              "#T_13e9d_row0_col0, #T_13e9d_row1_col0, #T_13e9d_row2_col0, #T_13e9d_row3_col0, #T_13e9d_row4_col0 {\n",
              "  background-color: #D4A375;\n",
              "  color: black;\n",
              "}\n",
              "#T_13e9d_row0_col2 {\n",
              "  background-color: #fcfbfd;\n",
              "  color: #000000;\n",
              "}\n",
              "#T_13e9d_row1_col2 {\n",
              "  background-color: #674ba0;\n",
              "  color: #f1f1f1;\n",
              "}\n",
              "#T_13e9d_row2_col2 {\n",
              "  background-color: #dfdfed;\n",
              "  color: #000000;\n",
              "}\n",
              "#T_13e9d_row3_col2 {\n",
              "  background-color: #c8c8e2;\n",
              "  color: #000000;\n",
              "}\n",
              "#T_13e9d_row4_col2 {\n",
              "  background-color: #cdcde4;\n",
              "  color: #000000;\n",
              "}\n",
              "</style>\n",
              "<table id=\"T_13e9d\" class=\"dataframe\">\n",
              "  <caption>Summary: Model Speed (tokens per second) — higher is faster</caption>\n",
              "  <thead>\n",
              "    <tr>\n",
              "      <th class=\"blank level0\" >&nbsp;</th>\n",
              "      <th id=\"T_13e9d_level0_col0\" class=\"col_heading level0 col0\" >Runs</th>\n",
              "      <th id=\"T_13e9d_level0_col1\" class=\"col_heading level0 col1\" >Mean Speed</th>\n",
              "      <th id=\"T_13e9d_level0_col2\" class=\"col_heading level0 col2\" >Median Speed</th>\n",
              "      <th id=\"T_13e9d_level0_col3\" class=\"col_heading level0 col3\" >Std.Dev</th>\n",
              "    </tr>\n",
              "    <tr>\n",
              "      <th class=\"index_name level0\" >model_name</th>\n",
              "      <th class=\"blank col0\" >&nbsp;</th>\n",
              "      <th class=\"blank col1\" >&nbsp;</th>\n",
              "      <th class=\"blank col2\" >&nbsp;</th>\n",
              "      <th class=\"blank col3\" >&nbsp;</th>\n",
              "    </tr>\n",
              "  </thead>\n",
              "  <tbody>\n",
              "    <tr>\n",
              "      <th id=\"T_13e9d_level0_row0\" class=\"row_heading level0 row0\" >Opus 3 (Feb 2024)</th>\n",
              "      <td id=\"T_13e9d_row0_col0\" class=\"data row0 col0\" >50</td>\n",
              "      <td id=\"T_13e9d_row0_col1\" class=\"data row0 col1\" >25.27</td>\n",
              "      <td id=\"T_13e9d_row0_col2\" class=\"data row0 col2\" >25.51</td>\n",
              "      <td id=\"T_13e9d_row0_col3\" class=\"data row0 col3\" >1.71</td>\n",
              "    </tr>\n",
              "    <tr>\n",
              "      <th id=\"T_13e9d_level0_row1\" class=\"row_heading level0 row1\" >Haiku 3 (Mar 2024)</th>\n",
              "      <td id=\"T_13e9d_row1_col0\" class=\"data row1 col0\" >50</td>\n",
              "      <td id=\"T_13e9d_row1_col1\" class=\"data row1 col1\" >96.05</td>\n",
              "      <td id=\"T_13e9d_row1_col2\" class=\"data row1 col2\" >97.37</td>\n",
              "      <td id=\"T_13e9d_row1_col3\" class=\"data row1 col3\" >8.30</td>\n",
              "    </tr>\n",
              "    <tr>\n",
              "      <th id=\"T_13e9d_level0_row2\" class=\"row_heading level0 row2\" >Haiku 3.5 (Oct 2024)</th>\n",
              "      <td id=\"T_13e9d_row2_col0\" class=\"data row2 col0\" >50</td>\n",
              "      <td id=\"T_13e9d_row2_col1\" class=\"data row2 col1\" >46.20</td>\n",
              "      <td id=\"T_13e9d_row2_col2\" class=\"data row2 col2\" >46.22</td>\n",
              "      <td id=\"T_13e9d_row2_col3\" class=\"data row2 col3\" >3.50</td>\n",
              "    </tr>\n",
              "    <tr>\n",
              "      <th id=\"T_13e9d_level0_row3\" class=\"row_heading level0 row3\" >Sonnet 3.5 (Jun 2024)</th>\n",
              "      <td id=\"T_13e9d_row3_col0\" class=\"data row3 col0\" >50</td>\n",
              "      <td id=\"T_13e9d_row3_col1\" class=\"data row3 col1\" >55.61</td>\n",
              "      <td id=\"T_13e9d_row3_col2\" class=\"data row3 col2\" >56.16</td>\n",
              "      <td id=\"T_13e9d_row3_col3\" class=\"data row3 col3\" >6.32</td>\n",
              "    </tr>\n",
              "    <tr>\n",
              "      <th id=\"T_13e9d_level0_row4\" class=\"row_heading level0 row4\" >Sonnet 3.5 (Oct 2024)</th>\n",
              "      <td id=\"T_13e9d_row4_col0\" class=\"data row4 col0\" >50</td>\n",
              "      <td id=\"T_13e9d_row4_col1\" class=\"data row4 col1\" >54.07</td>\n",
              "      <td id=\"T_13e9d_row4_col2\" class=\"data row4 col2\" >53.98</td>\n",
              "      <td id=\"T_13e9d_row4_col3\" class=\"data row4 col3\" >6.23</td>\n",
              "    </tr>\n",
              "  </tbody>\n",
              "</table>\n"
            ]
          },
          "metadata": {}
        }
      ]
    },
    {
      "cell_type": "markdown",
      "source": [
        "<br><a name=\"id-capability-results\"></a>\n",
        "# **CAPABILITY RESULTS**"
      ],
      "metadata": {
        "id": "mqR3iokWfkVY"
      }
    },
    {
      "cell_type": "markdown",
      "source": [
        "## Summary Table"
      ],
      "metadata": {
        "id": "LthCxfYwfe9e"
      }
    },
    {
      "cell_type": "code",
      "source": [
        "# 1. Constants/Configuration\n",
        "prompt_solution = CAPABILITY_PROMPT['number_solution']\n",
        "cap_summary_table_title = f'Summary: Model Capability by Correct Response ({prompt_solution} = Correct)'\n",
        "\n",
        "def format_number_to_3dp(x):\n",
        "    return f\"{float(x):.3f}\" if isinstance(x, (int, float)) else x\n",
        "\n",
        "# 2. Data Processing\n",
        "model_cat = pd.Categorical(\n",
        "    cap_results_df['model_name'], categories=MODEL_NAME_SORT, ordered=True)\n",
        "\n",
        "# Build summary table\n",
        "cap_summary_df = (\n",
        "    pd.crosstab(model_cat, cap_results_df['prompt_response'].astype(float))\n",
        "    .rename_axis('model_name')\n",
        "    .assign(\n",
        "        Runs=lambda df: df.sum(axis=1),\n",
        "        **{'Correct %': cap_results_df.groupby('model_name', observed=True)['is_correct'].mean()}\n",
        "    )\n",
        "    .rename(columns=format_number_to_3dp)\n",
        ")\n",
        "\n",
        "# 3. Styling\n",
        "cap_summary_styled = (\n",
        "    cap_summary_df.style\n",
        "    .set_caption(cap_summary_table_title)\n",
        "    .set_table_styles([{'selector': 'caption', 'props': [('text-align', 'left')]}])\n",
        "    .format({\n",
        "        'Runs': '{:.0f}',\n",
        "        'Correct %': '{:.0%}' # Format decimal as percent\n",
        "    })\n",
        "    .map(lambda x: f'background-color: {viz_custom[\"runs_colour\"]}; color: black;',\n",
        "         subset=['Runs'])\n",
        "    .background_gradient(cmap='Purples', subset=['Correct %'], low=0, high=0.2)\n",
        ")\n",
        "\n",
        "# 4. Output\n",
        "print(wrap_my_prompt(CAPABILITY_PROMPT['prompt'], 'capability',width=68))\n",
        "print()\n",
        "display(cap_summary_styled)"
      ],
      "metadata": {
        "colab": {
          "base_uri": "https://localhost:8080/",
          "height": 428
        },
        "id": "AcskSUJZfsqS",
        "outputId": "c7fe3d88-6718-4d9d-e28b-4ff7184b2a58"
      },
      "execution_count": null,
      "outputs": [
        {
          "output_type": "stream",
          "name": "stdout",
          "text": [
            "Test Prompt (capability):\n",
            "~~~~~~~~~~~~~~~~~~~~~~~~~\n",
            "What is the geometric monthly fecal coliform mean of a distribution\n",
            "system with the following FC counts: 24, 15, 7, 16, 31 and 23? The\n",
            "result will be inputted into a NPDES DMR, therefore, round to the\n",
            "nearest whole number. \n",
            "**IMPORTANT!!:** Respond only with a number\n",
            "and strictly nothing else!!\n",
            "\n",
            "\n"
          ]
        },
        {
          "output_type": "display_data",
          "data": {
            "text/plain": [
              "<pandas.io.formats.style.Styler at 0x79a363cad890>"
            ],
            "text/html": [
              "<style type=\"text/css\">\n",
              "#T_dda04 caption {\n",
              "  text-align: left;\n",
              "}\n",
              "#T_dda04_row0_col3, #T_dda04_row1_col3, #T_dda04_row2_col3, #T_dda04_row3_col3, #T_dda04_row4_col3 {\n",
              "  background-color: #D4A375;\n",
              "  color: black;\n",
              "}\n",
              "#T_dda04_row0_col4 {\n",
              "  background-color: #5b3495;\n",
              "  color: #f1f1f1;\n",
              "}\n",
              "#T_dda04_row1_col4 {\n",
              "  background-color: #65489f;\n",
              "  color: #f1f1f1;\n",
              "}\n",
              "#T_dda04_row2_col4 {\n",
              "  background-color: #e7e6f1;\n",
              "  color: #000000;\n",
              "}\n",
              "#T_dda04_row3_col4 {\n",
              "  background-color: #7d78b7;\n",
              "  color: #f1f1f1;\n",
              "}\n",
              "#T_dda04_row4_col4 {\n",
              "  background-color: #fcfbfd;\n",
              "  color: #000000;\n",
              "}\n",
              "</style>\n",
              "<table id=\"T_dda04\" class=\"dataframe\">\n",
              "  <caption>Summary: Model Capability by Correct Response (18 = Correct)</caption>\n",
              "  <thead>\n",
              "    <tr>\n",
              "      <th class=\"index_name level0\" >prompt_response</th>\n",
              "      <th id=\"T_dda04_level0_col0\" class=\"col_heading level0 col0\" >17.000</th>\n",
              "      <th id=\"T_dda04_level0_col1\" class=\"col_heading level0 col1\" >18.000</th>\n",
              "      <th id=\"T_dda04_level0_col2\" class=\"col_heading level0 col2\" >19.000</th>\n",
              "      <th id=\"T_dda04_level0_col3\" class=\"col_heading level0 col3\" >Runs</th>\n",
              "      <th id=\"T_dda04_level0_col4\" class=\"col_heading level0 col4\" >Correct %</th>\n",
              "    </tr>\n",
              "    <tr>\n",
              "      <th class=\"index_name level0\" >model_name</th>\n",
              "      <th class=\"blank col0\" >&nbsp;</th>\n",
              "      <th class=\"blank col1\" >&nbsp;</th>\n",
              "      <th class=\"blank col2\" >&nbsp;</th>\n",
              "      <th class=\"blank col3\" >&nbsp;</th>\n",
              "      <th class=\"blank col4\" >&nbsp;</th>\n",
              "    </tr>\n",
              "  </thead>\n",
              "  <tbody>\n",
              "    <tr>\n",
              "      <th id=\"T_dda04_level0_row0\" class=\"row_heading level0 row0\" >Opus 3 (Feb 2024)</th>\n",
              "      <td id=\"T_dda04_row0_col0\" class=\"data row0 col0\" >1</td>\n",
              "      <td id=\"T_dda04_row0_col1\" class=\"data row0 col1\" >47</td>\n",
              "      <td id=\"T_dda04_row0_col2\" class=\"data row0 col2\" >2</td>\n",
              "      <td id=\"T_dda04_row0_col3\" class=\"data row0 col3\" >50</td>\n",
              "      <td id=\"T_dda04_row0_col4\" class=\"data row0 col4\" >94%</td>\n",
              "    </tr>\n",
              "    <tr>\n",
              "      <th id=\"T_dda04_level0_row1\" class=\"row_heading level0 row1\" >Haiku 3 (Mar 2024)</th>\n",
              "      <td id=\"T_dda04_row1_col0\" class=\"data row1 col0\" >6</td>\n",
              "      <td id=\"T_dda04_row1_col1\" class=\"data row1 col1\" >44</td>\n",
              "      <td id=\"T_dda04_row1_col2\" class=\"data row1 col2\" >0</td>\n",
              "      <td id=\"T_dda04_row1_col3\" class=\"data row1 col3\" >50</td>\n",
              "      <td id=\"T_dda04_row1_col4\" class=\"data row1 col4\" >88%</td>\n",
              "    </tr>\n",
              "    <tr>\n",
              "      <th id=\"T_dda04_level0_row2\" class=\"row_heading level0 row2\" >Haiku 3.5 (Oct 2024)</th>\n",
              "      <td id=\"T_dda04_row2_col0\" class=\"data row2 col0\" >37</td>\n",
              "      <td id=\"T_dda04_row2_col1\" class=\"data row2 col1\" >13</td>\n",
              "      <td id=\"T_dda04_row2_col2\" class=\"data row2 col2\" >0</td>\n",
              "      <td id=\"T_dda04_row2_col3\" class=\"data row2 col3\" >50</td>\n",
              "      <td id=\"T_dda04_row2_col4\" class=\"data row2 col4\" >26%</td>\n",
              "    </tr>\n",
              "    <tr>\n",
              "      <th id=\"T_dda04_level0_row3\" class=\"row_heading level0 row3\" >Sonnet 3.5 (Jun 2024)</th>\n",
              "      <td id=\"T_dda04_row3_col0\" class=\"data row3 col0\" >13</td>\n",
              "      <td id=\"T_dda04_row3_col1\" class=\"data row3 col1\" >37</td>\n",
              "      <td id=\"T_dda04_row3_col2\" class=\"data row3 col2\" >0</td>\n",
              "      <td id=\"T_dda04_row3_col3\" class=\"data row3 col3\" >50</td>\n",
              "      <td id=\"T_dda04_row3_col4\" class=\"data row3 col4\" >74%</td>\n",
              "    </tr>\n",
              "    <tr>\n",
              "      <th id=\"T_dda04_level0_row4\" class=\"row_heading level0 row4\" >Sonnet 3.5 (Oct 2024)</th>\n",
              "      <td id=\"T_dda04_row4_col0\" class=\"data row4 col0\" >46</td>\n",
              "      <td id=\"T_dda04_row4_col1\" class=\"data row4 col1\" >4</td>\n",
              "      <td id=\"T_dda04_row4_col2\" class=\"data row4 col2\" >0</td>\n",
              "      <td id=\"T_dda04_row4_col3\" class=\"data row4 col3\" >50</td>\n",
              "      <td id=\"T_dda04_row4_col4\" class=\"data row4 col4\" >8%</td>\n",
              "    </tr>\n",
              "  </tbody>\n",
              "</table>\n"
            ]
          },
          "metadata": {}
        }
      ]
    },
    {
      "cell_type": "markdown",
      "source": [
        "## Barchart"
      ],
      "metadata": {
        "id": "1uQA2dQPf1R5"
      }
    },
    {
      "cell_type": "code",
      "source": [
        "# 1. Create Base Visualization\n",
        "cap_bar_fig_title = 'Model Capability: Correct Math Solution Responses (%)'\n",
        "data_for_plot = cap_summary_df['Correct %'].reset_index()\n",
        "\n",
        "cap_bar_fig = px.bar(data_for_plot, x='Correct %', y='model_name',\n",
        "    title=cap_bar_fig_title,\n",
        "    template=viz_custom['template'],\n",
        "    width=600, height=350,\n",
        "    text='Correct %',\n",
        ")\n",
        "\n",
        "# 2. Add Supplementary Elements\n",
        "# Update text position and format\n",
        "cap_bar_fig.update_traces(\n",
        "    marker_color=viz_custom['runs_colour'], textfont=dict(color='white'),\n",
        "    texttemplate='%{text:.0%} ', textposition='auto',\n",
        ")\n",
        "\n",
        "# 3. Style & Format\n",
        "# Axis styling\n",
        "cap_bar_fig.update_xaxes(title='Correct Responses % (same prompt run 50 times per model)', showgrid=False,\n",
        "    gridcolor=viz_custom['grid_colour'],\n",
        "    showline=False, showticklabels=False,\n",
        ")\n",
        "cap_bar_fig.update_yaxes(title='', showgrid=False,\n",
        "    categoryarray=MODEL_NAME_SORT[::-1],  # Reverse order\n",
        "    categoryorder='array',\n",
        "    ticklabelstandoff=10,\n",
        "    showline=True, linewidth=1, linecolor=viz_custom['axis_colour'],\n",
        ")\n",
        "\n",
        "# Layout styling\n",
        "cap_bar_fig.update_layout(showlegend=False,\n",
        "    margin=dict(t=100, l=80, r=80, b=60),\n",
        "    font=dict(color=viz_custom['font_colour']),\n",
        ")\n",
        "\n",
        "# 4. Output & Display\n",
        "# cap_bar_fig.write_html('cap_bar_fig.html')\n",
        "# cap_bar_fig.write_image('cap_bar_fig.svg')\n",
        "print(wrap_my_prompt(CAPABILITY_PROMPT['prompt'], 'capability'))\n",
        "cap_bar_fig.show()"
      ],
      "metadata": {
        "colab": {
          "base_uri": "https://localhost:8080/",
          "height": 489
        },
        "id": "Oj6XbZsgf4sE",
        "outputId": "1fd64b27-abd4-40ff-cd56-2483aa404b10"
      },
      "execution_count": null,
      "outputs": [
        {
          "output_type": "stream",
          "name": "stdout",
          "text": [
            "Test Prompt (capability):\n",
            "~~~~~~~~~~~~~~~~~~~~~~~~~\n",
            "What is the geometric monthly fecal coliform mean of a distribution system with\n",
            "the following FC counts: 24, 15, 7, 16, 31 and 23? The result will be inputted\n",
            "into a NPDES DMR, therefore, round to the nearest whole number.\n",
            "**IMPORTANT!!:** Respond only with a number and strictly nothing else!!\n",
            "\n"
          ]
        },
        {
          "output_type": "display_data",
          "data": {
            "text/html": [
              "<html>\n",
              "<head><meta charset=\"utf-8\" /></head>\n",
              "<body>\n",
              "    <div>            <script src=\"https://cdnjs.cloudflare.com/ajax/libs/mathjax/2.7.5/MathJax.js?config=TeX-AMS-MML_SVG\"></script><script type=\"text/javascript\">if (window.MathJax && window.MathJax.Hub && window.MathJax.Hub.Config) {window.MathJax.Hub.Config({SVG: {font: \"STIX-Web\"}});}</script>                <script type=\"text/javascript\">window.PlotlyConfig = {MathJaxConfig: 'local'};</script>\n",
              "        <script charset=\"utf-8\" src=\"https://cdn.plot.ly/plotly-2.35.2.min.js\"></script>                <div id=\"de75af30-2dc1-497d-b427-1fc1fd2b99d0\" class=\"plotly-graph-div\" style=\"height:350px; width:600px;\"></div>            <script type=\"text/javascript\">                                    window.PLOTLYENV=window.PLOTLYENV || {};                                    if (document.getElementById(\"de75af30-2dc1-497d-b427-1fc1fd2b99d0\")) {                    Plotly.newPlot(                        \"de75af30-2dc1-497d-b427-1fc1fd2b99d0\",                        [{\"alignmentgroup\":\"True\",\"hovertemplate\":\"Correct %=%{text}\\u003cbr\\u003emodel_name=%{y}\\u003cextra\\u003e\\u003c\\u002fextra\\u003e\",\"legendgroup\":\"\",\"marker\":{\"color\":\"#D4A375\",\"pattern\":{\"shape\":\"\"}},\"name\":\"\",\"offsetgroup\":\"\",\"orientation\":\"h\",\"showlegend\":false,\"text\":[0.94,0.88,0.26,0.74,0.08],\"textposition\":\"auto\",\"x\":[0.94,0.88,0.26,0.74,0.08],\"xaxis\":\"x\",\"y\":[\"Opus 3 (Feb 2024)\",\"Haiku 3 (Mar 2024)\",\"Haiku 3.5 (Oct 2024)\",\"Sonnet 3.5 (Jun 2024)\",\"Sonnet 3.5 (Oct 2024)\"],\"yaxis\":\"y\",\"type\":\"bar\",\"textfont\":{\"color\":\"white\"},\"texttemplate\":\"%{text:.0%} \"}],                        {\"template\":{\"data\":{\"barpolar\":[{\"marker\":{\"line\":{\"color\":\"white\",\"width\":0.5},\"pattern\":{\"fillmode\":\"overlay\",\"size\":10,\"solidity\":0.2}},\"type\":\"barpolar\"}],\"bar\":[{\"error_x\":{\"color\":\"#2a3f5f\"},\"error_y\":{\"color\":\"#2a3f5f\"},\"marker\":{\"line\":{\"color\":\"white\",\"width\":0.5},\"pattern\":{\"fillmode\":\"overlay\",\"size\":10,\"solidity\":0.2}},\"type\":\"bar\"}],\"carpet\":[{\"aaxis\":{\"endlinecolor\":\"#2a3f5f\",\"gridcolor\":\"#C8D4E3\",\"linecolor\":\"#C8D4E3\",\"minorgridcolor\":\"#C8D4E3\",\"startlinecolor\":\"#2a3f5f\"},\"baxis\":{\"endlinecolor\":\"#2a3f5f\",\"gridcolor\":\"#C8D4E3\",\"linecolor\":\"#C8D4E3\",\"minorgridcolor\":\"#C8D4E3\",\"startlinecolor\":\"#2a3f5f\"},\"type\":\"carpet\"}],\"choropleth\":[{\"colorbar\":{\"outlinewidth\":0,\"ticks\":\"\"},\"type\":\"choropleth\"}],\"contourcarpet\":[{\"colorbar\":{\"outlinewidth\":0,\"ticks\":\"\"},\"type\":\"contourcarpet\"}],\"contour\":[{\"colorbar\":{\"outlinewidth\":0,\"ticks\":\"\"},\"colorscale\":[[0.0,\"#0d0887\"],[0.1111111111111111,\"#46039f\"],[0.2222222222222222,\"#7201a8\"],[0.3333333333333333,\"#9c179e\"],[0.4444444444444444,\"#bd3786\"],[0.5555555555555556,\"#d8576b\"],[0.6666666666666666,\"#ed7953\"],[0.7777777777777778,\"#fb9f3a\"],[0.8888888888888888,\"#fdca26\"],[1.0,\"#f0f921\"]],\"type\":\"contour\"}],\"heatmapgl\":[{\"colorbar\":{\"outlinewidth\":0,\"ticks\":\"\"},\"colorscale\":[[0.0,\"#0d0887\"],[0.1111111111111111,\"#46039f\"],[0.2222222222222222,\"#7201a8\"],[0.3333333333333333,\"#9c179e\"],[0.4444444444444444,\"#bd3786\"],[0.5555555555555556,\"#d8576b\"],[0.6666666666666666,\"#ed7953\"],[0.7777777777777778,\"#fb9f3a\"],[0.8888888888888888,\"#fdca26\"],[1.0,\"#f0f921\"]],\"type\":\"heatmapgl\"}],\"heatmap\":[{\"colorbar\":{\"outlinewidth\":0,\"ticks\":\"\"},\"colorscale\":[[0.0,\"#0d0887\"],[0.1111111111111111,\"#46039f\"],[0.2222222222222222,\"#7201a8\"],[0.3333333333333333,\"#9c179e\"],[0.4444444444444444,\"#bd3786\"],[0.5555555555555556,\"#d8576b\"],[0.6666666666666666,\"#ed7953\"],[0.7777777777777778,\"#fb9f3a\"],[0.8888888888888888,\"#fdca26\"],[1.0,\"#f0f921\"]],\"type\":\"heatmap\"}],\"histogram2dcontour\":[{\"colorbar\":{\"outlinewidth\":0,\"ticks\":\"\"},\"colorscale\":[[0.0,\"#0d0887\"],[0.1111111111111111,\"#46039f\"],[0.2222222222222222,\"#7201a8\"],[0.3333333333333333,\"#9c179e\"],[0.4444444444444444,\"#bd3786\"],[0.5555555555555556,\"#d8576b\"],[0.6666666666666666,\"#ed7953\"],[0.7777777777777778,\"#fb9f3a\"],[0.8888888888888888,\"#fdca26\"],[1.0,\"#f0f921\"]],\"type\":\"histogram2dcontour\"}],\"histogram2d\":[{\"colorbar\":{\"outlinewidth\":0,\"ticks\":\"\"},\"colorscale\":[[0.0,\"#0d0887\"],[0.1111111111111111,\"#46039f\"],[0.2222222222222222,\"#7201a8\"],[0.3333333333333333,\"#9c179e\"],[0.4444444444444444,\"#bd3786\"],[0.5555555555555556,\"#d8576b\"],[0.6666666666666666,\"#ed7953\"],[0.7777777777777778,\"#fb9f3a\"],[0.8888888888888888,\"#fdca26\"],[1.0,\"#f0f921\"]],\"type\":\"histogram2d\"}],\"histogram\":[{\"marker\":{\"pattern\":{\"fillmode\":\"overlay\",\"size\":10,\"solidity\":0.2}},\"type\":\"histogram\"}],\"mesh3d\":[{\"colorbar\":{\"outlinewidth\":0,\"ticks\":\"\"},\"type\":\"mesh3d\"}],\"parcoords\":[{\"line\":{\"colorbar\":{\"outlinewidth\":0,\"ticks\":\"\"}},\"type\":\"parcoords\"}],\"pie\":[{\"automargin\":true,\"type\":\"pie\"}],\"scatter3d\":[{\"line\":{\"colorbar\":{\"outlinewidth\":0,\"ticks\":\"\"}},\"marker\":{\"colorbar\":{\"outlinewidth\":0,\"ticks\":\"\"}},\"type\":\"scatter3d\"}],\"scattercarpet\":[{\"marker\":{\"colorbar\":{\"outlinewidth\":0,\"ticks\":\"\"}},\"type\":\"scattercarpet\"}],\"scattergeo\":[{\"marker\":{\"colorbar\":{\"outlinewidth\":0,\"ticks\":\"\"}},\"type\":\"scattergeo\"}],\"scattergl\":[{\"marker\":{\"colorbar\":{\"outlinewidth\":0,\"ticks\":\"\"}},\"type\":\"scattergl\"}],\"scattermapbox\":[{\"marker\":{\"colorbar\":{\"outlinewidth\":0,\"ticks\":\"\"}},\"type\":\"scattermapbox\"}],\"scatterpolargl\":[{\"marker\":{\"colorbar\":{\"outlinewidth\":0,\"ticks\":\"\"}},\"type\":\"scatterpolargl\"}],\"scatterpolar\":[{\"marker\":{\"colorbar\":{\"outlinewidth\":0,\"ticks\":\"\"}},\"type\":\"scatterpolar\"}],\"scatter\":[{\"fillpattern\":{\"fillmode\":\"overlay\",\"size\":10,\"solidity\":0.2},\"type\":\"scatter\"}],\"scatterternary\":[{\"marker\":{\"colorbar\":{\"outlinewidth\":0,\"ticks\":\"\"}},\"type\":\"scatterternary\"}],\"surface\":[{\"colorbar\":{\"outlinewidth\":0,\"ticks\":\"\"},\"colorscale\":[[0.0,\"#0d0887\"],[0.1111111111111111,\"#46039f\"],[0.2222222222222222,\"#7201a8\"],[0.3333333333333333,\"#9c179e\"],[0.4444444444444444,\"#bd3786\"],[0.5555555555555556,\"#d8576b\"],[0.6666666666666666,\"#ed7953\"],[0.7777777777777778,\"#fb9f3a\"],[0.8888888888888888,\"#fdca26\"],[1.0,\"#f0f921\"]],\"type\":\"surface\"}],\"table\":[{\"cells\":{\"fill\":{\"color\":\"#EBF0F8\"},\"line\":{\"color\":\"white\"}},\"header\":{\"fill\":{\"color\":\"#C8D4E3\"},\"line\":{\"color\":\"white\"}},\"type\":\"table\"}]},\"layout\":{\"annotationdefaults\":{\"arrowcolor\":\"#2a3f5f\",\"arrowhead\":0,\"arrowwidth\":1},\"autotypenumbers\":\"strict\",\"coloraxis\":{\"colorbar\":{\"outlinewidth\":0,\"ticks\":\"\"}},\"colorscale\":{\"diverging\":[[0,\"#8e0152\"],[0.1,\"#c51b7d\"],[0.2,\"#de77ae\"],[0.3,\"#f1b6da\"],[0.4,\"#fde0ef\"],[0.5,\"#f7f7f7\"],[0.6,\"#e6f5d0\"],[0.7,\"#b8e186\"],[0.8,\"#7fbc41\"],[0.9,\"#4d9221\"],[1,\"#276419\"]],\"sequential\":[[0.0,\"#0d0887\"],[0.1111111111111111,\"#46039f\"],[0.2222222222222222,\"#7201a8\"],[0.3333333333333333,\"#9c179e\"],[0.4444444444444444,\"#bd3786\"],[0.5555555555555556,\"#d8576b\"],[0.6666666666666666,\"#ed7953\"],[0.7777777777777778,\"#fb9f3a\"],[0.8888888888888888,\"#fdca26\"],[1.0,\"#f0f921\"]],\"sequentialminus\":[[0.0,\"#0d0887\"],[0.1111111111111111,\"#46039f\"],[0.2222222222222222,\"#7201a8\"],[0.3333333333333333,\"#9c179e\"],[0.4444444444444444,\"#bd3786\"],[0.5555555555555556,\"#d8576b\"],[0.6666666666666666,\"#ed7953\"],[0.7777777777777778,\"#fb9f3a\"],[0.8888888888888888,\"#fdca26\"],[1.0,\"#f0f921\"]]},\"colorway\":[\"#636efa\",\"#EF553B\",\"#00cc96\",\"#ab63fa\",\"#FFA15A\",\"#19d3f3\",\"#FF6692\",\"#B6E880\",\"#FF97FF\",\"#FECB52\"],\"font\":{\"color\":\"#2a3f5f\"},\"geo\":{\"bgcolor\":\"white\",\"lakecolor\":\"white\",\"landcolor\":\"white\",\"showlakes\":true,\"showland\":true,\"subunitcolor\":\"#C8D4E3\"},\"hoverlabel\":{\"align\":\"left\"},\"hovermode\":\"closest\",\"mapbox\":{\"style\":\"light\"},\"paper_bgcolor\":\"white\",\"plot_bgcolor\":\"white\",\"polar\":{\"angularaxis\":{\"gridcolor\":\"#EBF0F8\",\"linecolor\":\"#EBF0F8\",\"ticks\":\"\"},\"bgcolor\":\"white\",\"radialaxis\":{\"gridcolor\":\"#EBF0F8\",\"linecolor\":\"#EBF0F8\",\"ticks\":\"\"}},\"scene\":{\"xaxis\":{\"backgroundcolor\":\"white\",\"gridcolor\":\"#DFE8F3\",\"gridwidth\":2,\"linecolor\":\"#EBF0F8\",\"showbackground\":true,\"ticks\":\"\",\"zerolinecolor\":\"#EBF0F8\"},\"yaxis\":{\"backgroundcolor\":\"white\",\"gridcolor\":\"#DFE8F3\",\"gridwidth\":2,\"linecolor\":\"#EBF0F8\",\"showbackground\":true,\"ticks\":\"\",\"zerolinecolor\":\"#EBF0F8\"},\"zaxis\":{\"backgroundcolor\":\"white\",\"gridcolor\":\"#DFE8F3\",\"gridwidth\":2,\"linecolor\":\"#EBF0F8\",\"showbackground\":true,\"ticks\":\"\",\"zerolinecolor\":\"#EBF0F8\"}},\"shapedefaults\":{\"line\":{\"color\":\"#2a3f5f\"}},\"ternary\":{\"aaxis\":{\"gridcolor\":\"#DFE8F3\",\"linecolor\":\"#A2B1C6\",\"ticks\":\"\"},\"baxis\":{\"gridcolor\":\"#DFE8F3\",\"linecolor\":\"#A2B1C6\",\"ticks\":\"\"},\"bgcolor\":\"white\",\"caxis\":{\"gridcolor\":\"#DFE8F3\",\"linecolor\":\"#A2B1C6\",\"ticks\":\"\"}},\"title\":{\"x\":0.05},\"xaxis\":{\"automargin\":true,\"gridcolor\":\"#EBF0F8\",\"linecolor\":\"#EBF0F8\",\"ticks\":\"\",\"title\":{\"standoff\":15},\"zerolinecolor\":\"#EBF0F8\",\"zerolinewidth\":2},\"yaxis\":{\"automargin\":true,\"gridcolor\":\"#EBF0F8\",\"linecolor\":\"#EBF0F8\",\"ticks\":\"\",\"title\":{\"standoff\":15},\"zerolinecolor\":\"#EBF0F8\",\"zerolinewidth\":2}}},\"xaxis\":{\"anchor\":\"y\",\"domain\":[0.0,1.0],\"title\":{\"text\":\"Correct Responses % (same prompt run 50 times per model)\"},\"showgrid\":false,\"gridcolor\":\"#F0E4DB\",\"showline\":false,\"showticklabels\":false},\"yaxis\":{\"anchor\":\"x\",\"domain\":[0.0,1.0],\"title\":{\"text\":\"\"},\"showgrid\":false,\"categoryarray\":[\"Sonnet 3.5 (Oct 2024)\",\"Sonnet 3.5 (Jun 2024)\",\"Haiku 3.5 (Oct 2024)\",\"Haiku 3 (Mar 2024)\",\"Opus 3 (Feb 2024)\"],\"categoryorder\":\"array\",\"ticklabelstandoff\":10,\"showline\":true,\"linewidth\":1,\"linecolor\":\"#525252\"},\"legend\":{\"tracegroupgap\":0},\"title\":{\"text\":\"Model Capability: Correct Math Solution Responses (%)\"},\"barmode\":\"relative\",\"height\":350,\"width\":600,\"margin\":{\"t\":100,\"l\":80,\"r\":80,\"b\":60},\"font\":{\"color\":\"#141413\"},\"showlegend\":false},                        {\"responsive\": true}                    ).then(function(){\n",
              "                            \n",
              "var gd = document.getElementById('de75af30-2dc1-497d-b427-1fc1fd2b99d0');\n",
              "var x = new MutationObserver(function (mutations, observer) {{\n",
              "        var display = window.getComputedStyle(gd).display;\n",
              "        if (!display || display === 'none') {{\n",
              "            console.log([gd, 'removed!']);\n",
              "            Plotly.purge(gd);\n",
              "            observer.disconnect();\n",
              "        }}\n",
              "}});\n",
              "\n",
              "// Listen for the removal of the full notebook cells\n",
              "var notebookContainer = gd.closest('#notebook-container');\n",
              "if (notebookContainer) {{\n",
              "    x.observe(notebookContainer, {childList: true});\n",
              "}}\n",
              "\n",
              "// Listen for the clearing of the current output cell\n",
              "var outputEl = gd.closest('.output');\n",
              "if (outputEl) {{\n",
              "    x.observe(outputEl, {childList: true});\n",
              "}}\n",
              "\n",
              "                        })                };                            </script>        </div>\n",
              "</body>\n",
              "</html>"
            ]
          },
          "metadata": {}
        }
      ]
    },
    {
      "cell_type": "markdown",
      "source": [
        "<br><a name=\"id-costs\"></a>\n",
        "# **COSTS**"
      ],
      "metadata": {
        "id": "5xcuUEQgf7YB"
      }
    },
    {
      "cell_type": "markdown",
      "source": [
        "## Quoted Costs"
      ],
      "metadata": {
        "id": "5LDFNWGegRDD"
      }
    },
    {
      "cell_type": "code",
      "source": [
        "import pandas as pd\n",
        "\n",
        "# Create DataFrame\n",
        "df = pd.DataFrame(MODELS)[['model_name', 'cost_input_mtok', 'cost_output_mtok']]\n",
        "df = df.rename(columns={\n",
        "    'model_name': 'Model Name',\n",
        "    'cost_input_mtok': 'Cost per Million Input Tokens',\n",
        "    'cost_output_mtok': 'Cost per Million Output Tokens'\n",
        "})\n",
        "\n",
        "# Get the maximum value across both price columns for the bars\n",
        "max_value = max(\n",
        "    df['Cost per Million Input Tokens'].max(),\n",
        "    df['Cost per Million Output Tokens'].max()\n",
        ")\n",
        "\n",
        "# Create Styler with number formatting and bars\n",
        "styled_df = df.style.format({\n",
        "    'Cost per Million Input Tokens': '${:.2f}',\n",
        "    'Cost per Million Output Tokens': '${:.2f}'\n",
        "}).bar(\n",
        "    subset=['Cost per Million Input Tokens', 'Cost per Million Output Tokens'],\n",
        "    vmin=0,\n",
        "    vmax=max_value,\n",
        "    align='left',\n",
        "    axis=None,\n",
        ").hide(axis='index')\\\n",
        ".set_caption('Summary: Anthropic Model Pricing ($US/M tokens) • Feb 2025')\\\n",
        ".set_table_styles([\n",
        "    {'selector': 'caption', 'props': [('text-align', 'left')]}\n",
        "])\n",
        "\n",
        "# Display the styled DataFrame\n",
        "display(styled_df)"
      ],
      "metadata": {
        "colab": {
          "base_uri": "https://localhost:8080/",
          "height": 241
        },
        "id": "rdlUuyJHgKzU",
        "outputId": "1e4a1868-1f15-4ec1-a89f-818b305fab3f"
      },
      "execution_count": null,
      "outputs": [
        {
          "output_type": "display_data",
          "data": {
            "text/plain": [
              "<pandas.io.formats.style.Styler at 0x79a363c96c10>"
            ],
            "text/html": [
              "<style type=\"text/css\">\n",
              "#T_aae86 caption {\n",
              "  text-align: left;\n",
              "}\n",
              "#T_aae86_row0_col1, #T_aae86_row2_col2, #T_aae86_row3_col2 {\n",
              "  width: 10em;\n",
              "  background: linear-gradient(90deg, #d65f5f 20.0%, transparent 20.0%);\n",
              "}\n",
              "#T_aae86_row0_col2 {\n",
              "  width: 10em;\n",
              "  background: linear-gradient(90deg, #d65f5f 100.0%, transparent 100.0%);\n",
              "}\n",
              "#T_aae86_row1_col1 {\n",
              "  width: 10em;\n",
              "  background: linear-gradient(90deg, #d65f5f 0.3%, transparent 0.3%);\n",
              "}\n",
              "#T_aae86_row1_col2 {\n",
              "  width: 10em;\n",
              "  background: linear-gradient(90deg, #d65f5f 1.7%, transparent 1.7%);\n",
              "}\n",
              "#T_aae86_row2_col1, #T_aae86_row3_col1 {\n",
              "  width: 10em;\n",
              "  background: linear-gradient(90deg, #d65f5f 4.0%, transparent 4.0%);\n",
              "}\n",
              "#T_aae86_row4_col1 {\n",
              "  width: 10em;\n",
              "  background: linear-gradient(90deg, #d65f5f 1.1%, transparent 1.1%);\n",
              "}\n",
              "#T_aae86_row4_col2 {\n",
              "  width: 10em;\n",
              "  background: linear-gradient(90deg, #d65f5f 5.3%, transparent 5.3%);\n",
              "}\n",
              "</style>\n",
              "<table id=\"T_aae86\" class=\"dataframe\">\n",
              "  <caption>Summary: Anthropic Model Pricing ($US/M tokens) • Feb 2025</caption>\n",
              "  <thead>\n",
              "    <tr>\n",
              "      <th id=\"T_aae86_level0_col0\" class=\"col_heading level0 col0\" >Model Name</th>\n",
              "      <th id=\"T_aae86_level0_col1\" class=\"col_heading level0 col1\" >Cost per Million Input Tokens</th>\n",
              "      <th id=\"T_aae86_level0_col2\" class=\"col_heading level0 col2\" >Cost per Million Output Tokens</th>\n",
              "    </tr>\n",
              "  </thead>\n",
              "  <tbody>\n",
              "    <tr>\n",
              "      <td id=\"T_aae86_row0_col0\" class=\"data row0 col0\" >Opus 3 (Feb 2024)</td>\n",
              "      <td id=\"T_aae86_row0_col1\" class=\"data row0 col1\" >$15.00</td>\n",
              "      <td id=\"T_aae86_row0_col2\" class=\"data row0 col2\" >$75.00</td>\n",
              "    </tr>\n",
              "    <tr>\n",
              "      <td id=\"T_aae86_row1_col0\" class=\"data row1 col0\" >Haiku 3 (Mar 2024)</td>\n",
              "      <td id=\"T_aae86_row1_col1\" class=\"data row1 col1\" >$0.25</td>\n",
              "      <td id=\"T_aae86_row1_col2\" class=\"data row1 col2\" >$1.25</td>\n",
              "    </tr>\n",
              "    <tr>\n",
              "      <td id=\"T_aae86_row2_col0\" class=\"data row2 col0\" >Sonnet 3.5 (Jun 2024)</td>\n",
              "      <td id=\"T_aae86_row2_col1\" class=\"data row2 col1\" >$3.00</td>\n",
              "      <td id=\"T_aae86_row2_col2\" class=\"data row2 col2\" >$15.00</td>\n",
              "    </tr>\n",
              "    <tr>\n",
              "      <td id=\"T_aae86_row3_col0\" class=\"data row3 col0\" >Sonnet 3.5 (Oct 2024)</td>\n",
              "      <td id=\"T_aae86_row3_col1\" class=\"data row3 col1\" >$3.00</td>\n",
              "      <td id=\"T_aae86_row3_col2\" class=\"data row3 col2\" >$15.00</td>\n",
              "    </tr>\n",
              "    <tr>\n",
              "      <td id=\"T_aae86_row4_col0\" class=\"data row4 col0\" >Haiku 3.5 (Oct 2024)</td>\n",
              "      <td id=\"T_aae86_row4_col1\" class=\"data row4 col1\" >$0.80</td>\n",
              "      <td id=\"T_aae86_row4_col2\" class=\"data row4 col2\" >$4.00</td>\n",
              "    </tr>\n",
              "  </tbody>\n",
              "</table>\n"
            ]
          },
          "metadata": {}
        }
      ]
    },
    {
      "cell_type": "markdown",
      "source": [
        "## Cost Calcs"
      ],
      "metadata": {
        "id": "JFk7WKM8gVqA"
      }
    },
    {
      "cell_type": "markdown",
      "source": [
        "- Without totals"
      ],
      "metadata": {
        "id": "_6D69IIvgnUf"
      }
    },
    {
      "cell_type": "code",
      "source": [
        "costs_df = (\n",
        "    all_results_df[[\n",
        "        'model_test_type', 'model_name',\n",
        "        'input_tokens', 'output_tokens',\n",
        "        'USD_per_input_token', 'USD_per_output_token'\n",
        "    ]]\n",
        "    .assign(\n",
        "        model_name=lambda x: pd.Categorical(x['model_name'], categories=MODEL_NAME_SORT, ordered=True),\n",
        "        input_cost=lambda x: x['input_tokens'] * x['USD_per_input_token'],\n",
        "        output_cost=lambda x: x['output_tokens'] * x['USD_per_output_token'],\n",
        "        total_cost=lambda x: (x['input_tokens'] * x['USD_per_input_token'] +\n",
        "                            x['output_tokens'] * x['USD_per_output_token'])\n",
        "    )\n",
        "    .groupby(['model_test_type', 'model_name'], observed=True)\n",
        "    .agg({\n",
        "        'input_cost': 'sum',\n",
        "        'output_cost': 'sum',\n",
        "        'total_cost': 'sum'\n",
        "    })\n",
        "    .rename(columns={\n",
        "        'input_cost': 'Input Token Cost',\n",
        "        'output_cost': 'Output Token Cost',\n",
        "        'total_cost': 'Total Cost',\n",
        "    })\n",
        ")\n",
        "\n",
        "display(costs_df)"
      ],
      "metadata": {
        "colab": {
          "base_uri": "https://localhost:8080/",
          "height": 394
        },
        "id": "N_cmcEcPgpx8",
        "outputId": "0e05ff24-4f87-453d-9a54-c1fe778e1b6f"
      },
      "execution_count": null,
      "outputs": [
        {
          "output_type": "display_data",
          "data": {
            "text/plain": [
              "                                       Input Token Cost  Output Token Cost  \\\n",
              "model_test_type model_name                                                   \n",
              "capability      Opus 3 (Feb 2024)              0.065250           0.018750   \n",
              "                Haiku 3 (Mar 2024)             0.001087           0.000313   \n",
              "                Haiku 3.5 (Oct 2024)           0.003480           0.001000   \n",
              "                Sonnet 3.5 (Jun 2024)          0.013050           0.003750   \n",
              "                Sonnet 3.5 (Oct 2024)          0.013050           0.003750   \n",
              "speed           Opus 3 (Feb 2024)              0.014250           0.522075   \n",
              "                Haiku 3 (Mar 2024)             0.000237           0.007695   \n",
              "                Haiku 3.5 (Oct 2024)           0.000760           0.029596   \n",
              "                Sonnet 3.5 (Jun 2024)          0.002850           0.110685   \n",
              "                Sonnet 3.5 (Oct 2024)          0.002850           0.111225   \n",
              "\n",
              "                                       Total Cost  \n",
              "model_test_type model_name                         \n",
              "capability      Opus 3 (Feb 2024)        0.084000  \n",
              "                Haiku 3 (Mar 2024)       0.001400  \n",
              "                Haiku 3.5 (Oct 2024)     0.004480  \n",
              "                Sonnet 3.5 (Jun 2024)    0.016800  \n",
              "                Sonnet 3.5 (Oct 2024)    0.016800  \n",
              "speed           Opus 3 (Feb 2024)        0.536325  \n",
              "                Haiku 3 (Mar 2024)       0.007933  \n",
              "                Haiku 3.5 (Oct 2024)     0.030356  \n",
              "                Sonnet 3.5 (Jun 2024)    0.113535  \n",
              "                Sonnet 3.5 (Oct 2024)    0.114075  "
            ],
            "text/html": [
              "\n",
              "  <div id=\"df-f9393deb-1b5c-4175-905c-6f84c5283c44\" class=\"colab-df-container\">\n",
              "    <div>\n",
              "<style scoped>\n",
              "    .dataframe tbody tr th:only-of-type {\n",
              "        vertical-align: middle;\n",
              "    }\n",
              "\n",
              "    .dataframe tbody tr th {\n",
              "        vertical-align: top;\n",
              "    }\n",
              "\n",
              "    .dataframe thead th {\n",
              "        text-align: right;\n",
              "    }\n",
              "</style>\n",
              "<table border=\"1\" class=\"dataframe\">\n",
              "  <thead>\n",
              "    <tr style=\"text-align: right;\">\n",
              "      <th></th>\n",
              "      <th></th>\n",
              "      <th>Input Token Cost</th>\n",
              "      <th>Output Token Cost</th>\n",
              "      <th>Total Cost</th>\n",
              "    </tr>\n",
              "    <tr>\n",
              "      <th>model_test_type</th>\n",
              "      <th>model_name</th>\n",
              "      <th></th>\n",
              "      <th></th>\n",
              "      <th></th>\n",
              "    </tr>\n",
              "  </thead>\n",
              "  <tbody>\n",
              "    <tr>\n",
              "      <th rowspan=\"5\" valign=\"top\">capability</th>\n",
              "      <th>Opus 3 (Feb 2024)</th>\n",
              "      <td>0.065250</td>\n",
              "      <td>0.018750</td>\n",
              "      <td>0.084000</td>\n",
              "    </tr>\n",
              "    <tr>\n",
              "      <th>Haiku 3 (Mar 2024)</th>\n",
              "      <td>0.001087</td>\n",
              "      <td>0.000313</td>\n",
              "      <td>0.001400</td>\n",
              "    </tr>\n",
              "    <tr>\n",
              "      <th>Haiku 3.5 (Oct 2024)</th>\n",
              "      <td>0.003480</td>\n",
              "      <td>0.001000</td>\n",
              "      <td>0.004480</td>\n",
              "    </tr>\n",
              "    <tr>\n",
              "      <th>Sonnet 3.5 (Jun 2024)</th>\n",
              "      <td>0.013050</td>\n",
              "      <td>0.003750</td>\n",
              "      <td>0.016800</td>\n",
              "    </tr>\n",
              "    <tr>\n",
              "      <th>Sonnet 3.5 (Oct 2024)</th>\n",
              "      <td>0.013050</td>\n",
              "      <td>0.003750</td>\n",
              "      <td>0.016800</td>\n",
              "    </tr>\n",
              "    <tr>\n",
              "      <th rowspan=\"5\" valign=\"top\">speed</th>\n",
              "      <th>Opus 3 (Feb 2024)</th>\n",
              "      <td>0.014250</td>\n",
              "      <td>0.522075</td>\n",
              "      <td>0.536325</td>\n",
              "    </tr>\n",
              "    <tr>\n",
              "      <th>Haiku 3 (Mar 2024)</th>\n",
              "      <td>0.000237</td>\n",
              "      <td>0.007695</td>\n",
              "      <td>0.007933</td>\n",
              "    </tr>\n",
              "    <tr>\n",
              "      <th>Haiku 3.5 (Oct 2024)</th>\n",
              "      <td>0.000760</td>\n",
              "      <td>0.029596</td>\n",
              "      <td>0.030356</td>\n",
              "    </tr>\n",
              "    <tr>\n",
              "      <th>Sonnet 3.5 (Jun 2024)</th>\n",
              "      <td>0.002850</td>\n",
              "      <td>0.110685</td>\n",
              "      <td>0.113535</td>\n",
              "    </tr>\n",
              "    <tr>\n",
              "      <th>Sonnet 3.5 (Oct 2024)</th>\n",
              "      <td>0.002850</td>\n",
              "      <td>0.111225</td>\n",
              "      <td>0.114075</td>\n",
              "    </tr>\n",
              "  </tbody>\n",
              "</table>\n",
              "</div>\n",
              "    <div class=\"colab-df-buttons\">\n",
              "\n",
              "  <div class=\"colab-df-container\">\n",
              "    <button class=\"colab-df-convert\" onclick=\"convertToInteractive('df-f9393deb-1b5c-4175-905c-6f84c5283c44')\"\n",
              "            title=\"Convert this dataframe to an interactive table.\"\n",
              "            style=\"display:none;\">\n",
              "\n",
              "  <svg xmlns=\"http://www.w3.org/2000/svg\" height=\"24px\" viewBox=\"0 -960 960 960\">\n",
              "    <path d=\"M120-120v-720h720v720H120Zm60-500h600v-160H180v160Zm220 220h160v-160H400v160Zm0 220h160v-160H400v160ZM180-400h160v-160H180v160Zm440 0h160v-160H620v160ZM180-180h160v-160H180v160Zm440 0h160v-160H620v160Z\"/>\n",
              "  </svg>\n",
              "    </button>\n",
              "\n",
              "  <style>\n",
              "    .colab-df-container {\n",
              "      display:flex;\n",
              "      gap: 12px;\n",
              "    }\n",
              "\n",
              "    .colab-df-convert {\n",
              "      background-color: #E8F0FE;\n",
              "      border: none;\n",
              "      border-radius: 50%;\n",
              "      cursor: pointer;\n",
              "      display: none;\n",
              "      fill: #1967D2;\n",
              "      height: 32px;\n",
              "      padding: 0 0 0 0;\n",
              "      width: 32px;\n",
              "    }\n",
              "\n",
              "    .colab-df-convert:hover {\n",
              "      background-color: #E2EBFA;\n",
              "      box-shadow: 0px 1px 2px rgba(60, 64, 67, 0.3), 0px 1px 3px 1px rgba(60, 64, 67, 0.15);\n",
              "      fill: #174EA6;\n",
              "    }\n",
              "\n",
              "    .colab-df-buttons div {\n",
              "      margin-bottom: 4px;\n",
              "    }\n",
              "\n",
              "    [theme=dark] .colab-df-convert {\n",
              "      background-color: #3B4455;\n",
              "      fill: #D2E3FC;\n",
              "    }\n",
              "\n",
              "    [theme=dark] .colab-df-convert:hover {\n",
              "      background-color: #434B5C;\n",
              "      box-shadow: 0px 1px 3px 1px rgba(0, 0, 0, 0.15);\n",
              "      filter: drop-shadow(0px 1px 2px rgba(0, 0, 0, 0.3));\n",
              "      fill: #FFFFFF;\n",
              "    }\n",
              "  </style>\n",
              "\n",
              "    <script>\n",
              "      const buttonEl =\n",
              "        document.querySelector('#df-f9393deb-1b5c-4175-905c-6f84c5283c44 button.colab-df-convert');\n",
              "      buttonEl.style.display =\n",
              "        google.colab.kernel.accessAllowed ? 'block' : 'none';\n",
              "\n",
              "      async function convertToInteractive(key) {\n",
              "        const element = document.querySelector('#df-f9393deb-1b5c-4175-905c-6f84c5283c44');\n",
              "        const dataTable =\n",
              "          await google.colab.kernel.invokeFunction('convertToInteractive',\n",
              "                                                    [key], {});\n",
              "        if (!dataTable) return;\n",
              "\n",
              "        const docLinkHtml = 'Like what you see? Visit the ' +\n",
              "          '<a target=\"_blank\" href=https://colab.research.google.com/notebooks/data_table.ipynb>data table notebook</a>'\n",
              "          + ' to learn more about interactive tables.';\n",
              "        element.innerHTML = '';\n",
              "        dataTable['output_type'] = 'display_data';\n",
              "        await google.colab.output.renderOutput(dataTable, element);\n",
              "        const docLink = document.createElement('div');\n",
              "        docLink.innerHTML = docLinkHtml;\n",
              "        element.appendChild(docLink);\n",
              "      }\n",
              "    </script>\n",
              "  </div>\n",
              "\n",
              "\n",
              "<div id=\"df-5530ed9e-48ef-4866-9980-af0a210630e7\">\n",
              "  <button class=\"colab-df-quickchart\" onclick=\"quickchart('df-5530ed9e-48ef-4866-9980-af0a210630e7')\"\n",
              "            title=\"Suggest charts\"\n",
              "            style=\"display:none;\">\n",
              "\n",
              "<svg xmlns=\"http://www.w3.org/2000/svg\" height=\"24px\"viewBox=\"0 0 24 24\"\n",
              "     width=\"24px\">\n",
              "    <g>\n",
              "        <path d=\"M19 3H5c-1.1 0-2 .9-2 2v14c0 1.1.9 2 2 2h14c1.1 0 2-.9 2-2V5c0-1.1-.9-2-2-2zM9 17H7v-7h2v7zm4 0h-2V7h2v10zm4 0h-2v-4h2v4z\"/>\n",
              "    </g>\n",
              "</svg>\n",
              "  </button>\n",
              "\n",
              "<style>\n",
              "  .colab-df-quickchart {\n",
              "      --bg-color: #E8F0FE;\n",
              "      --fill-color: #1967D2;\n",
              "      --hover-bg-color: #E2EBFA;\n",
              "      --hover-fill-color: #174EA6;\n",
              "      --disabled-fill-color: #AAA;\n",
              "      --disabled-bg-color: #DDD;\n",
              "  }\n",
              "\n",
              "  [theme=dark] .colab-df-quickchart {\n",
              "      --bg-color: #3B4455;\n",
              "      --fill-color: #D2E3FC;\n",
              "      --hover-bg-color: #434B5C;\n",
              "      --hover-fill-color: #FFFFFF;\n",
              "      --disabled-bg-color: #3B4455;\n",
              "      --disabled-fill-color: #666;\n",
              "  }\n",
              "\n",
              "  .colab-df-quickchart {\n",
              "    background-color: var(--bg-color);\n",
              "    border: none;\n",
              "    border-radius: 50%;\n",
              "    cursor: pointer;\n",
              "    display: none;\n",
              "    fill: var(--fill-color);\n",
              "    height: 32px;\n",
              "    padding: 0;\n",
              "    width: 32px;\n",
              "  }\n",
              "\n",
              "  .colab-df-quickchart:hover {\n",
              "    background-color: var(--hover-bg-color);\n",
              "    box-shadow: 0 1px 2px rgba(60, 64, 67, 0.3), 0 1px 3px 1px rgba(60, 64, 67, 0.15);\n",
              "    fill: var(--button-hover-fill-color);\n",
              "  }\n",
              "\n",
              "  .colab-df-quickchart-complete:disabled,\n",
              "  .colab-df-quickchart-complete:disabled:hover {\n",
              "    background-color: var(--disabled-bg-color);\n",
              "    fill: var(--disabled-fill-color);\n",
              "    box-shadow: none;\n",
              "  }\n",
              "\n",
              "  .colab-df-spinner {\n",
              "    border: 2px solid var(--fill-color);\n",
              "    border-color: transparent;\n",
              "    border-bottom-color: var(--fill-color);\n",
              "    animation:\n",
              "      spin 1s steps(1) infinite;\n",
              "  }\n",
              "\n",
              "  @keyframes spin {\n",
              "    0% {\n",
              "      border-color: transparent;\n",
              "      border-bottom-color: var(--fill-color);\n",
              "      border-left-color: var(--fill-color);\n",
              "    }\n",
              "    20% {\n",
              "      border-color: transparent;\n",
              "      border-left-color: var(--fill-color);\n",
              "      border-top-color: var(--fill-color);\n",
              "    }\n",
              "    30% {\n",
              "      border-color: transparent;\n",
              "      border-left-color: var(--fill-color);\n",
              "      border-top-color: var(--fill-color);\n",
              "      border-right-color: var(--fill-color);\n",
              "    }\n",
              "    40% {\n",
              "      border-color: transparent;\n",
              "      border-right-color: var(--fill-color);\n",
              "      border-top-color: var(--fill-color);\n",
              "    }\n",
              "    60% {\n",
              "      border-color: transparent;\n",
              "      border-right-color: var(--fill-color);\n",
              "    }\n",
              "    80% {\n",
              "      border-color: transparent;\n",
              "      border-right-color: var(--fill-color);\n",
              "      border-bottom-color: var(--fill-color);\n",
              "    }\n",
              "    90% {\n",
              "      border-color: transparent;\n",
              "      border-bottom-color: var(--fill-color);\n",
              "    }\n",
              "  }\n",
              "</style>\n",
              "\n",
              "  <script>\n",
              "    async function quickchart(key) {\n",
              "      const quickchartButtonEl =\n",
              "        document.querySelector('#' + key + ' button');\n",
              "      quickchartButtonEl.disabled = true;  // To prevent multiple clicks.\n",
              "      quickchartButtonEl.classList.add('colab-df-spinner');\n",
              "      try {\n",
              "        const charts = await google.colab.kernel.invokeFunction(\n",
              "            'suggestCharts', [key], {});\n",
              "      } catch (error) {\n",
              "        console.error('Error during call to suggestCharts:', error);\n",
              "      }\n",
              "      quickchartButtonEl.classList.remove('colab-df-spinner');\n",
              "      quickchartButtonEl.classList.add('colab-df-quickchart-complete');\n",
              "    }\n",
              "    (() => {\n",
              "      let quickchartButtonEl =\n",
              "        document.querySelector('#df-5530ed9e-48ef-4866-9980-af0a210630e7 button');\n",
              "      quickchartButtonEl.style.display =\n",
              "        google.colab.kernel.accessAllowed ? 'block' : 'none';\n",
              "    })();\n",
              "  </script>\n",
              "</div>\n",
              "\n",
              "  <div id=\"id_a0f06795-77cd-43bc-adda-07a14583b0a9\">\n",
              "    <style>\n",
              "      .colab-df-generate {\n",
              "        background-color: #E8F0FE;\n",
              "        border: none;\n",
              "        border-radius: 50%;\n",
              "        cursor: pointer;\n",
              "        display: none;\n",
              "        fill: #1967D2;\n",
              "        height: 32px;\n",
              "        padding: 0 0 0 0;\n",
              "        width: 32px;\n",
              "      }\n",
              "\n",
              "      .colab-df-generate:hover {\n",
              "        background-color: #E2EBFA;\n",
              "        box-shadow: 0px 1px 2px rgba(60, 64, 67, 0.3), 0px 1px 3px 1px rgba(60, 64, 67, 0.15);\n",
              "        fill: #174EA6;\n",
              "      }\n",
              "\n",
              "      [theme=dark] .colab-df-generate {\n",
              "        background-color: #3B4455;\n",
              "        fill: #D2E3FC;\n",
              "      }\n",
              "\n",
              "      [theme=dark] .colab-df-generate:hover {\n",
              "        background-color: #434B5C;\n",
              "        box-shadow: 0px 1px 3px 1px rgba(0, 0, 0, 0.15);\n",
              "        filter: drop-shadow(0px 1px 2px rgba(0, 0, 0, 0.3));\n",
              "        fill: #FFFFFF;\n",
              "      }\n",
              "    </style>\n",
              "    <button class=\"colab-df-generate\" onclick=\"generateWithVariable('costs_df')\"\n",
              "            title=\"Generate code using this dataframe.\"\n",
              "            style=\"display:none;\">\n",
              "\n",
              "  <svg xmlns=\"http://www.w3.org/2000/svg\" height=\"24px\"viewBox=\"0 0 24 24\"\n",
              "       width=\"24px\">\n",
              "    <path d=\"M7,19H8.4L18.45,9,17,7.55,7,17.6ZM5,21V16.75L18.45,3.32a2,2,0,0,1,2.83,0l1.4,1.43a1.91,1.91,0,0,1,.58,1.4,1.91,1.91,0,0,1-.58,1.4L9.25,21ZM18.45,9,17,7.55Zm-12,3A5.31,5.31,0,0,0,4.9,8.1,5.31,5.31,0,0,0,1,6.5,5.31,5.31,0,0,0,4.9,4.9,5.31,5.31,0,0,0,6.5,1,5.31,5.31,0,0,0,8.1,4.9,5.31,5.31,0,0,0,12,6.5,5.46,5.46,0,0,0,6.5,12Z\"/>\n",
              "  </svg>\n",
              "    </button>\n",
              "    <script>\n",
              "      (() => {\n",
              "      const buttonEl =\n",
              "        document.querySelector('#id_a0f06795-77cd-43bc-adda-07a14583b0a9 button.colab-df-generate');\n",
              "      buttonEl.style.display =\n",
              "        google.colab.kernel.accessAllowed ? 'block' : 'none';\n",
              "\n",
              "      buttonEl.onclick = () => {\n",
              "        google.colab.notebook.generateWithVariable('costs_df');\n",
              "      }\n",
              "      })();\n",
              "    </script>\n",
              "  </div>\n",
              "\n",
              "    </div>\n",
              "  </div>\n"
            ],
            "application/vnd.google.colaboratory.intrinsic+json": {
              "type": "dataframe",
              "variable_name": "costs_df",
              "summary": "{\n  \"name\": \"costs_df\",\n  \"rows\": 10,\n  \"fields\": [\n    {\n      \"column\": \"Input Token Cost\",\n      \"properties\": {\n        \"dtype\": \"number\",\n        \"std\": 0.019623283336100736,\n        \"min\": 0.00023749999999999997,\n        \"max\": 0.06525,\n        \"num_unique_values\": 8,\n        \"samples\": [\n          0.0010875,\n          0.00023749999999999997,\n          0.06525\n        ],\n        \"semantic_type\": \"\",\n        \"description\": \"\"\n      }\n    },\n    {\n      \"column\": \"Output Token Cost\",\n      \"properties\": {\n        \"dtype\": \"number\",\n        \"std\": 0.16092732140249075,\n        \"min\": 0.0003125,\n        \"max\": 0.522075,\n        \"num_unique_values\": 9,\n        \"samples\": [\n          0.110685,\n          0.0003125,\n          0.0076950000000000005\n        ],\n        \"semantic_type\": \"\",\n        \"description\": \"\"\n      }\n    },\n    {\n      \"column\": \"Total Cost\",\n      \"properties\": {\n        \"dtype\": \"number\",\n        \"std\": 0.16209806091650714,\n        \"min\": 0.0014,\n        \"max\": 0.5363249999999999,\n        \"num_unique_values\": 9,\n        \"samples\": [\n          0.11353500000000001,\n          0.0014,\n          0.0079325\n        ],\n        \"semantic_type\": \"\",\n        \"description\": \"\"\n      }\n    }\n  ]\n}"
            }
          },
          "metadata": {}
        }
      ]
    },
    {
      "cell_type": "markdown",
      "source": [
        "- With totals"
      ],
      "metadata": {
        "id": "ABxYXRglgumn"
      }
    },
    {
      "cell_type": "code",
      "source": [
        "# 2. Calculate subtotals and grand total\n",
        "subtotals = costs_df.groupby(level=0).sum()\n",
        "grand_total = costs_df.sum()\n",
        "\n",
        "# 3. Combine everything with proper indexing\n",
        "final_df = pd.concat([\n",
        "    # Original data\n",
        "    costs_df,\n",
        "    # Subtotals with model_name = 'Subtotal'\n",
        "    subtotals.assign(model_name='Subtotal').set_index('model_name', append=True),\n",
        "    # Grand total with special indexing\n",
        "    pd.DataFrame([grand_total], index=pd.MultiIndex.from_tuples([('Grand Total', '')]))\n",
        "])\n",
        "\n",
        "# 4. Styling with enhanced formatting\n",
        "def style_table(styler):\n",
        "    # Format numbers\n",
        "    styler.format({\n",
        "        'Input Token Cost': '{:.4f}',\n",
        "        'Output Token Cost': '{:.4f}',\n",
        "        'Total Cost': '$ {:.2f}',\n",
        "    })\n",
        "\n",
        "    # Create a mask for regular rows (non-totals)\n",
        "    regular_rows = ~final_df.index.get_level_values(1).isin(['Subtotal', ''])\n",
        "\n",
        "    # Apply background gradient only to regular rows\n",
        "    if regular_rows.any():\n",
        "        styler.background_gradient(\n",
        "            cmap='YlOrRd',\n",
        "            subset=pd.IndexSlice[regular_rows, ['Total Cost']]\n",
        "        )\n",
        "\n",
        "    # Style totals rows\n",
        "    def highlight_totals(x):\n",
        "        df = pd.DataFrame('', index=x.index, columns=x.columns)\n",
        "        for idx in x.index:\n",
        "            if idx[1] == 'Subtotal':\n",
        "                df.loc[idx] = 'background-color: #806FC3; font-weight: bold'\n",
        "            elif idx[0] == 'Grand Total':\n",
        "                df.loc[idx] = 'background-color: #5C48AD; font-weight: bold'\n",
        "        return df\n",
        "\n",
        "    styler.apply(highlight_totals, axis=None)\n",
        "\n",
        "    # Add caption and table styles\n",
        "    styler.set_caption('Summary: Costs by Test Type and Model (US$)')\n",
        "    styler.set_table_styles([\n",
        "        {'selector': 'caption', 'props': [('text-align', 'left')]},\n",
        "        {'selector': 'th', 'props': [('text-align', 'left')]},\n",
        "        # Adjusted border positions - now after Sonnet entries\n",
        "        {'selector': 'tr:nth-child(6)', 'props': [('border-top', '2px solid #666')]},\n",
        "        {'selector': 'tr:nth-child(11)', 'props': [('border-top', '2px solid #666')]},\n",
        "        {'selector': 'tr:last-child', 'props': [('border-top', '2px solid #666')]}\n",
        "    ])\n",
        "\n",
        "    # Add this line before return styler\n",
        "    styler.set_properties(subset=['Total Cost'], **{'color': 'black'})\n",
        "    return styler\n",
        "\n",
        "# 5. Apply styling\n",
        "costs_df_styled = style_table(final_df.style)\n",
        "\n",
        "# 6. Display\n",
        "display(costs_df_styled)"
      ],
      "metadata": {
        "colab": {
          "base_uri": "https://localhost:8080/",
          "height": 482
        },
        "id": "vs2S0tBRgxD2",
        "outputId": "4b280065-229a-4df9-f3e1-7d43b8ae83fe"
      },
      "execution_count": null,
      "outputs": [
        {
          "output_type": "display_data",
          "data": {
            "text/plain": [
              "<pandas.io.formats.style.Styler at 0x79a363c495d0>"
            ],
            "text/html": [
              "<style type=\"text/css\">\n",
              "#T_242a8 caption {\n",
              "  text-align: left;\n",
              "}\n",
              "#T_242a8 th {\n",
              "  text-align: left;\n",
              "}\n",
              "#T_242a8 tr:nth-child(6) {\n",
              "  border-top: 2px solid #666;\n",
              "}\n",
              "#T_242a8 tr:nth-child(11) {\n",
              "  border-top: 2px solid #666;\n",
              "}\n",
              "#T_242a8 tr:last-child {\n",
              "  border-top: 2px solid #666;\n",
              "}\n",
              "#T_242a8_row0_col2 {\n",
              "  background-color: #ffe997;\n",
              "  color: #000000;\n",
              "  color: black;\n",
              "}\n",
              "#T_242a8_row1_col2 {\n",
              "  background-color: #ffffcc;\n",
              "  color: #000000;\n",
              "  color: black;\n",
              "}\n",
              "#T_242a8_row2_col2 {\n",
              "  background-color: #fffecb;\n",
              "  color: #000000;\n",
              "  color: black;\n",
              "}\n",
              "#T_242a8_row3_col2, #T_242a8_row4_col2 {\n",
              "  background-color: #fffbc2;\n",
              "  color: #000000;\n",
              "  color: black;\n",
              "}\n",
              "#T_242a8_row5_col2 {\n",
              "  background-color: #800026;\n",
              "  color: #f1f1f1;\n",
              "  color: black;\n",
              "}\n",
              "#T_242a8_row6_col2 {\n",
              "  background-color: #fffdc8;\n",
              "  color: #000000;\n",
              "  color: black;\n",
              "}\n",
              "#T_242a8_row7_col2 {\n",
              "  background-color: #fff8ba;\n",
              "  color: #000000;\n",
              "  color: black;\n",
              "}\n",
              "#T_242a8_row8_col2, #T_242a8_row9_col2 {\n",
              "  background-color: #fee084;\n",
              "  color: #000000;\n",
              "  color: black;\n",
              "}\n",
              "#T_242a8_row10_col0, #T_242a8_row10_col1, #T_242a8_row11_col0, #T_242a8_row11_col1 {\n",
              "  background-color: #806FC3;\n",
              "  font-weight: bold;\n",
              "}\n",
              "#T_242a8_row10_col2, #T_242a8_row11_col2 {\n",
              "  background-color: #806FC3;\n",
              "  font-weight: bold;\n",
              "  color: black;\n",
              "}\n",
              "#T_242a8_row12_col0, #T_242a8_row12_col1 {\n",
              "  background-color: #5C48AD;\n",
              "  font-weight: bold;\n",
              "}\n",
              "#T_242a8_row12_col2 {\n",
              "  background-color: #5C48AD;\n",
              "  font-weight: bold;\n",
              "  color: black;\n",
              "}\n",
              "</style>\n",
              "<table id=\"T_242a8\" class=\"dataframe\">\n",
              "  <caption>Summary: Costs by Test Type and Model (US$)</caption>\n",
              "  <thead>\n",
              "    <tr>\n",
              "      <th class=\"blank\" >&nbsp;</th>\n",
              "      <th class=\"blank level0\" >&nbsp;</th>\n",
              "      <th id=\"T_242a8_level0_col0\" class=\"col_heading level0 col0\" >Input Token Cost</th>\n",
              "      <th id=\"T_242a8_level0_col1\" class=\"col_heading level0 col1\" >Output Token Cost</th>\n",
              "      <th id=\"T_242a8_level0_col2\" class=\"col_heading level0 col2\" >Total Cost</th>\n",
              "    </tr>\n",
              "  </thead>\n",
              "  <tbody>\n",
              "    <tr>\n",
              "      <th id=\"T_242a8_level0_row0\" class=\"row_heading level0 row0\" rowspan=\"5\">capability</th>\n",
              "      <th id=\"T_242a8_level1_row0\" class=\"row_heading level1 row0\" >Opus 3 (Feb 2024)</th>\n",
              "      <td id=\"T_242a8_row0_col0\" class=\"data row0 col0\" >0.0653</td>\n",
              "      <td id=\"T_242a8_row0_col1\" class=\"data row0 col1\" >0.0187</td>\n",
              "      <td id=\"T_242a8_row0_col2\" class=\"data row0 col2\" >$ 0.08</td>\n",
              "    </tr>\n",
              "    <tr>\n",
              "      <th id=\"T_242a8_level1_row1\" class=\"row_heading level1 row1\" >Haiku 3 (Mar 2024)</th>\n",
              "      <td id=\"T_242a8_row1_col0\" class=\"data row1 col0\" >0.0011</td>\n",
              "      <td id=\"T_242a8_row1_col1\" class=\"data row1 col1\" >0.0003</td>\n",
              "      <td id=\"T_242a8_row1_col2\" class=\"data row1 col2\" >$ 0.00</td>\n",
              "    </tr>\n",
              "    <tr>\n",
              "      <th id=\"T_242a8_level1_row2\" class=\"row_heading level1 row2\" >Haiku 3.5 (Oct 2024)</th>\n",
              "      <td id=\"T_242a8_row2_col0\" class=\"data row2 col0\" >0.0035</td>\n",
              "      <td id=\"T_242a8_row2_col1\" class=\"data row2 col1\" >0.0010</td>\n",
              "      <td id=\"T_242a8_row2_col2\" class=\"data row2 col2\" >$ 0.00</td>\n",
              "    </tr>\n",
              "    <tr>\n",
              "      <th id=\"T_242a8_level1_row3\" class=\"row_heading level1 row3\" >Sonnet 3.5 (Jun 2024)</th>\n",
              "      <td id=\"T_242a8_row3_col0\" class=\"data row3 col0\" >0.0131</td>\n",
              "      <td id=\"T_242a8_row3_col1\" class=\"data row3 col1\" >0.0038</td>\n",
              "      <td id=\"T_242a8_row3_col2\" class=\"data row3 col2\" >$ 0.02</td>\n",
              "    </tr>\n",
              "    <tr>\n",
              "      <th id=\"T_242a8_level1_row4\" class=\"row_heading level1 row4\" >Sonnet 3.5 (Oct 2024)</th>\n",
              "      <td id=\"T_242a8_row4_col0\" class=\"data row4 col0\" >0.0131</td>\n",
              "      <td id=\"T_242a8_row4_col1\" class=\"data row4 col1\" >0.0038</td>\n",
              "      <td id=\"T_242a8_row4_col2\" class=\"data row4 col2\" >$ 0.02</td>\n",
              "    </tr>\n",
              "    <tr>\n",
              "      <th id=\"T_242a8_level0_row5\" class=\"row_heading level0 row5\" rowspan=\"5\">speed</th>\n",
              "      <th id=\"T_242a8_level1_row5\" class=\"row_heading level1 row5\" >Opus 3 (Feb 2024)</th>\n",
              "      <td id=\"T_242a8_row5_col0\" class=\"data row5 col0\" >0.0142</td>\n",
              "      <td id=\"T_242a8_row5_col1\" class=\"data row5 col1\" >0.5221</td>\n",
              "      <td id=\"T_242a8_row5_col2\" class=\"data row5 col2\" >$ 0.54</td>\n",
              "    </tr>\n",
              "    <tr>\n",
              "      <th id=\"T_242a8_level1_row6\" class=\"row_heading level1 row6\" >Haiku 3 (Mar 2024)</th>\n",
              "      <td id=\"T_242a8_row6_col0\" class=\"data row6 col0\" >0.0002</td>\n",
              "      <td id=\"T_242a8_row6_col1\" class=\"data row6 col1\" >0.0077</td>\n",
              "      <td id=\"T_242a8_row6_col2\" class=\"data row6 col2\" >$ 0.01</td>\n",
              "    </tr>\n",
              "    <tr>\n",
              "      <th id=\"T_242a8_level1_row7\" class=\"row_heading level1 row7\" >Haiku 3.5 (Oct 2024)</th>\n",
              "      <td id=\"T_242a8_row7_col0\" class=\"data row7 col0\" >0.0008</td>\n",
              "      <td id=\"T_242a8_row7_col1\" class=\"data row7 col1\" >0.0296</td>\n",
              "      <td id=\"T_242a8_row7_col2\" class=\"data row7 col2\" >$ 0.03</td>\n",
              "    </tr>\n",
              "    <tr>\n",
              "      <th id=\"T_242a8_level1_row8\" class=\"row_heading level1 row8\" >Sonnet 3.5 (Jun 2024)</th>\n",
              "      <td id=\"T_242a8_row8_col0\" class=\"data row8 col0\" >0.0029</td>\n",
              "      <td id=\"T_242a8_row8_col1\" class=\"data row8 col1\" >0.1107</td>\n",
              "      <td id=\"T_242a8_row8_col2\" class=\"data row8 col2\" >$ 0.11</td>\n",
              "    </tr>\n",
              "    <tr>\n",
              "      <th id=\"T_242a8_level1_row9\" class=\"row_heading level1 row9\" >Sonnet 3.5 (Oct 2024)</th>\n",
              "      <td id=\"T_242a8_row9_col0\" class=\"data row9 col0\" >0.0029</td>\n",
              "      <td id=\"T_242a8_row9_col1\" class=\"data row9 col1\" >0.1112</td>\n",
              "      <td id=\"T_242a8_row9_col2\" class=\"data row9 col2\" >$ 0.11</td>\n",
              "    </tr>\n",
              "    <tr>\n",
              "      <th id=\"T_242a8_level0_row10\" class=\"row_heading level0 row10\" >capability</th>\n",
              "      <th id=\"T_242a8_level1_row10\" class=\"row_heading level1 row10\" >Subtotal</th>\n",
              "      <td id=\"T_242a8_row10_col0\" class=\"data row10 col0\" >0.0959</td>\n",
              "      <td id=\"T_242a8_row10_col1\" class=\"data row10 col1\" >0.0276</td>\n",
              "      <td id=\"T_242a8_row10_col2\" class=\"data row10 col2\" >$ 0.12</td>\n",
              "    </tr>\n",
              "    <tr>\n",
              "      <th id=\"T_242a8_level0_row11\" class=\"row_heading level0 row11\" >speed</th>\n",
              "      <th id=\"T_242a8_level1_row11\" class=\"row_heading level1 row11\" >Subtotal</th>\n",
              "      <td id=\"T_242a8_row11_col0\" class=\"data row11 col0\" >0.0209</td>\n",
              "      <td id=\"T_242a8_row11_col1\" class=\"data row11 col1\" >0.7813</td>\n",
              "      <td id=\"T_242a8_row11_col2\" class=\"data row11 col2\" >$ 0.80</td>\n",
              "    </tr>\n",
              "    <tr>\n",
              "      <th id=\"T_242a8_level0_row12\" class=\"row_heading level0 row12\" >Grand Total</th>\n",
              "      <th id=\"T_242a8_level1_row12\" class=\"row_heading level1 row12\" ></th>\n",
              "      <td id=\"T_242a8_row12_col0\" class=\"data row12 col0\" >0.1169</td>\n",
              "      <td id=\"T_242a8_row12_col1\" class=\"data row12 col1\" >0.8088</td>\n",
              "      <td id=\"T_242a8_row12_col2\" class=\"data row12 col2\" >$ 0.93</td>\n",
              "    </tr>\n",
              "  </tbody>\n",
              "</table>\n"
            ]
          },
          "metadata": {}
        }
      ]
    },
    {
      "cell_type": "markdown",
      "source": [
        "<br><a name=\"id-results-summary\"></a>\n",
        "# **RESULTS SUMMARY**"
      ],
      "metadata": {
        "id": "CirRLFSVg17I"
      }
    },
    {
      "cell_type": "markdown",
      "source": [
        "## Combine all"
      ],
      "metadata": {
        "id": "cWQGzgIIhBBa"
      }
    },
    {
      "cell_type": "code",
      "source": [
        "# 1. Remove test_type from costs\n",
        "# Just take the existing costs_df and group by model_name\n",
        "costs_df_simple = costs_df.groupby('model_name', observed=True).sum()\n",
        "\n",
        "# 2. Combine speed, capaiblity, costs\n",
        "# Create new DataFrame with safe merging approach\n",
        "full_summary_df = pd.DataFrame({\n",
        "    'model_name': MODEL_NAME_SORT\n",
        "}).set_index('model_name').join(\n",
        "    speed_summary_df[['Median Speed']],\n",
        "    how='left'\n",
        ").join(\n",
        "    cap_summary_df[['Correct %']] * 100,\n",
        "    how='left'\n",
        ").join(\n",
        "    costs_df_simple[['Input Token Cost', 'Output Token Cost', 'Total Cost']],\n",
        "    how='left'\n",
        ").reset_index()\n",
        "\n",
        "# Add Styling\n",
        "full_summary_df_styled = (\n",
        "    full_summary_df.style\n",
        "    .set_caption(\"Complete Model Performance Summary\")\n",
        "    .set_table_styles([{'selector': 'caption', 'props': [('text-align', 'left')]}])\n",
        "    .format({\n",
        "        'Median Speed': '{:.2f}',\n",
        "        'Correct %': '{:.0f} %',\n",
        "        'Total Cost': '$ {:.2f}'},\n",
        "    )\n",
        "    .background_gradient(cmap='YlOrRd', subset=['Total Cost'])\n",
        "    .hide(axis='index')\n",
        ")\n",
        "\n",
        "all_costs = f\"${costs_df_simple['Total Cost'].sum():.2f} US\"\n",
        "\n",
        "\n",
        "display(full_summary_df_styled)\n",
        "print(f'Total Cost of Experiement: {all_costs}')"
      ],
      "metadata": {
        "colab": {
          "base_uri": "https://localhost:8080/",
          "height": 241
        },
        "id": "2gaBEtJjhClN",
        "outputId": "5e686278-000f-4b28-a927-e2948a1c12ba"
      },
      "execution_count": null,
      "outputs": [
        {
          "output_type": "display_data",
          "data": {
            "text/plain": [
              "<pandas.io.formats.style.Styler at 0x79a363ca4c10>"
            ],
            "text/html": [
              "<style type=\"text/css\">\n",
              "#T_3548e caption {\n",
              "  text-align: left;\n",
              "}\n",
              "#T_3548e_row0_col5 {\n",
              "  background-color: #800026;\n",
              "  color: #f1f1f1;\n",
              "}\n",
              "#T_3548e_row1_col5 {\n",
              "  background-color: #ffffcc;\n",
              "  color: #000000;\n",
              "}\n",
              "#T_3548e_row2_col5 {\n",
              "  background-color: #fff9be;\n",
              "  color: #000000;\n",
              "}\n",
              "#T_3548e_row3_col5, #T_3548e_row4_col5 {\n",
              "  background-color: #fee288;\n",
              "  color: #000000;\n",
              "}\n",
              "</style>\n",
              "<table id=\"T_3548e\" class=\"dataframe\">\n",
              "  <caption>Complete Model Performance Summary</caption>\n",
              "  <thead>\n",
              "    <tr>\n",
              "      <th id=\"T_3548e_level0_col0\" class=\"col_heading level0 col0\" >model_name</th>\n",
              "      <th id=\"T_3548e_level0_col1\" class=\"col_heading level0 col1\" >Median Speed</th>\n",
              "      <th id=\"T_3548e_level0_col2\" class=\"col_heading level0 col2\" >Correct %</th>\n",
              "      <th id=\"T_3548e_level0_col3\" class=\"col_heading level0 col3\" >Input Token Cost</th>\n",
              "      <th id=\"T_3548e_level0_col4\" class=\"col_heading level0 col4\" >Output Token Cost</th>\n",
              "      <th id=\"T_3548e_level0_col5\" class=\"col_heading level0 col5\" >Total Cost</th>\n",
              "    </tr>\n",
              "  </thead>\n",
              "  <tbody>\n",
              "    <tr>\n",
              "      <td id=\"T_3548e_row0_col0\" class=\"data row0 col0\" >Opus 3 (Feb 2024)</td>\n",
              "      <td id=\"T_3548e_row0_col1\" class=\"data row0 col1\" >25.51</td>\n",
              "      <td id=\"T_3548e_row0_col2\" class=\"data row0 col2\" >94 %</td>\n",
              "      <td id=\"T_3548e_row0_col3\" class=\"data row0 col3\" >0.079500</td>\n",
              "      <td id=\"T_3548e_row0_col4\" class=\"data row0 col4\" >0.540825</td>\n",
              "      <td id=\"T_3548e_row0_col5\" class=\"data row0 col5\" >$ 0.62</td>\n",
              "    </tr>\n",
              "    <tr>\n",
              "      <td id=\"T_3548e_row1_col0\" class=\"data row1 col0\" >Haiku 3 (Mar 2024)</td>\n",
              "      <td id=\"T_3548e_row1_col1\" class=\"data row1 col1\" >97.37</td>\n",
              "      <td id=\"T_3548e_row1_col2\" class=\"data row1 col2\" >88 %</td>\n",
              "      <td id=\"T_3548e_row1_col3\" class=\"data row1 col3\" >0.001325</td>\n",
              "      <td id=\"T_3548e_row1_col4\" class=\"data row1 col4\" >0.008008</td>\n",
              "      <td id=\"T_3548e_row1_col5\" class=\"data row1 col5\" >$ 0.01</td>\n",
              "    </tr>\n",
              "    <tr>\n",
              "      <td id=\"T_3548e_row2_col0\" class=\"data row2 col0\" >Haiku 3.5 (Oct 2024)</td>\n",
              "      <td id=\"T_3548e_row2_col1\" class=\"data row2 col1\" >46.22</td>\n",
              "      <td id=\"T_3548e_row2_col2\" class=\"data row2 col2\" >26 %</td>\n",
              "      <td id=\"T_3548e_row2_col3\" class=\"data row2 col3\" >0.004240</td>\n",
              "      <td id=\"T_3548e_row2_col4\" class=\"data row2 col4\" >0.030596</td>\n",
              "      <td id=\"T_3548e_row2_col5\" class=\"data row2 col5\" >$ 0.03</td>\n",
              "    </tr>\n",
              "    <tr>\n",
              "      <td id=\"T_3548e_row3_col0\" class=\"data row3 col0\" >Sonnet 3.5 (Jun 2024)</td>\n",
              "      <td id=\"T_3548e_row3_col1\" class=\"data row3 col1\" >56.16</td>\n",
              "      <td id=\"T_3548e_row3_col2\" class=\"data row3 col2\" >74 %</td>\n",
              "      <td id=\"T_3548e_row3_col3\" class=\"data row3 col3\" >0.015900</td>\n",
              "      <td id=\"T_3548e_row3_col4\" class=\"data row3 col4\" >0.114435</td>\n",
              "      <td id=\"T_3548e_row3_col5\" class=\"data row3 col5\" >$ 0.13</td>\n",
              "    </tr>\n",
              "    <tr>\n",
              "      <td id=\"T_3548e_row4_col0\" class=\"data row4 col0\" >Sonnet 3.5 (Oct 2024)</td>\n",
              "      <td id=\"T_3548e_row4_col1\" class=\"data row4 col1\" >53.98</td>\n",
              "      <td id=\"T_3548e_row4_col2\" class=\"data row4 col2\" >8 %</td>\n",
              "      <td id=\"T_3548e_row4_col3\" class=\"data row4 col3\" >0.015900</td>\n",
              "      <td id=\"T_3548e_row4_col4\" class=\"data row4 col4\" >0.114975</td>\n",
              "      <td id=\"T_3548e_row4_col5\" class=\"data row4 col5\" >$ 0.13</td>\n",
              "    </tr>\n",
              "  </tbody>\n",
              "</table>\n"
            ]
          },
          "metadata": {}
        },
        {
          "output_type": "stream",
          "name": "stdout",
          "text": [
            "Total Cost of Experiement: $0.93 US\n"
          ]
        }
      ]
    },
    {
      "cell_type": "markdown",
      "source": [
        "## Visualise all"
      ],
      "metadata": {
        "id": "N_z1qzUdhE9t"
      }
    },
    {
      "cell_type": "code",
      "source": [
        "# VISUAL: Capaiblity v Speed v Cost\n",
        "full_summary_fig_title = f'All Results: Capability vs Speed vs Total Cost'\n",
        "\n",
        "# 1. Create Base Visualization\n",
        "full_summary_fig = px.scatter(\n",
        "    # Core Data Parameters\n",
        "    full_summary_df, x='Median Speed', y='Correct %',\n",
        "    # Visual Identity Parameters\n",
        "    color='model_name',\n",
        "    size='Total Cost',\n",
        "    size_max = 50,\n",
        "    color_discrete_sequence=viz_custom['anthrop_colours'],\n",
        "    # Add text display\n",
        "    text='Total Cost',\n",
        "    # Plot Structure Parameters\n",
        "    title=full_summary_fig_title,\n",
        "    labels={\n",
        "        'Median Speed': 'Median Speed (tokens per second)',\n",
        "        'Correct %': 'Correct Responses (%)'\n",
        "    },\n",
        "    width=900, height=580\n",
        ")\n",
        "\n",
        "# Simple layout update with only essential parameters\n",
        "full_summary_fig.update_layout(\n",
        "    yaxis=dict( scaleanchor='x', scaleratio=1, ticksuffix='% ', range=[0, 100] ),\n",
        "    font=dict(color=viz_custom['font_colour']),\n",
        "    plot_bgcolor=viz_custom['plot_bgcolour'],\n",
        "    margin=dict(t=100, l=90, r=300, b=80),\n",
        "    legend=dict(title=None),\n",
        "    annotations=[\n",
        "        dict(\n",
        "            text=f'Notes<br>• x-axis: Speed test results (prompt 1)<br>• y-axis: Capability results (prompt 2)<br>• Each test run x50 times per model<br><br>Experiment Summary<br>• Total Runs: {len(MODELS)} x 2 x {TOTAL_RUNS} = 500<br>• Prompt 1: concise text explanation<br>• Prompt 2: math calculation<br>• Total Cost: {all_costs}',\n",
        "            # Position\n",
        "            xref=\"paper\", yref=\"paper\", x=1.52, y=0.0, showarrow=False, align=\"left\", font=dict(size=12)\n",
        "        )\n",
        "    ]\n",
        ")\n",
        "\n",
        "# Add text positioning configuration\n",
        "full_summary_fig.update_traces(\n",
        "    texttemplate='$%{text:.2f}',\n",
        "    textposition='middle right',\n",
        "    textfont=dict(size=13)\n",
        ")\n",
        "\n",
        "# Output\n",
        "# full_summary_fig.write_html('speed_cap_cost_fig.html')\n",
        "# full_summary_fig.write_image('speed_cap_cost_fig.svg')\n",
        "full_summary_fig.show()"
      ],
      "metadata": {
        "colab": {
          "base_uri": "https://localhost:8080/",
          "height": 597
        },
        "id": "xdR6vqSKhOyT",
        "outputId": "a434a8c8-1ba2-4b06-f800-690d148ada02"
      },
      "execution_count": null,
      "outputs": [
        {
          "output_type": "display_data",
          "data": {
            "text/html": [
              "<html>\n",
              "<head><meta charset=\"utf-8\" /></head>\n",
              "<body>\n",
              "    <div>            <script src=\"https://cdnjs.cloudflare.com/ajax/libs/mathjax/2.7.5/MathJax.js?config=TeX-AMS-MML_SVG\"></script><script type=\"text/javascript\">if (window.MathJax && window.MathJax.Hub && window.MathJax.Hub.Config) {window.MathJax.Hub.Config({SVG: {font: \"STIX-Web\"}});}</script>                <script type=\"text/javascript\">window.PlotlyConfig = {MathJaxConfig: 'local'};</script>\n",
              "        <script charset=\"utf-8\" src=\"https://cdn.plot.ly/plotly-2.35.2.min.js\"></script>                <div id=\"b1f0039b-de2b-4a56-9334-13d10baf5fd5\" class=\"plotly-graph-div\" style=\"height:580px; width:900px;\"></div>            <script type=\"text/javascript\">                                    window.PLOTLYENV=window.PLOTLYENV || {};                                    if (document.getElementById(\"b1f0039b-de2b-4a56-9334-13d10baf5fd5\")) {                    Plotly.newPlot(                        \"b1f0039b-de2b-4a56-9334-13d10baf5fd5\",                        [{\"hovertemplate\":\"model_name=Opus 3 (Feb 2024)\\u003cbr\\u003eMedian Speed (tokens per second)=%{x}\\u003cbr\\u003eCorrect Responses (%)=%{y}\\u003cbr\\u003eTotal Cost=%{text}\\u003cextra\\u003e\\u003c\\u002fextra\\u003e\",\"legendgroup\":\"Opus 3 (Feb 2024)\",\"marker\":{\"color\":\"#41668C\",\"size\":[0.6203249999999999],\"sizemode\":\"area\",\"sizeref\":0.00024812999999999994,\"symbol\":\"circle\"},\"mode\":\"markers+text\",\"name\":\"Opus 3 (Feb 2024)\",\"orientation\":\"v\",\"showlegend\":true,\"text\":[0.6203249999999999],\"x\":[25.507409184051077],\"xaxis\":\"x\",\"y\":[94.0],\"yaxis\":\"y\",\"type\":\"scatter\",\"textfont\":{\"size\":13},\"textposition\":\"middle right\",\"texttemplate\":\"$%{text:.2f}\"},{\"hovertemplate\":\"model_name=Haiku 3 (Mar 2024)\\u003cbr\\u003eMedian Speed (tokens per second)=%{x}\\u003cbr\\u003eCorrect Responses (%)=%{y}\\u003cbr\\u003eTotal Cost=%{text}\\u003cextra\\u003e\\u003c\\u002fextra\\u003e\",\"legendgroup\":\"Haiku 3 (Mar 2024)\",\"marker\":{\"color\":\"#4A366F\",\"size\":[0.0093325],\"sizemode\":\"area\",\"sizeref\":0.00024812999999999994,\"symbol\":\"circle\"},\"mode\":\"markers+text\",\"name\":\"Haiku 3 (Mar 2024)\",\"orientation\":\"v\",\"showlegend\":true,\"text\":[0.0093325],\"x\":[97.37252224783938],\"xaxis\":\"x\",\"y\":[88.0],\"yaxis\":\"y\",\"type\":\"scatter\",\"textfont\":{\"size\":13},\"textposition\":\"middle right\",\"texttemplate\":\"$%{text:.2f}\"},{\"hovertemplate\":\"model_name=Haiku 3.5 (Oct 2024)\\u003cbr\\u003eMedian Speed (tokens per second)=%{x}\\u003cbr\\u003eCorrect Responses (%)=%{y}\\u003cbr\\u003eTotal Cost=%{text}\\u003cextra\\u003e\\u003c\\u002fextra\\u003e\",\"legendgroup\":\"Haiku 3.5 (Oct 2024)\",\"marker\":{\"color\":\"#8778AB\",\"size\":[0.034836],\"sizemode\":\"area\",\"sizeref\":0.00024812999999999994,\"symbol\":\"circle\"},\"mode\":\"markers+text\",\"name\":\"Haiku 3.5 (Oct 2024)\",\"orientation\":\"v\",\"showlegend\":true,\"text\":[0.034836],\"x\":[46.22415462389436],\"xaxis\":\"x\",\"y\":[26.0],\"yaxis\":\"y\",\"type\":\"scatter\",\"textfont\":{\"size\":13},\"textposition\":\"middle right\",\"texttemplate\":\"$%{text:.2f}\"},{\"hovertemplate\":\"model_name=Sonnet 3.5 (Jun 2024)\\u003cbr\\u003eMedian Speed (tokens per second)=%{x}\\u003cbr\\u003eCorrect Responses (%)=%{y}\\u003cbr\\u003eTotal Cost=%{text}\\u003cextra\\u003e\\u003c\\u002fextra\\u003e\",\"legendgroup\":\"Sonnet 3.5 (Jun 2024)\",\"marker\":{\"color\":\"#656565\",\"size\":[0.130335],\"sizemode\":\"area\",\"sizeref\":0.00024812999999999994,\"symbol\":\"circle\"},\"mode\":\"markers+text\",\"name\":\"Sonnet 3.5 (Jun 2024)\",\"orientation\":\"v\",\"showlegend\":true,\"text\":[0.130335],\"x\":[56.15699880211083],\"xaxis\":\"x\",\"y\":[74.0],\"yaxis\":\"y\",\"type\":\"scatter\",\"textfont\":{\"size\":13},\"textposition\":\"middle right\",\"texttemplate\":\"$%{text:.2f}\"},{\"hovertemplate\":\"model_name=Sonnet 3.5 (Oct 2024)\\u003cbr\\u003eMedian Speed (tokens per second)=%{x}\\u003cbr\\u003eCorrect Responses (%)=%{y}\\u003cbr\\u003eTotal Cost=%{text}\\u003cextra\\u003e\\u003c\\u002fextra\\u003e\",\"legendgroup\":\"Sonnet 3.5 (Oct 2024)\",\"marker\":{\"color\":\"#D09B74\",\"size\":[0.13087500000000002],\"sizemode\":\"area\",\"sizeref\":0.00024812999999999994,\"symbol\":\"circle\"},\"mode\":\"markers+text\",\"name\":\"Sonnet 3.5 (Oct 2024)\",\"orientation\":\"v\",\"showlegend\":true,\"text\":[0.13087500000000002],\"x\":[53.98000173526043],\"xaxis\":\"x\",\"y\":[8.0],\"yaxis\":\"y\",\"type\":\"scatter\",\"textfont\":{\"size\":13},\"textposition\":\"middle right\",\"texttemplate\":\"$%{text:.2f}\"}],                        {\"template\":{\"data\":{\"histogram2dcontour\":[{\"type\":\"histogram2dcontour\",\"colorbar\":{\"outlinewidth\":0,\"ticks\":\"\"},\"colorscale\":[[0.0,\"#0d0887\"],[0.1111111111111111,\"#46039f\"],[0.2222222222222222,\"#7201a8\"],[0.3333333333333333,\"#9c179e\"],[0.4444444444444444,\"#bd3786\"],[0.5555555555555556,\"#d8576b\"],[0.6666666666666666,\"#ed7953\"],[0.7777777777777778,\"#fb9f3a\"],[0.8888888888888888,\"#fdca26\"],[1.0,\"#f0f921\"]]}],\"choropleth\":[{\"type\":\"choropleth\",\"colorbar\":{\"outlinewidth\":0,\"ticks\":\"\"}}],\"histogram2d\":[{\"type\":\"histogram2d\",\"colorbar\":{\"outlinewidth\":0,\"ticks\":\"\"},\"colorscale\":[[0.0,\"#0d0887\"],[0.1111111111111111,\"#46039f\"],[0.2222222222222222,\"#7201a8\"],[0.3333333333333333,\"#9c179e\"],[0.4444444444444444,\"#bd3786\"],[0.5555555555555556,\"#d8576b\"],[0.6666666666666666,\"#ed7953\"],[0.7777777777777778,\"#fb9f3a\"],[0.8888888888888888,\"#fdca26\"],[1.0,\"#f0f921\"]]}],\"heatmap\":[{\"type\":\"heatmap\",\"colorbar\":{\"outlinewidth\":0,\"ticks\":\"\"},\"colorscale\":[[0.0,\"#0d0887\"],[0.1111111111111111,\"#46039f\"],[0.2222222222222222,\"#7201a8\"],[0.3333333333333333,\"#9c179e\"],[0.4444444444444444,\"#bd3786\"],[0.5555555555555556,\"#d8576b\"],[0.6666666666666666,\"#ed7953\"],[0.7777777777777778,\"#fb9f3a\"],[0.8888888888888888,\"#fdca26\"],[1.0,\"#f0f921\"]]}],\"heatmapgl\":[{\"type\":\"heatmapgl\",\"colorbar\":{\"outlinewidth\":0,\"ticks\":\"\"},\"colorscale\":[[0.0,\"#0d0887\"],[0.1111111111111111,\"#46039f\"],[0.2222222222222222,\"#7201a8\"],[0.3333333333333333,\"#9c179e\"],[0.4444444444444444,\"#bd3786\"],[0.5555555555555556,\"#d8576b\"],[0.6666666666666666,\"#ed7953\"],[0.7777777777777778,\"#fb9f3a\"],[0.8888888888888888,\"#fdca26\"],[1.0,\"#f0f921\"]]}],\"contourcarpet\":[{\"type\":\"contourcarpet\",\"colorbar\":{\"outlinewidth\":0,\"ticks\":\"\"}}],\"contour\":[{\"type\":\"contour\",\"colorbar\":{\"outlinewidth\":0,\"ticks\":\"\"},\"colorscale\":[[0.0,\"#0d0887\"],[0.1111111111111111,\"#46039f\"],[0.2222222222222222,\"#7201a8\"],[0.3333333333333333,\"#9c179e\"],[0.4444444444444444,\"#bd3786\"],[0.5555555555555556,\"#d8576b\"],[0.6666666666666666,\"#ed7953\"],[0.7777777777777778,\"#fb9f3a\"],[0.8888888888888888,\"#fdca26\"],[1.0,\"#f0f921\"]]}],\"surface\":[{\"type\":\"surface\",\"colorbar\":{\"outlinewidth\":0,\"ticks\":\"\"},\"colorscale\":[[0.0,\"#0d0887\"],[0.1111111111111111,\"#46039f\"],[0.2222222222222222,\"#7201a8\"],[0.3333333333333333,\"#9c179e\"],[0.4444444444444444,\"#bd3786\"],[0.5555555555555556,\"#d8576b\"],[0.6666666666666666,\"#ed7953\"],[0.7777777777777778,\"#fb9f3a\"],[0.8888888888888888,\"#fdca26\"],[1.0,\"#f0f921\"]]}],\"mesh3d\":[{\"type\":\"mesh3d\",\"colorbar\":{\"outlinewidth\":0,\"ticks\":\"\"}}],\"scatter\":[{\"fillpattern\":{\"fillmode\":\"overlay\",\"size\":10,\"solidity\":0.2},\"type\":\"scatter\"}],\"parcoords\":[{\"type\":\"parcoords\",\"line\":{\"colorbar\":{\"outlinewidth\":0,\"ticks\":\"\"}}}],\"scatterpolargl\":[{\"type\":\"scatterpolargl\",\"marker\":{\"colorbar\":{\"outlinewidth\":0,\"ticks\":\"\"}}}],\"bar\":[{\"error_x\":{\"color\":\"#2a3f5f\"},\"error_y\":{\"color\":\"#2a3f5f\"},\"marker\":{\"line\":{\"color\":\"#E5ECF6\",\"width\":0.5},\"pattern\":{\"fillmode\":\"overlay\",\"size\":10,\"solidity\":0.2}},\"type\":\"bar\"}],\"scattergeo\":[{\"type\":\"scattergeo\",\"marker\":{\"colorbar\":{\"outlinewidth\":0,\"ticks\":\"\"}}}],\"scatterpolar\":[{\"type\":\"scatterpolar\",\"marker\":{\"colorbar\":{\"outlinewidth\":0,\"ticks\":\"\"}}}],\"histogram\":[{\"marker\":{\"pattern\":{\"fillmode\":\"overlay\",\"size\":10,\"solidity\":0.2}},\"type\":\"histogram\"}],\"scattergl\":[{\"type\":\"scattergl\",\"marker\":{\"colorbar\":{\"outlinewidth\":0,\"ticks\":\"\"}}}],\"scatter3d\":[{\"type\":\"scatter3d\",\"line\":{\"colorbar\":{\"outlinewidth\":0,\"ticks\":\"\"}},\"marker\":{\"colorbar\":{\"outlinewidth\":0,\"ticks\":\"\"}}}],\"scattermapbox\":[{\"type\":\"scattermapbox\",\"marker\":{\"colorbar\":{\"outlinewidth\":0,\"ticks\":\"\"}}}],\"scatterternary\":[{\"type\":\"scatterternary\",\"marker\":{\"colorbar\":{\"outlinewidth\":0,\"ticks\":\"\"}}}],\"scattercarpet\":[{\"type\":\"scattercarpet\",\"marker\":{\"colorbar\":{\"outlinewidth\":0,\"ticks\":\"\"}}}],\"carpet\":[{\"aaxis\":{\"endlinecolor\":\"#2a3f5f\",\"gridcolor\":\"white\",\"linecolor\":\"white\",\"minorgridcolor\":\"white\",\"startlinecolor\":\"#2a3f5f\"},\"baxis\":{\"endlinecolor\":\"#2a3f5f\",\"gridcolor\":\"white\",\"linecolor\":\"white\",\"minorgridcolor\":\"white\",\"startlinecolor\":\"#2a3f5f\"},\"type\":\"carpet\"}],\"table\":[{\"cells\":{\"fill\":{\"color\":\"#EBF0F8\"},\"line\":{\"color\":\"white\"}},\"header\":{\"fill\":{\"color\":\"#C8D4E3\"},\"line\":{\"color\":\"white\"}},\"type\":\"table\"}],\"barpolar\":[{\"marker\":{\"line\":{\"color\":\"#E5ECF6\",\"width\":0.5},\"pattern\":{\"fillmode\":\"overlay\",\"size\":10,\"solidity\":0.2}},\"type\":\"barpolar\"}],\"pie\":[{\"automargin\":true,\"type\":\"pie\"}]},\"layout\":{\"autotypenumbers\":\"strict\",\"colorway\":[\"#636efa\",\"#EF553B\",\"#00cc96\",\"#ab63fa\",\"#FFA15A\",\"#19d3f3\",\"#FF6692\",\"#B6E880\",\"#FF97FF\",\"#FECB52\"],\"font\":{\"color\":\"#2a3f5f\"},\"hovermode\":\"closest\",\"hoverlabel\":{\"align\":\"left\"},\"paper_bgcolor\":\"white\",\"plot_bgcolor\":\"#E5ECF6\",\"polar\":{\"bgcolor\":\"#E5ECF6\",\"angularaxis\":{\"gridcolor\":\"white\",\"linecolor\":\"white\",\"ticks\":\"\"},\"radialaxis\":{\"gridcolor\":\"white\",\"linecolor\":\"white\",\"ticks\":\"\"}},\"ternary\":{\"bgcolor\":\"#E5ECF6\",\"aaxis\":{\"gridcolor\":\"white\",\"linecolor\":\"white\",\"ticks\":\"\"},\"baxis\":{\"gridcolor\":\"white\",\"linecolor\":\"white\",\"ticks\":\"\"},\"caxis\":{\"gridcolor\":\"white\",\"linecolor\":\"white\",\"ticks\":\"\"}},\"coloraxis\":{\"colorbar\":{\"outlinewidth\":0,\"ticks\":\"\"}},\"colorscale\":{\"sequential\":[[0.0,\"#0d0887\"],[0.1111111111111111,\"#46039f\"],[0.2222222222222222,\"#7201a8\"],[0.3333333333333333,\"#9c179e\"],[0.4444444444444444,\"#bd3786\"],[0.5555555555555556,\"#d8576b\"],[0.6666666666666666,\"#ed7953\"],[0.7777777777777778,\"#fb9f3a\"],[0.8888888888888888,\"#fdca26\"],[1.0,\"#f0f921\"]],\"sequentialminus\":[[0.0,\"#0d0887\"],[0.1111111111111111,\"#46039f\"],[0.2222222222222222,\"#7201a8\"],[0.3333333333333333,\"#9c179e\"],[0.4444444444444444,\"#bd3786\"],[0.5555555555555556,\"#d8576b\"],[0.6666666666666666,\"#ed7953\"],[0.7777777777777778,\"#fb9f3a\"],[0.8888888888888888,\"#fdca26\"],[1.0,\"#f0f921\"]],\"diverging\":[[0,\"#8e0152\"],[0.1,\"#c51b7d\"],[0.2,\"#de77ae\"],[0.3,\"#f1b6da\"],[0.4,\"#fde0ef\"],[0.5,\"#f7f7f7\"],[0.6,\"#e6f5d0\"],[0.7,\"#b8e186\"],[0.8,\"#7fbc41\"],[0.9,\"#4d9221\"],[1,\"#276419\"]]},\"xaxis\":{\"gridcolor\":\"white\",\"linecolor\":\"white\",\"ticks\":\"\",\"title\":{\"standoff\":15},\"zerolinecolor\":\"white\",\"automargin\":true,\"zerolinewidth\":2},\"yaxis\":{\"gridcolor\":\"white\",\"linecolor\":\"white\",\"ticks\":\"\",\"title\":{\"standoff\":15},\"zerolinecolor\":\"white\",\"automargin\":true,\"zerolinewidth\":2},\"scene\":{\"xaxis\":{\"backgroundcolor\":\"#E5ECF6\",\"gridcolor\":\"white\",\"linecolor\":\"white\",\"showbackground\":true,\"ticks\":\"\",\"zerolinecolor\":\"white\",\"gridwidth\":2},\"yaxis\":{\"backgroundcolor\":\"#E5ECF6\",\"gridcolor\":\"white\",\"linecolor\":\"white\",\"showbackground\":true,\"ticks\":\"\",\"zerolinecolor\":\"white\",\"gridwidth\":2},\"zaxis\":{\"backgroundcolor\":\"#E5ECF6\",\"gridcolor\":\"white\",\"linecolor\":\"white\",\"showbackground\":true,\"ticks\":\"\",\"zerolinecolor\":\"white\",\"gridwidth\":2}},\"shapedefaults\":{\"line\":{\"color\":\"#2a3f5f\"}},\"annotationdefaults\":{\"arrowcolor\":\"#2a3f5f\",\"arrowhead\":0,\"arrowwidth\":1},\"geo\":{\"bgcolor\":\"white\",\"landcolor\":\"#E5ECF6\",\"subunitcolor\":\"white\",\"showland\":true,\"showlakes\":true,\"lakecolor\":\"white\"},\"title\":{\"x\":0.05},\"mapbox\":{\"style\":\"light\"}}},\"xaxis\":{\"anchor\":\"y\",\"domain\":[0.0,1.0],\"title\":{\"text\":\"Median Speed (tokens per second)\"}},\"yaxis\":{\"anchor\":\"x\",\"domain\":[0.0,1.0],\"title\":{\"text\":\"Correct Responses (%)\"},\"scaleanchor\":\"x\",\"scaleratio\":1,\"ticksuffix\":\"% \",\"range\":[0,100]},\"legend\":{\"title\":{},\"tracegroupgap\":0,\"itemsizing\":\"constant\"},\"title\":{\"text\":\"All Results: Capability vs Speed vs Total Cost\"},\"height\":580,\"width\":900,\"font\":{\"color\":\"#141413\"},\"margin\":{\"t\":100,\"l\":90,\"r\":300,\"b\":80},\"plot_bgcolor\":\"#F0EEE6\",\"annotations\":[{\"align\":\"left\",\"font\":{\"size\":12},\"showarrow\":false,\"text\":\"Notes\\u003cbr\\u003e• x-axis: Speed test results (prompt 1)\\u003cbr\\u003e• y-axis: Capability results (prompt 2)\\u003cbr\\u003e• Each test run x50 times per model\\u003cbr\\u003e\\u003cbr\\u003eExperiment Summary\\u003cbr\\u003e• Total Runs: 5 x 2 x 50 = 500\\u003cbr\\u003e• Prompt 1: concise text explanation\\u003cbr\\u003e• Prompt 2: math calculation\\u003cbr\\u003e• Total Cost: $0.93 US\",\"x\":1.52,\"xref\":\"paper\",\"y\":0.0,\"yref\":\"paper\"}]},                        {\"responsive\": true}                    ).then(function(){\n",
              "                            \n",
              "var gd = document.getElementById('b1f0039b-de2b-4a56-9334-13d10baf5fd5');\n",
              "var x = new MutationObserver(function (mutations, observer) {{\n",
              "        var display = window.getComputedStyle(gd).display;\n",
              "        if (!display || display === 'none') {{\n",
              "            console.log([gd, 'removed!']);\n",
              "            Plotly.purge(gd);\n",
              "            observer.disconnect();\n",
              "        }}\n",
              "}});\n",
              "\n",
              "// Listen for the removal of the full notebook cells\n",
              "var notebookContainer = gd.closest('#notebook-container');\n",
              "if (notebookContainer) {{\n",
              "    x.observe(notebookContainer, {childList: true});\n",
              "}}\n",
              "\n",
              "// Listen for the clearing of the current output cell\n",
              "var outputEl = gd.closest('.output');\n",
              "if (outputEl) {{\n",
              "    x.observe(outputEl, {childList: true});\n",
              "}}\n",
              "\n",
              "                        })                };                            </script>        </div>\n",
              "</body>\n",
              "</html>"
            ]
          },
          "metadata": {}
        }
      ]
    },
    {
      "cell_type": "markdown",
      "source": [
        "# Viz Check"
      ],
      "metadata": {
        "id": "3ix278FkhT-T"
      }
    },
    {
      "cell_type": "code",
      "source": [
        "print('(uncomment to see everything together.)\\n')\n",
        "\n",
        "# print(wrap_my_prompt(SPEED_PROMPT, 'speed'))\n",
        "# print(\"\\n\")\n",
        "# print(wrap_my_prompt(CAPABILITY_PROMPT['prompt'], 'capability'))\n",
        "# print(\"\\n\\n\")\n",
        "\n",
        "# display(speed_summary_styled)\n",
        "# print(\"\\n\\n\")\n",
        "# display(cap_summary_styled)\n",
        "# print(\"\\n\\n\")\n",
        "# display(costs_df_styled)\n",
        "# print(\"\\n\\n\")\n",
        "# display(full_summary_df_styled)\n",
        "# print(\"\\n\\n\")\n",
        "# speed_line_fig.show()\n",
        "# print(\"\\n\\n\")\n",
        "# speed_strip_fig.show()\n",
        "# print(\"\\n\\n\")\n",
        "# cap_bar_fig.show()\n",
        "# print(\"\\n\\n\")\n",
        "# full_summary_fig.show()\n",
        "# print(\"\\n\\n\")\n",
        "\n"
      ],
      "metadata": {
        "colab": {
          "base_uri": "https://localhost:8080/"
        },
        "id": "rD39Cl-LhXz1",
        "outputId": "fbec9139-a4d0-4e76-d1e9-6cf100c1cb06"
      },
      "execution_count": null,
      "outputs": [
        {
          "output_type": "stream",
          "name": "stdout",
          "text": [
            "(uncomment to see everything together.)\n",
            "\n"
          ]
        }
      ]
    }
  ]
}