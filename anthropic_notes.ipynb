{
  "nbformat": 4,
  "nbformat_minor": 0,
  "metadata": {
    "colab": {
      "provenance": [],
      "authorship_tag": "ABX9TyOQKUKuvWMNl/eB8O50XjlJ",
      "include_colab_link": true
    },
    "kernelspec": {
      "name": "python3",
      "display_name": "Python 3"
    },
    "language_info": {
      "name": "python"
    }
  },
  "cells": [
    {
      "cell_type": "markdown",
      "metadata": {
        "id": "view-in-github",
        "colab_type": "text"
      },
      "source": [
        "<a href=\"https://colab.research.google.com/github/michellepace/anthropic-model-compare/blob/main/anthropic_notes.ipynb\" target=\"_parent\"><img src=\"https://colab.research.google.com/assets/colab-badge.svg\" alt=\"Open In Colab\"/></a>"
      ]
    },
    {
      "cell_type": "markdown",
      "source": [
        "<font size=\"6\"><b>Anthropic GitHub Courses — Notes</b></font>\n",
        "\n",
        "<br>\n",
        "<br>\n",
        "\n",
        "<b>A Quick Reference.</b>\n",
        "\n",
        "---\n",
        "\n",
        "Created from this excellent resource <a href=\"https://github.com/anthropics/courses\" target=\"_blank\">github.com/anthropics/courses</a>. Includes in short form what stood out as useful to refer back to, later.\n",
        "\n",
        "<br>\n",
        "\n",
        "**Contents**\n",
        "1. <a href=\"#id-initialise\">Initialise</a></li>\n",
        "1. <a href=\"#id-style\">Style — look & feel</a></li>\n",
        "1. <a href=\"#id-font\">Font — Family & Scale</a></li>\n",
        "1. <a href=\"#id-colour\">Colour — Types, Steps & Gradients</a></li>\n",
        "1. <a href=\"#id-together\">All Together</a></li>\n",
        "1. <a href=\"#id-appendix\">Appendix</a>"
      ],
      "metadata": {
        "id": "TkedSy3xxn1P"
      }
    },
    {
      "cell_type": "code",
      "execution_count": null,
      "metadata": {
        "id": "MGJkWfJYxMyp"
      },
      "outputs": [],
      "source": []
    }
  ]
}